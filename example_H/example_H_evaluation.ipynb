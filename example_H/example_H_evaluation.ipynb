{
 "cells": [
  {
   "cell_type": "markdown",
   "id": "d73e0c20",
   "metadata": {},
   "source": [
    "Here, the performance of the lookup tables optimized in the \"example_F_lookup_training_test.ipynb\" on state stabilization for longer time durations can be tested."
   ]
  },
  {
   "cell_type": "code",
   "execution_count": 49,
   "id": "eef96dae",
   "metadata": {},
   "outputs": [],
   "source": [
    "# ruff: noqa\n",
    "import sys, os\n",
    "sys.path.append(os.path.abspath(\"./../feedback-grape\"))\n",
    "sys.path.append(os.path.abspath(\"./../\"))\n",
    "\n",
    "# ruff: noqa\n",
    "from feedback_grape.utils.operators import identity\n",
    "from feedback_grape.utils.states import coherent\n",
    "import jax.numpy as jnp\n",
    "import jax\n",
    "from feedback_grape.utils.fidelity import ket2dm, fidelity\n",
    "\n",
    "jax.config.update(\"jax_enable_x64\", True)\n",
    "\n",
    "# Test parameters\n",
    "N_timesteps = 1000 # Number of time steps to test\n",
    "results_dir = \"./evaluation_results/\"\n",
    "\n",
    "# Physical parameters\n",
    "N_cav = 30  # number of cavity modes\n",
    "N_snap = 15\n",
    "\n",
    "alpha = 2\n",
    "psi_target = coherent(N_cav, alpha) + coherent(N_cav, -alpha)\n",
    "\n",
    "# Normalize psi_target before constructing rho_target\n",
    "psi_target = psi_target / jnp.linalg.norm(psi_target)\n",
    "\n",
    "rho_target = ket2dm(psi_target)\n",
    "\n",
    "c_ops = [jnp.sqrt(0.005) * destroy(N_cav)]*2 # Lindblad jump operators"
   ]
  },
  {
   "cell_type": "code",
   "execution_count": 50,
   "id": "e402d3d9",
   "metadata": {},
   "outputs": [],
   "source": [
    "from dynamiqs import mesolve\n",
    "from tqdm import tqdm\n",
    "\n",
    "# Propagate the state\n",
    "fidelities = []\n",
    "result = mesolve(\n",
    "    H=identity(N_cav),\n",
    "    jump_ops=c_ops,\n",
    "    rho0=rho_target,\n",
    "    tsave=jnp.linspace(0, N_timesteps+1, N_timesteps+1),\n",
    ")\n",
    "\n",
    "for rho in result.states:\n",
    "    fidelities.append(fidelity(C_target=rho_target, U_final=rho.to_jax(), evo_type=\"density\"))\n",
    "\n",
    "# Reshape back to matrix form\n",
    "jnp.savez(results_dir + \"fidelities_no_feedback.npz\", fidelities=fidelities)"
   ]
  }
 ],
 "metadata": {
  "kernelspec": {
   "display_name": ".venv",
   "language": "python",
   "name": "python3"
  },
  "language_info": {
   "codemirror_mode": {
    "name": "ipython",
    "version": 3
   },
   "file_extension": ".py",
   "mimetype": "text/x-python",
   "name": "python",
   "nbconvert_exporter": "python",
   "pygments_lexer": "ipython3",
   "version": "3.13.7"
  }
 },
 "nbformat": 4,
 "nbformat_minor": 5
}
