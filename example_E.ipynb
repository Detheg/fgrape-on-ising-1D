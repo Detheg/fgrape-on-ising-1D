{
 "cells": [
  {
   "cell_type": "markdown",
   "id": "2835e862",
   "metadata": {},
   "source": [
    "Here, a system of n spins coupled via sigma^+, sigma^- gates is considered where every m-th spin can be (projectively) measured along an axis of angles theta, phi. The measurement angles and couplings are the control parameters."
   ]
  },
  {
   "cell_type": "code",
   "execution_count": null,
   "id": "ca844202",
   "metadata": {},
   "outputs": [],
   "source": [
    "# Add the feedback-grape git submodule to the path\n",
    "import sys, os\n",
    "sys.path.append(os.path.abspath(\"./feedback-grape-dev\"))\n",
    "\n",
    "from feedback_grape.utils.operators import (\n",
    "    sigmax,\n",
    "    sigmay,\n",
    "    sigmaz,\n",
    "    sigmap,\n",
    "    sigmam,\n",
    ")\n",
    "from feedback_grape.utils.states import basis\n",
    "from feedback_grape.utils.tensor import tensor\n",
    "from feedback_grape.fgrape import optimize_pulse, Gate, Decay\n",
    "import jax\n",
    "from jax import numpy as jnp\n",
    "from numpy import flip\n",
    "from library.utils.qubit_chain_1D import embed, calculate_expected_fidelity\n",
    "from library.utils.plot_matrix import plot_matrix\n",
    "from tqdm import tqdm\n",
    "from jax.scipy.linalg import expm\n",
    "from math import ceil\n",
    "\n",
    "# Training parameters\n",
    "N_timesteps = range(1,6) # Number of time steps to test\n",
    "N_samples = 5 # Number of random initializations to test\n",
    "N_training_iterations = 1000 # Number of training iterations\n",
    "learning_rate = 0.02 # Learning rate\n",
    "\n",
    "# System parameters\n",
    "n = 5 # Number of qubits\n",
    "measurement_sites = [0, 3] # Sites where measurements are performed (0-indexed)\n",
    "flip_sites = [2, 4] # Sites to be flipped (0-indexed)\n",
    "control_qubit = 0 # Qubit where control rotations are applied (0-indexed)\n",
    "decay_constant = jnp.sqrt(0.005) # Decay constant for amplitude damping\n",
    "\n",
    "# Initialize ground state density matrix (all spins down)\n",
    "rho_ground = basis(2**n, 0) @ basis(2**n, 0).conj().T\n",
    "\n",
    "# Target state with excitation at flip_sites\n",
    "psi = basis(2**n, 0)\n",
    "for k in flip_sites:\n",
    "    psi = embed(sigmax(), k, n) @ psi\n",
    "rho_excited = psi @ psi.conj().T\n",
    "rho_excited /= jnp.trace(rho_excited) # Normalize\n",
    "\n",
    "# Control operators (bloch rotation on control qubit and sigmam, sigmap between neighboring qubits)\n",
    "def transport_unitary(params):\n",
    "    return expm(-1j*sum([\n",
    "        -t*embed(sigmap(), i, n)@embed(sigmam(), i+1, n) - t*embed(sigmam(), i, n)@embed(sigmap(), i+1, n)\n",
    "        for i,t in enumerate(params)\n",
    "    ]))\n",
    "\n",
    "def initialize_transport_gates(key):\n",
    "    return Gate(\n",
    "        gate = transport_unitary,\n",
    "        initial_params=jax.random.uniform(\n",
    "            jax.random.PRNGKey(key),\n",
    "            shape=(n-1,), # n-1 couplings\n",
    "            minval=0.0,\n",
    "            maxval=1.0,\n",
    "            dtype=float,\n",
    "        ),\n",
    "        measurement_flag=False,\n",
    "    )\n",
    "\n",
    "def rotation_unitary(params):\n",
    "    alpha, beta = params\n",
    "    return expm(-1j*(alpha*embed(sigmax(), control_qubit, n) + beta*embed(sigmay(), control_qubit, n)))\n",
    "\n",
    "def initialize_rotation_gate(key):\n",
    "    return Gate(\n",
    "        gate = rotation_unitary,\n",
    "        initial_params=jax.random.uniform(\n",
    "            jax.random.PRNGKey(key),\n",
    "            shape=(2,), # alpha, beta\n",
    "            minval=-jnp.pi,\n",
    "            maxval=jnp.pi,\n",
    "            dtype=float,\n",
    "        ),\n",
    "        measurement_flag=False,\n",
    "    )\n",
    "\n",
    "# Measurement operator (projective measurement along axis defined by theta, phi)\n",
    "def povm(measurement_outcome, params, k):\n",
    "    theta, phi = params\n",
    "    x,y,z = jnp.sin(theta)*jnp.cos(phi), jnp.sin(theta)*jnp.sin(phi), jnp.cos(theta)\n",
    "\n",
    "    S = x*sigmax() + y*sigmay() + z*sigmaz()\n",
    "    P1 = (jnp.eye(2) + S)/2\n",
    "    P2 = (jnp.eye(2) - S)/2\n",
    "\n",
    "    return jnp.where(\n",
    "        measurement_outcome == 1,\n",
    "        embed(P1, k, n),\n",
    "        embed(P2, k, n),\n",
    "    )\n",
    "\n",
    "def initialize_povm_gates(key):\n",
    "    povm_gates = []\n",
    "    for k in measurement_sites:\n",
    "        povm_gates.append(\n",
    "            Gate(\n",
    "                gate = lambda measurement_outcome, params, k=k: povm(measurement_outcome, params, k) + povm(measurement_outcome, params, k),\n",
    "                initial_params=jax.random.uniform(\n",
    "                    jax.random.PRNGKey(key+i),\n",
    "                    shape=(2,), # theta, phi\n",
    "                    minval=-jnp.pi,\n",
    "                    maxval=jnp.pi,\n",
    "                    dtype=float,\n",
    "                ),\n",
    "                measurement_flag=True,\n",
    "            )\n",
    "        )\n",
    "\n",
    "    return povm_gates\n",
    "\n",
    "# Decay operator (amplitude damping on all qubits)\n",
    "decay_gate = Decay(c_ops=[decay_constant * embed(sigmap(), k, n) for k in range(n)])\n",
    "\n",
    "# Assert that measurement operator is valid\n",
    "assert jnp.allclose(povm(-1, (0, 0), 0) + povm(1, (0, 0), 0), jnp.eye(2**n)), \"Measurement operators do not sum to identity\"\n",
    "\n",
    "fidelity_lists  = []\n",
    "fidelity_labels = []"
   ]
  },
  {
   "cell_type": "code",
   "execution_count": null,
   "id": "35a57ca0",
   "metadata": {},
   "outputs": [
    {
     "name": "stdout",
     "output_type": "stream",
     "text": [
      "Running for 1 time steps\n"
     ]
    },
    {
     "name": "stderr",
     "output_type": "stream",
     "text": [
      "100%|██████████| 5/5 [02:22<00:00, 28.41s/it]\n"
     ]
    },
    {
     "name": "stdout",
     "output_type": "stream",
     "text": [
      "Max fidelity for 1 time steps: 0.24505951399281717\n",
      "Running for 2 time steps\n"
     ]
    },
    {
     "name": "stderr",
     "output_type": "stream",
     "text": [
      "100%|██████████| 5/5 [08:08<00:00, 97.76s/it] \n"
     ]
    },
    {
     "name": "stdout",
     "output_type": "stream",
     "text": [
      "Max fidelity for 2 time steps: 0.5483337732988193\n",
      "Running for 3 time steps\n"
     ]
    },
    {
     "name": "stderr",
     "output_type": "stream",
     "text": [
      "100%|██████████| 5/5 [17:06<00:00, 205.33s/it]\n"
     ]
    },
    {
     "name": "stdout",
     "output_type": "stream",
     "text": [
      "Max fidelity for 3 time steps: 0.5767591171468814\n",
      "Running for 4 time steps\n"
     ]
    },
    {
     "name": "stderr",
     "output_type": "stream",
     "text": [
      "100%|██████████| 5/5 [24:04<00:00, 288.85s/it]\n"
     ]
    },
    {
     "name": "stdout",
     "output_type": "stream",
     "text": [
      "Max fidelity for 4 time steps: 0.6972208416561668\n",
      "Running for 5 time steps\n"
     ]
    },
    {
     "name": "stderr",
     "output_type": "stream",
     "text": [
      "  0%|          | 0/5 [00:00<?, ?it/s]2025-09-25 15:53:29.104864: E external/xla/xla/service/slow_operation_alarm.cc:73] \n",
      "********************************\n",
      "[Compiling module jit_step] Very slow compile? If you want to file a bug, run with envvar XLA_FLAGS=--xla_dump_to=/tmp/foo and attach the results.\n",
      "********************************\n",
      "2025-09-25 15:53:59.200914: E external/xla/xla/service/slow_operation_alarm.cc:140] The operation took 2m30.10302s\n",
      "\n",
      "********************************\n",
      "[Compiling module jit_step] Very slow compile? If you want to file a bug, run with envvar XLA_FLAGS=--xla_dump_to=/tmp/foo and attach the results.\n",
      "********************************\n",
      " 20%|██        | 1/5 [16:48<1:07:12, 1008.20s/it]2025-09-25 16:10:21.421940: E external/xla/xla/service/slow_operation_alarm.cc:73] \n",
      "********************************\n",
      "[Compiling module jit_step] Very slow compile? If you want to file a bug, run with envvar XLA_FLAGS=--xla_dump_to=/tmp/foo and attach the results.\n",
      "********************************\n",
      "2025-09-25 16:10:58.546599: E external/xla/xla/service/slow_operation_alarm.cc:140] The operation took 2m37.1281s\n",
      "\n",
      "********************************\n",
      "[Compiling module jit_step] Very slow compile? If you want to file a bug, run with envvar XLA_FLAGS=--xla_dump_to=/tmp/foo and attach the results.\n",
      "********************************\n"
     ]
    }
   ],
   "source": [
    "best_result = None\n",
    "for num_time_steps in N_timesteps: # Number of time steps to test\n",
    "    print(f\"Running for {num_time_steps} time steps\")\n",
    "    fidelity_list = []\n",
    "    for i in tqdm(range(N_samples)):\n",
    "        # Initialize time evolution operators (measurements followed by rotation on control qubit and transport)\n",
    "        #system_params = initialize_povm_gates(key=i) + [initialize_rotation_gate(key=i), initialize_transport_gates(key=i)]\n",
    "        system_params = initialize_povm_gates(key=i) + [decay_gate, initialize_transport_gates(key=i), decay_gate]\n",
    "\n",
    "        # Training\n",
    "        result = optimize_pulse(\n",
    "            U_0=rho_ground,\n",
    "            C_target=rho_excited,\n",
    "            system_params=system_params,\n",
    "            num_time_steps=num_time_steps,\n",
    "            mode=\"lookup\",\n",
    "            goal=\"fidelity\",\n",
    "            max_iter=N_training_iterations,\n",
    "            convergence_threshold=1e-6,\n",
    "            learning_rate=learning_rate,\n",
    "            evo_type=\"density\",\n",
    "            batch_size=8,\n",
    "            eval_batch_size=10,\n",
    "        )\n",
    "\n",
    "        fidelity_list.append(result.final_fidelity)\n",
    "        \n",
    "    print(f\"Max fidelity for {num_time_steps} time steps: {max(fidelity_list)}\")\n",
    "    fidelity_lists.append(fidelity_list)\n",
    "    fidelity_labels.append(f\"t={num_time_steps} (1)\")\n",
    "\n",
    "# Play a sound when done\n",
    "import os\n",
    "os.system('say \"fertig\"')\n",
    "\n",
    "# Concatenate with previous results for plotting\n",
    "fidelity_lists = (\n",
    "      [[0.25002643878923675], [0.5624969306225057], [0.6816929873851241], [0.7720503758240014], [0.8550823259569829]]\n",
    "    + [[0.4999999973908317], [0.7500633471451231], [0.8536009813860631], [0.9999920512541073], [0.9999997167579313]]\n",
    "    + [[0.0], [2.5801357614596514e-06], [0.9999973956817952], [0.9999948435944875], [0.9999776833249817]]\n",
    "    + [[0.0], [2.5035316437091724e-06], [0.9512269420962641], [0.9511000789262692], [0.9511609314821533]]\n",
    "    + [[0.0], [0.0], [0.0], [0.0], [0.0]]\n",
    "    + [[0.4900993340960943], [0.7258743117630148], [0.824915851453312], [0.9607855880379527], [0.9512279748052042]]\n",
    "    + fidelity_lists\n",
    ")\n",
    "fidelity_labels = (\n",
    "      [\"t=1 (0)\", \"t=2 (0)\", \"t=3 (0)\", \"t=4 (0)\", \"t=5 (0)\"] # (control qubit:  no, povm: yes, decay:  no) (MT)^N\n",
    "    + [\"t=1 (1)\", \"t=2 (1)\", \"t=3 (1)\", \"t=4 (1)\", \"t=5 (1)\"] # (control qubit: yes, povm: yes, decay:  no) (MRT)^N\n",
    "    + [\"t=1 (2)\", \"t=2 (2)\", \"t=3 (2)\", \"t=4 (2)\", \"t=5 (2)\"] # (control qubit: yes, povm:  no, decay:  no) (RT)^N\n",
    "    + [\"t=1 (3)\", \"t=2 (3)\", \"t=3 (3)\", \"t=4 (3)\", \"t=5 (3)\"] # (control qubit: yes, povm:  no, decay: yes) (RDTD)^N\n",
    "    + [\"t=1 (4)\", \"t=2 (4)\", \"t=3 (4)\", \"t=4 (4)\", \"t=5 (4)\"] # (control qubit:  no, povm:  no, decay: yes) (DTD)^N\n",
    "    + [\"t=1 (5)\", \"t=2 (5)\", \"t=3 (5)\", \"t=4 (5)\", \"t=5 (5)\"] # (control qubit: yes, povm: yes, decay: yes) (MRDTD)^N\n",
    "    + [\"t=1 (6)\", \"t=2 (6)\", \"t=3 (6)\", \"t=4 (6)\", \"t=5 (6)\"] # (control qubit:  no, povm: yes, decay: yes) (MDTD)^N\n",
    "    + fidelity_labels\n",
    ")"
   ]
  },
  {
   "cell_type": "code",
   "execution_count": 7,
   "id": "432268e8",
   "metadata": {},
   "outputs": [
    {
     "name": "stdout",
     "output_type": "stream",
     "text": [
      "max fidelity: t=1 (0) 0.4900993340960943\n",
      "max fidelity: t=2 (0) 0.7258743117630148\n",
      "max fidelity: t=3 (0) 0.824915851453312\n",
      "max fidelity: t=4 (0) 0.9607855880379527\n",
      "max fidelity: t=5 (0) 0.9512279748052042\n"
     ]
    },
    {
     "data": {
      "text/plain": [
       "(np.float64(0.0), np.float64(1.0), np.float64(0.0), np.float64(1.0))"
      ]
     },
     "execution_count": 7,
     "metadata": {},
     "output_type": "execute_result"
    },
    {
     "data": {
      "image/png": "[encoded data removed]",
      "text/plain": [
       "<Figure size 1200x400 with 2 Axes>"
      ]
     },
     "metadata": {},
     "output_type": "display_data"
    },
    {
     "data": {
      "image/png": "[encoded data removed]",
      "text/plain": [
       "<Figure size 600x400 with 1 Axes>"
      ]
     },
     "metadata": {},
     "output_type": "display_data"
    }
   ],
   "source": [
    "from matplotlib import pyplot as plt\n",
    "\n",
    "fig, (ax1, ax2) = plt.subplots(1,2, figsize=(12,4))\n",
    "for fidelities, label in zip(fidelity_lists, fidelity_labels):\n",
    "    ax1.plot(fidelities, label=label)\n",
    "    print(f\"max fidelity: {label}\", max(fidelities))\n",
    "ax1.set_xlabel(\"Iteration\")\n",
    "ax1.set_ylabel(\"Fidelity\")\n",
    "ax1.set_title(\"Fidelity over Iterations\")\n",
    "\n",
    "ax2.plot([max(fidelities) for fidelities in fidelity_lists], label=label, marker=\"o\", linestyle='None')\n",
    "\n",
    "# legend in seperate figure\n",
    "fig2, ax2 = plt.subplots(1,1, figsize=(6,4))\n",
    "ax2.legend(*ax1.get_legend_handles_labels(), loc='center')\n",
    "ax2.axis('off')"
   ]
  },
  {
   "cell_type": "code",
   "execution_count": 6,
   "id": "36ebe2c9",
   "metadata": {},
   "outputs": [],
   "source": [
    "a = [0.25002643878923675, 0.5624969306225057, 0.6816929873851241, 0.7720503758240014, 0.8550823259569829]"
   ]
  }
 ],
 "metadata": {
  "kernelspec": {
   "display_name": ".venv",
   "language": "python",
   "name": "python3"
  },
  "language_info": {
   "codemirror_mode": {
    "name": "ipython",
    "version": 3
   },
   "file_extension": ".py",
   "mimetype": "text/x-python",
   "name": "python",
   "nbconvert_exporter": "python",
   "pygments_lexer": "ipython3",
   "version": "3.13.7"
  }
 },
 "nbformat": 4,
 "nbformat_minor": 5
}
