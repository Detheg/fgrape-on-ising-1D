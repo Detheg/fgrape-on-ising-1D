{
 "cells": [
  {
   "cell_type": "markdown",
   "id": "f76d2ebd",
   "metadata": {},
   "source": [
    "# D. State stabilization in a noisy environment with Jaynes-Cummings controls"
   ]
  },
  {
   "cell_type": "code",
   "execution_count": 1,
   "id": "408d7729",
   "metadata": {
    "tags": [
     "remove-cell"
    ]
   },
   "outputs": [],
   "source": [
    "# ruff: noqa\n",
    "import os\n",
    "\n",
    "#os.sys.path.append(\"../../../..\")\n",
    "os.sys.path.append(\"./../feedback-grape\")"
   ]
  },
  {
   "cell_type": "markdown",
   "id": "046f460b",
   "metadata": {},
   "source": [
    "### Code copied from Yousef's thesis. This code is not identical to example D on readthedocs.io or in the fgrape library"
   ]
  },
  {
   "cell_type": "code",
   "execution_count": 2,
   "id": "6d1ca8f6",
   "metadata": {},
   "outputs": [],
   "source": [
    "from feedback_grape.fgrape import optimize_pulse, Gate\n",
    "from feedback_grape.utils.operators import (\n",
    "    sigmap,\n",
    "    sigmam,\n",
    "    create,\n",
    "    destroy,\n",
    "    identity,\n",
    "    cosm,\n",
    "    sinm,\n",
    ")\n",
    "from feedback_grape.utils.states import basis, fock\n",
    "from feedback_grape.utils.tensor import tensor\n",
    "from feedback_grape.utils.operators import create, destroy\n",
    "import jax.numpy as jnp\n",
    "import jax\n",
    "from jax.scipy.linalg import expm\n",
    "\n",
    "N_cav = 20\n",
    "# initial state is a thermal state coupled to a qubit in the ground state?\n",
    "n_average = 1\n",
    "# natural logarithm\n",
    "beta = jnp.log((1 / n_average) + 1)\n",
    "diags = jnp.exp(-beta * jnp.arange(N_cav))\n",
    "normalized_diags = diags / jnp.sum(diags, axis=0)\n",
    "rho_cav = jnp.diag(normalized_diags)\n",
    "rho0 = tensor(rho_cav, basis(2, 0) @ basis(2, 0).conj().T)\n",
    "\n",
    "psi_target = tensor(\n",
    "    (fock(N_cav, 1) + fock(N_cav, 2) + fock(N_cav, 3)) / jnp.sqrt(3), basis(2)\n",
    ")\n",
    "psi_target = psi_target / jnp.linalg.norm(psi_target)\n",
    "rho_target = psi_target @ psi_target.conj().T\n",
    "\n",
    "def povm_measure_operator(measurement_outcome, params):\n",
    "    \"\"\"\n",
    "    POVM for the measurement of the cavity state.\n",
    "    returns Mm ( NOT the POVM element Em = Mm_dag @ Mm ), given measurement_outcome m, gamma and delta\n",
    "    \"\"\"\n",
    "    gamma, delta = params\n",
    "    number_operator = tensor(create(N_cav) @ destroy(N_cav), identity(2))\n",
    "    angle = (gamma * number_operator) + delta / 2\n",
    "    meas_op = jnp.where(\n",
    "        measurement_outcome == 1,\n",
    "        cosm(angle),\n",
    "        sinm(angle),\n",
    "    )\n",
    "    return meas_op\n",
    "\n",
    "# same as implementation in other examples\n",
    "def qubit_unitary(alphas):\n",
    "    alpha_re, alpha_im = alphas\n",
    "    alpha = alpha_re + 1j * alpha_im\n",
    "    return tensor(\n",
    "    identity(N_cav),\n",
    "    expm(-1j * (alpha * sigmap() + alpha.conjugate() * sigmam()) / 2),\n",
    ")\n",
    "def qubit_cavity_unitary(betas):\n",
    "    beta_re, beta_im = betas\n",
    "    beta = beta_re + 1j * beta_im\n",
    "    return expm(\n",
    "    -1j\n",
    "    * (\n",
    "    beta * (tensor(destroy(N_cav), sigmap()))\n",
    "    + beta.conjugate() * (tensor(create(N_cav), sigmam()))\n",
    "    )\n",
    "    / 2\n",
    ")"
   ]
  },
  {
   "cell_type": "code",
   "execution_count": 3,
   "id": "5329d87d",
   "metadata": {},
   "outputs": [],
   "source": [
    "key1, key2, key3 = jax.random.split(jax.random.PRNGKey(42), 3)\n",
    "measure = Gate(\n",
    "    gate=povm_measure_operator,\n",
    "    initial_params=jax.random.uniform(\n",
    "        key1,\n",
    "        shape=(2,), # 2 for gamma and delta\n",
    "        minval=-2 * jnp.pi,\n",
    "        maxval=2 * jnp.pi,\n",
    "    ),\n",
    "    measurement_flag=True,\n",
    ")\n",
    "qub_unitary = Gate(\n",
    "    gate=qubit_unitary,\n",
    "    initial_params=jax.random.uniform(\n",
    "        key2,\n",
    "        shape=(2,), # 2 for gamma and delta\n",
    "        minval=-2 * jnp.pi,\n",
    "        maxval=2 * jnp.pi,\n",
    "    ),\n",
    "    measurement_flag=False,\n",
    ")\n",
    "qub_cav = Gate(\n",
    "gate=qubit_cavity_unitary,\n",
    "    initial_params=jax.random.uniform(\n",
    "        key3,\n",
    "        shape=(2,), # 2 for gamma and delta\n",
    "        minval=-2 * jnp.pi,\n",
    "        maxval=2 * jnp.pi,\n",
    "    ),\n",
    "    measurement_flag=False,\n",
    "    )\n",
    "system_params = [measure, qub_unitary, qub_cav]"
   ]
  },
  {
   "cell_type": "markdown",
   "id": "f2190e32",
   "metadata": {},
   "source": [
    "### With Dissipation"
   ]
  },
  {
   "cell_type": "code",
   "execution_count": 4,
   "id": "eec5fd59",
   "metadata": {},
   "outputs": [],
   "source": [
    "# Note if tsave = jnp.linspace(0, 1, 1) = [0.0] then the decay is not applied ?\n",
    "# because the first time step has the original non decayed state\n",
    "# Question: Here I should not use any sort of Hamiltonian or tspan or something?\n",
    "num_time_steps = 5\n",
    "num_of_iterations = 1000\n",
    "learning_rate = 0.02\n",
    "result = optimize_pulse(\n",
    "    U_0=rho0,\n",
    "    C_target=rho_target,\n",
    "    system_params=system_params,\n",
    "    num_time_steps=num_time_steps,\n",
    "    mode=\"lookup\",\n",
    "    goal=\"fidelity\",\n",
    "    max_iter=num_of_iterations,\n",
    "    convergence_threshold=1e-6,\n",
    "    learning_rate=learning_rate,\n",
    "    evo_type=\"density\",\n",
    "    batch_size=10,\n",
    ")"
   ]
  },
  {
   "cell_type": "code",
   "execution_count": 5,
   "id": "3419d96d",
   "metadata": {},
   "outputs": [
    {
     "name": "stdout",
     "output_type": "stream",
     "text": [
      "0.8934464547408819\n"
     ]
    }
   ],
   "source": [
    "print(result.final_fidelity)"
   ]
  },
  {
   "cell_type": "code",
   "execution_count": 6,
   "id": "20bb8cdb",
   "metadata": {},
   "outputs": [
    {
     "name": "stdout",
     "output_type": "stream",
     "text": [
      "initial fidelity: 1.0000000142476728\n",
      "fidelity of state 0: 0.733335920929439\n",
      "fidelity of state 1: 0.9812299478212445\n",
      "fidelity of state 2: 0.9391688822993187\n",
      "fidelity of state 3: 0.8706969752796002\n",
      "fidelity of state 4: 0.733335920929439\n",
      "fidelity of state 5: 0.8358992399086522\n",
      "fidelity of state 6: 0.9812299478212445\n",
      "fidelity of state 7: 0.9391688822993187\n",
      "fidelity of state 8: 0.9391688822993187\n",
      "fidelity of state 9: 0.9812299478212445\n"
     ]
    }
   ],
   "source": [
    "from feedback_grape.utils.fidelity import fidelity\n",
    "\n",
    "print(\n",
    "    \"initial fidelity:\",\n",
    "    fidelity(C_target=rho_target, U_final=rho_target, evo_type=\"density\"),\n",
    ")\n",
    "for i, state in enumerate(result.final_state):\n",
    "    print(\n",
    "        f\"fidelity of state {i}:\",\n",
    "        fidelity(C_target=rho_target, U_final=state, evo_type=\"density\"),\n",
    "    )"
   ]
  },
  {
   "cell_type": "code",
   "execution_count": 7,
   "id": "51c5f007",
   "metadata": {},
   "outputs": [
    {
     "data": {
      "text/plain": [
       "[[Array([[-4.71903918,  0.00841036],\n",
       "         [-4.71903918,  0.00841036],\n",
       "         [-4.71903918,  0.00841036],\n",
       "         [-4.71903918,  0.00841036],\n",
       "         [-4.71903918,  0.00841036],\n",
       "         [-4.71903918,  0.00841036],\n",
       "         [-4.71903918,  0.00841036],\n",
       "         [-4.71903918,  0.00841036],\n",
       "         [-4.71903918,  0.00841036],\n",
       "         [-4.71903918,  0.00841036]], dtype=float64),\n",
       "  Array([[0.26637547, 2.28397198],\n",
       "         [3.08871732, 0.53237257],\n",
       "         [0.26637547, 2.28397198],\n",
       "         [3.08871732, 0.53237257],\n",
       "         [0.26637547, 2.28397198],\n",
       "         [3.08871732, 0.53237257],\n",
       "         [3.08871732, 0.53237257],\n",
       "         [0.26637547, 2.28397198],\n",
       "         [0.26637547, 2.28397198],\n",
       "         [3.08871732, 0.53237257]], dtype=float64),\n",
       "  Array([[-1.89068282,  3.41451852],\n",
       "         [-1.29979137,  1.73415445],\n",
       "         [-1.89068282,  3.41451852],\n",
       "         [-1.29979137,  1.73415445],\n",
       "         [-1.89068282,  3.41451852],\n",
       "         [-1.29979137,  1.73415445],\n",
       "         [-1.29979137,  1.73415445],\n",
       "         [-1.89068282,  3.41451852],\n",
       "         [-1.89068282,  3.41451852],\n",
       "         [-1.29979137,  1.73415445]], dtype=float64)],\n",
       " [Array([[-3.61109269, -0.07317368],\n",
       "         [-4.68313058, -0.01486928],\n",
       "         [-3.61109269, -0.07317368],\n",
       "         [-4.68313058, -0.01486928],\n",
       "         [-3.61109269, -0.07317368],\n",
       "         [-4.68313058, -0.01486928],\n",
       "         [-4.68313058, -0.01486928],\n",
       "         [-3.61109269, -0.07317368],\n",
       "         [-3.61109269, -0.07317368],\n",
       "         [-4.68313058, -0.01486928]], dtype=float64),\n",
       "  Array([[ 2.14257484,  2.21102928],\n",
       "         [-0.30632804,  1.66900797],\n",
       "         [ 3.90417913,  0.98767591],\n",
       "         [-0.30632804,  1.66900797],\n",
       "         [ 2.14257484,  2.21102928],\n",
       "         [ 1.39624475, -0.60075553],\n",
       "         [-0.30632804,  1.66900797],\n",
       "         [ 3.90417913,  0.98767591],\n",
       "         [ 3.90417913,  0.98767591],\n",
       "         [-0.30632804,  1.66900797]], dtype=float64),\n",
       "  Array([[-0.8316125 ,  3.15732947],\n",
       "         [-0.5986066 ,  2.96310404],\n",
       "         [ 1.25363166,  1.32661403],\n",
       "         [-0.5986066 ,  2.96310404],\n",
       "         [-0.8316125 ,  3.15732947],\n",
       "         [-3.99132508,  1.30193498],\n",
       "         [-0.5986066 ,  2.96310404],\n",
       "         [ 1.25363166,  1.32661403],\n",
       "         [ 1.25363166,  1.32661403],\n",
       "         [-0.5986066 ,  2.96310404]], dtype=float64)],\n",
       " [Array([[-3.65119135,  0.20605058],\n",
       "         [-3.14515666,  0.00606628],\n",
       "         [-3.23459928,  0.12870951],\n",
       "         [-3.14515666,  0.00606628],\n",
       "         [-3.65119135,  0.20605058],\n",
       "         [-3.42943575,  0.10267781],\n",
       "         [-3.14515666,  0.00606628],\n",
       "         [-3.23459928,  0.12870951],\n",
       "         [-3.23459928,  0.12870951],\n",
       "         [-3.14515666,  0.00606628]], dtype=float64),\n",
       "  Array([[ 5.50360581,  0.05212435],\n",
       "         [ 2.03336853, -1.48679344],\n",
       "         [ 1.60828802, -1.16305265],\n",
       "         [ 2.03336853, -1.48679344],\n",
       "         [ 5.50360581,  0.05212435],\n",
       "         [ 4.60511405, -1.36859744],\n",
       "         [ 2.03336853, -1.48679344],\n",
       "         [ 1.60828802, -1.16305265],\n",
       "         [ 1.60828802, -1.16305265],\n",
       "         [ 2.03336853, -1.48679344]], dtype=float64),\n",
       "  Array([[-2.76533843,  2.1024942 ],\n",
       "         [-2.20014801,  1.35292498],\n",
       "         [-1.58448451,  2.56062621],\n",
       "         [-2.20014801,  1.35292498],\n",
       "         [-2.76533843,  2.1024942 ],\n",
       "         [-2.02486696,  1.12177984],\n",
       "         [-2.20014801,  1.35292498],\n",
       "         [-1.58448451,  2.56062621],\n",
       "         [-1.58448451,  2.56062621],\n",
       "         [-2.20014801,  1.35292498]], dtype=float64)],\n",
       " [Array([[-3.78157624, -0.24082803],\n",
       "         [-3.43533396, -0.13549712],\n",
       "         [-3.18195542, -0.31698368],\n",
       "         [-3.43533396, -0.13549712],\n",
       "         [-3.78157624, -0.24082803],\n",
       "         [-3.53711394, -0.33024246],\n",
       "         [-3.43533396, -0.13549712],\n",
       "         [-3.18195542, -0.31698368],\n",
       "         [-3.18195542, -0.31698368],\n",
       "         [-3.43533396, -0.13549712]], dtype=float64),\n",
       "  Array([[ 3.03813808, -0.77486772],\n",
       "         [ 3.3043155 ,  0.33515225],\n",
       "         [ 1.23171127,  1.68597994],\n",
       "         [-1.21300967,  1.21324817],\n",
       "         [ 3.03813808, -0.77486772],\n",
       "         [-0.93030987,  1.38265646],\n",
       "         [ 3.3043155 ,  0.33515225],\n",
       "         [ 1.23171127,  1.68597994],\n",
       "         [ 1.23171127,  1.68597994],\n",
       "         [ 3.3043155 ,  0.33515225]], dtype=float64),\n",
       "  Array([[-2.14083436,  1.11959132],\n",
       "         [ 1.42755421,  1.53169515],\n",
       "         [ 0.89488453,  1.93687166],\n",
       "         [-0.79121454,  1.14669967],\n",
       "         [-2.14083436,  1.11959132],\n",
       "         [-0.56927402,  1.18354369],\n",
       "         [ 1.42755421,  1.53169515],\n",
       "         [ 0.89488453,  1.93687166],\n",
       "         [ 0.89488453,  1.93687166],\n",
       "         [ 1.42755421,  1.53169515]], dtype=float64)],\n",
       " [Array([[-3.58682337, -0.1122636 ],\n",
       "         [-3.14333176,  0.01035801],\n",
       "         [-3.14404759,  0.02750977],\n",
       "         [-3.12293515, -0.0809939 ],\n",
       "         [-3.58682337, -0.1122636 ],\n",
       "         [-3.12752603, -0.07776508],\n",
       "         [-3.14333176,  0.01035801],\n",
       "         [-3.14404759,  0.02750977],\n",
       "         [-3.14404759,  0.02750977],\n",
       "         [-3.14333176,  0.01035801]], dtype=float64),\n",
       "  Array([[ 3.43074173, -2.08108276],\n",
       "         [ 1.42791215,  1.69731956],\n",
       "         [ 2.3766159 , -0.39003509],\n",
       "         [ 0.94639259, -2.00733788],\n",
       "         [ 3.43074173, -2.08108276],\n",
       "         [ 1.17500645, -2.04010945],\n",
       "         [ 1.42791215,  1.69731956],\n",
       "         [ 2.3766159 , -0.39003509],\n",
       "         [ 2.3766159 , -0.39003509],\n",
       "         [ 1.42791215,  1.69731956]], dtype=float64),\n",
       "  Array([[-2.09964295,  1.50538742],\n",
       "         [-1.9047386 , -2.41788819],\n",
       "         [-3.03185396,  0.8995937 ],\n",
       "         [-1.2751757 ,  2.73445913],\n",
       "         [-2.09964295,  1.50538742],\n",
       "         [-1.85203142,  2.37401198],\n",
       "         [-1.9047386 , -2.41788819],\n",
       "         [-3.03185396,  0.8995937 ],\n",
       "         [-3.03185396,  0.8995937 ],\n",
       "         [-1.9047386 , -2.41788819]], dtype=float64)]]"
      ]
     },
     "execution_count": 7,
     "metadata": {},
     "output_type": "execute_result"
    }
   ],
   "source": [
    "result.returned_params"
   ]
  },
  {
   "cell_type": "code",
   "execution_count": 8,
   "id": "6c4441f2",
   "metadata": {},
   "outputs": [
    {
     "data": {
      "text/plain": [
       "[Array([-4.71903918,  0.00841036], dtype=float64),\n",
       " Array([3.04255722, 0.59257698], dtype=float64),\n",
       " Array([-1.58503058,  2.06652483], dtype=float64)]"
      ]
     },
     "execution_count": 8,
     "metadata": {},
     "output_type": "execute_result"
    }
   ],
   "source": [
    "result.optimized_trainable_parameters[\"initial_params\"]"
   ]
  },
  {
   "cell_type": "markdown",
   "id": "2b6dab8b",
   "metadata": {},
   "source": [
    "### Evaluate performance of optimized architecture on longer time span"
   ]
  },
  {
   "cell_type": "code",
   "execution_count": 9,
   "id": "afd08921",
   "metadata": {},
   "outputs": [],
   "source": [
    "from feedback_grape.fgrape import evaluate_on_longer_time\n",
    "\n",
    "result_long = evaluate_on_longer_time(\n",
    "    U_0 = rho0,\n",
    "    C_target = rho_target,\n",
    "    system_params = system_params,\n",
    "    optimized_trainable_parameters = result.optimized_trainable_parameters,\n",
    "    num_time_steps = 100,\n",
    "    evo_type = \"density\",\n",
    "    goal = \"fidelity\",\n",
    "    mode = \"lookup\",\n",
    "    rnn = None,\n",
    "    eval_batch_size = 10,\n",
    "    rnn_hidden_size = 30,\n",
    ")\n",
    "\n",
    "fidelities_long = result_long.fidelity_each_timestep"
   ]
  },
  {
   "cell_type": "code",
   "execution_count": 10,
   "id": "9b5a0178",
   "metadata": {},
   "outputs": [
    {
     "data": {
      "text/plain": [
       "Text(0, 0.5, 'fidelity')"
      ]
     },
     "execution_count": 10,
     "metadata": {},
     "output_type": "execute_result"
    },
    {
     "data": {
      "image/png": "[encoded data removed]",
      "text/plain": [
       "<Figure size 800x300 with 1 Axes>"
      ]
     },
     "metadata": {},
     "output_type": "display_data"
    }
   ],
   "source": [
    "from matplotlib import pyplot as plt\n",
    "\n",
    "fig, ax = plt.subplots(1, 1, figsize=(8,3))\n",
    "ax.plot(fidelities_long)\n",
    "ax.set_xlabel(\"#timestep\")\n",
    "ax.set_ylabel(\"fidelity\")"
   ]
  },
  {
   "cell_type": "markdown",
   "id": "91e7aa8e",
   "metadata": {},
   "source": [
    "### Try again with uniform reward weights"
   ]
  },
  {
   "cell_type": "code",
   "execution_count": 11,
   "id": "437b5009",
   "metadata": {},
   "outputs": [],
   "source": [
    "# Note if tsave = jnp.linspace(0, 1, 1) = [0.0] then the decay is not applied ?\n",
    "# because the first time step has the original non decayed state\n",
    "# Question: Here I should not use any sort of Hamiltonian or tspan or something?\n",
    "num_time_steps = 5\n",
    "num_of_iterations = 1000\n",
    "learning_rate = 0.02\n",
    "result = optimize_pulse(\n",
    "    U_0=rho0,\n",
    "    C_target=rho_target,\n",
    "    system_params=system_params,\n",
    "    num_time_steps=num_time_steps,\n",
    "    reward_weights = [1]*num_time_steps,\n",
    "    mode=\"lookup\",\n",
    "    goal=\"fidelity\",\n",
    "    max_iter=num_of_iterations,\n",
    "    convergence_threshold=1e-6,\n",
    "    learning_rate=learning_rate,\n",
    "    evo_type=\"density\",\n",
    "    batch_size=10,\n",
    ")"
   ]
  },
  {
   "cell_type": "code",
   "execution_count": 12,
   "id": "4732f8bb",
   "metadata": {},
   "outputs": [],
   "source": [
    "from feedback_grape.fgrape import evaluate_on_longer_time\n",
    "\n",
    "result_long_2 = evaluate_on_longer_time(\n",
    "    U_0 = rho0,\n",
    "    C_target = rho_target,\n",
    "    system_params = system_params,\n",
    "    optimized_trainable_parameters = result.optimized_trainable_parameters,\n",
    "    num_time_steps = 100,\n",
    "    evo_type = \"density\",\n",
    "    goal = \"fidelity\",\n",
    "    mode = \"lookup\",\n",
    "    eval_batch_size=10,\n",
    "    rnn=None,\n",
    "    rnn_hidden_size=30,\n",
    ")\n",
    "\n",
    "fidelities_long_2 = result_long_2.fidelity_each_timestep"
   ]
  },
  {
   "cell_type": "code",
   "execution_count": 13,
   "id": "8d1e17fd",
   "metadata": {},
   "outputs": [
    {
     "data": {
      "image/png": "[encoded data removed]",
      "text/plain": [
       "<Figure size 800x300 with 1 Axes>"
      ]
     },
     "metadata": {},
     "output_type": "display_data"
    }
   ],
   "source": [
    "from matplotlib import pyplot as plt\n",
    "\n",
    "fig, ax = plt.subplots(1, 1, figsize=(8,3))\n",
    "ax.plot(fidelities_long, label=\"Greedy\")\n",
    "ax.plot(fidelities_long_2, label=\"Uniform weights\")\n",
    "ax.set_xlabel(\"#timestep\")\n",
    "ax.set_ylabel(\"fidelity\")\n",
    "ax.legend()\n",
    "fig.savefig(\"example_D_evaluation.png\")"
   ]
  },
  {
   "cell_type": "code",
   "execution_count": null,
   "id": "7446756f",
   "metadata": {},
   "outputs": [],
   "source": []
  }
 ],
 "metadata": {
  "kernelspec": {
   "display_name": ".venv",
   "language": "python",
   "name": "python3"
  },
  "language_info": {
   "codemirror_mode": {
    "name": "ipython",
    "version": 3
   },
   "file_extension": ".py",
   "mimetype": "text/x-python",
   "name": "python",
   "nbconvert_exporter": "python",
   "pygments_lexer": "ipython3",
   "version": "3.13.7"
  }
 },
 "nbformat": 4,
 "nbformat_minor": 5
}
