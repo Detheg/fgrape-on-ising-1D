{
 "cells": [
  {
   "cell_type": "markdown",
   "id": "d73e0c20",
   "metadata": {},
   "source": [
    "Here, the performance of the lookup tables optimized in the \"example_F_lookup_training_test.ipynb\" on state stabilization for longer time durations can be tested."
   ]
  },
  {
   "cell_type": "code",
   "execution_count": 5,
   "id": "eef96dae",
   "metadata": {},
   "outputs": [],
   "source": [
    "# ruff: noqa\n",
    "import sys, os\n",
    "sys.path.append(os.path.abspath(\"./../feedback-grape\"))\n",
    "sys.path.append(os.path.abspath(\"./../\"))\n",
    "\n",
    "# ruff: noqa\n",
    "from helpers import (\n",
    "    generate_random_discrete_state,\n",
    "    generate_random_bloch_state,\n",
    "    test_implementations,\n",
    "    generate_decay_superoperator,\n",
    ")\n",
    "import numpy as np\n",
    "from feedback_grape.utils.fidelity import fidelity\n",
    "from feedback_grape.utils.operators import sigmam\n",
    "from library.utils.qubit_chain_1D import embed\n",
    "from feedback_grape.utils.solver import mesolve\n",
    "from tqdm import tqdm\n",
    "import jax\n",
    "import jax.numpy as jnp\n",
    "\n",
    "test_implementations()"
   ]
  },
  {
   "cell_type": "code",
   "execution_count": 6,
   "id": "d537a4c3",
   "metadata": {},
   "outputs": [],
   "source": [
    "# Physical parameters\n",
    "N_chains = 3 # Number of parallel chains to simulate\n",
    "gamma = 0.05 # Decay constant\n",
    "evaluation_time_steps = 100 # Number of time steps for evaluation\n",
    "batch_size = 256 # Number of random states to evaluate in parallel\n",
    "\n",
    "generate_random_state = generate_random_bloch_state\n",
    "# Path to save results\n",
    "results_path = \"./evaluation_results/baseline_fidelities.npz\""
   ]
  },
  {
   "cell_type": "code",
   "execution_count": 7,
   "id": "e402d3d9",
   "metadata": {},
   "outputs": [
    {
     "name": "stderr",
     "output_type": "stream",
     "text": [
      "100%|██████████| 100/100 [00:00<00:00, 268.58it/s]\n"
     ]
    }
   ],
   "source": [
    "decay_superoperator = generate_decay_superoperator(N_chains, gamma)\n",
    "\n",
    "# Evolve all basis states and compute fidelities\n",
    "keys = jax.random.split(jax.random.PRNGKey(42), batch_size)\n",
    "states = jnp.array([generate_random_state(key, N_chains, noise_level = 0.0) for key in keys])\n",
    "target_states = jnp.array([generate_random_state(key, N_chains, noise_level=0.0) for key in keys])\n",
    "\n",
    "fidelities_each = np.zeros((len(states), evaluation_time_steps+1))\n",
    "for i, (state, target_state) in enumerate(zip(states, target_states)):\n",
    "    fidelities_each[i, 0] = fidelity(\n",
    "        C_target=target_state,\n",
    "        U_final=state,\n",
    "        evo_type=\"density\",\n",
    "    )\n",
    "\n",
    "def propagate_single_timestep(rho, rho_target):\n",
    "    tmp = decay_superoperator(rho)\n",
    "\n",
    "    fid = fidelity(C_target=rho_target, U_final=tmp, evo_type=\"density\")\n",
    "\n",
    "    return tmp, fid\n",
    "\n",
    "propagate_single_timestep_vmap = jax.vmap(jax.jit(propagate_single_timestep))\n",
    "\n",
    "for i in tqdm(range(evaluation_time_steps)):\n",
    "    states, fid = propagate_single_timestep_vmap(states, target_states)\n",
    "    fidelities_each[:, i+1] = fid\n",
    "\n",
    "    #for j, rho in enumerate(states):\n",
    "    #    assert np.all(np.isclose(rho, rho.conj().T)), \"State is not Hermitian\"\n",
    "    #    assert np.isclose(np.trace(rho).real, 1.0), \"State is not normalized\"\n",
    "    #    assert np.all(np.linalg.eigvalsh(rho) >= -1e-10), \"State is not positive semidefinite\"\n",
    "\n",
    "fidelities_each = fidelities_each.mean(axis=0) # Average over all basis states\n",
    "\n",
    "# Reshape back to matrix form\n",
    "np.savez(results_path, fidelities=fidelities_each)"
   ]
  },
  {
   "cell_type": "code",
   "execution_count": 8,
   "id": "ee60f631",
   "metadata": {},
   "outputs": [
    {
     "data": {
      "text/plain": [
       "array([1.        , 0.92570502, 0.86063175, 0.80365187, 0.75377759,\n",
       "       0.71014377, 0.67199223, 0.63865821, 0.60955859, 0.58418154,\n",
       "       0.56207762, 0.54285197, 0.52615751, 0.51168902, 0.49917798,\n",
       "       0.48838801, 0.479111  , 0.4711636 , 0.46438424, 0.4586305 ,\n",
       "       0.45377678, 0.44971232, 0.44633935, 0.44357165, 0.44133309,\n",
       "       0.43955647, 0.43818249, 0.43715879, 0.43643916, 0.43598282,\n",
       "       0.43575377, 0.43572028, 0.43585436, 0.43613133, 0.43652947,\n",
       "       0.43702964, 0.43761504, 0.43827088, 0.43898418, 0.4397436 ,\n",
       "       0.44053916, 0.4413622 , 0.44220513, 0.44306137, 0.44392521,\n",
       "       0.4447917 , 0.4456566 , 0.44651626, 0.44736757, 0.44820789,\n",
       "       0.44903501, 0.44984707, 0.45064254, 0.45142019, 0.45217903,\n",
       "       0.45291829, 0.45363739, 0.45433593, 0.45501364, 0.45567039,\n",
       "       0.45630615, 0.456921  , 0.45751509, 0.45808864, 0.45864194,\n",
       "       0.45917531, 0.45968913, 0.46018382, 0.46065979, 0.46111752,\n",
       "       0.46155747, 0.46198013, 0.46238601, 0.46277559, 0.46314939,\n",
       "       0.46350791, 0.46385165, 0.4641811 , 0.46449678, 0.46479915,\n",
       "       0.4650887 , 0.46536589, 0.46563119, 0.46588505, 0.46612789,\n",
       "       0.46636016, 0.46658225, 0.46679458, 0.46699754, 0.4671915 ,\n",
       "       0.46737683, 0.46755389, 0.46772302, 0.46788454, 0.46803879,\n",
       "       0.46818606, 0.46832666, 0.46846086, 0.46858895, 0.46871119,\n",
       "       0.46882783])"
      ]
     },
     "execution_count": 8,
     "metadata": {},
     "output_type": "execute_result"
    }
   ],
   "source": [
    "fidelities_each"
   ]
  },
  {
   "cell_type": "code",
   "execution_count": null,
   "id": "41e64342",
   "metadata": {},
   "outputs": [],
   "source": []
  }
 ],
 "metadata": {
  "kernelspec": {
   "display_name": ".venv",
   "language": "python",
   "name": "python3"
  },
  "language_info": {
   "codemirror_mode": {
    "name": "ipython",
    "version": 3
   },
   "file_extension": ".py",
   "mimetype": "text/x-python",
   "name": "python",
   "nbconvert_exporter": "python",
   "pygments_lexer": "ipython3",
   "version": "3.13.7"
  }
 },
 "nbformat": 4,
 "nbformat_minor": 5
}
