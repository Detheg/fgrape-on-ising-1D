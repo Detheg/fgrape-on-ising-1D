{
 "cells": [
  {
   "cell_type": "code",
   "execution_count": 4,
   "id": "9a1c7e75",
   "metadata": {},
   "outputs": [],
   "source": [
    "# ruff: noqa\n",
    "import sys, os\n",
    "sys.path.append(os.path.abspath(\"./../feedback-grape\"))\n",
    "sys.path.append(os.path.abspath(\"./../\"))\n",
    "\n",
    "# ruff: noqa\n",
    "from feedback_grape.fgrape import optimize_pulse, evaluate_on_longer_time\n",
    "from helpers import (\n",
    "    init_grape_protocol,\n",
    "    init_fgrape_protocol,\n",
    "    test_implementations,\n",
    "    generate_random_discrete_state,\n",
    "    generate_random_bloch_state\n",
    ")\n",
    "from tqdm import tqdm\n",
    "import jax\n",
    "import jax.numpy as jnp\n",
    "import numpy as np\n",
    "from library.utils.FgResult_to_dict import FgResult_to_dict\n",
    "import json\n",
    "\n",
    "test_implementations()\n",
    "\n",
    "jax.config.update(\"jax_enable_x64\", True)"
   ]
  },
  {
   "cell_type": "code",
   "execution_count": 5,
   "id": "b95a59aa",
   "metadata": {},
   "outputs": [],
   "source": [
    "# Physical parameters\n",
    "# (attention! #elements in density matrix grow as 4^N_chains)\n",
    "N_chains = 3 # Number of parallel chains to simulate\n",
    "gamma = 0.05 # Decay constant\n",
    "\n",
    "# Training and evaluation parameters\n",
    "training_params = {\n",
    "    \"N_samples\": 10, # Number of random initial states to sample\n",
    "    \"N_training_iterations\": 10000, # Number of training iterations\n",
    "    \"learning_rate\": 0.01, # Learning rate\n",
    "    \"convergence_threshold\": 1e-6,\n",
    "    \"batch_size\": 8,\n",
    "    \"eval_batch_size\": 16,\n",
    "    \"evaluation_time_steps\": 100,\n",
    "}\n",
    "N_parallel_threads = 4 # Number of parallel threads for training\n",
    "generate_state = generate_random_bloch_state\n",
    "\n",
    "# Parameters to test\n",
    "\n",
    "#num_time_steps : Number of time steps in the control pulse\n",
    "#lut_depth : Depth of the lookup table for feedback\n",
    "#reward_weights: Weights for the reward at each time step. Default only weights last timestep [0, 0, ... 0, 1]\n",
    "\n",
    "experiments = [ # (timesteps, lut_depth, reward_weights, noise_level)\n",
    "    (t, 2, [0]*(t-1)+[1], noise)  for t in [9,10,11,12,13,14,15] for noise in [0.0, 0.5, 1.0, float('inf')]\n",
    "]\n",
    "\n",
    "experiments_format = [ # Format of variables as tuples (name, type, required by grape, required by lut, required by rnn)\n",
    "    (\"t\", int, True, True, True), # number timesteps (or segments)\n",
    "    (\"l\", int, False, True, False), # LUT depth\n",
    "    (\"w\", list, True, True, True), # reward weights\n",
    "    (\"noise\", float, True, True, True), # noise level\n",
    "]\n",
    "\n",
    "# Check if experiment parameters are in specified format\n",
    "for params in experiments:\n",
    "    assert len(params) == len(experiments_format), \"Experiment parameters length mismatch.\"\n",
    "    for i, (param, (name, expected_type, req_grape, req_lut, req_rnn)) in enumerate(zip(params, experiments_format)):\n",
    "        assert type(name) == str, \"Parameter name must be a string.\"\n",
    "        assert type(req_grape) == bool, \"Requirement flags must be boolean.\"\n",
    "        assert type(req_lut) == bool, \"Requirement flags must be boolean.\"\n",
    "        assert type(req_rnn) == bool, \"Requirement flags must be boolean.\"\n",
    "        assert type(param) == expected_type, f\"Parameter '{name}' at index {i} must be of type {expected_type.__name__}.\"\n",
    "        if type(param) == list:\n",
    "            for j, item in enumerate(param):\n",
    "                assert type(item) == int and 0 <= item <= 9, f\"Item at index {j} in parameter '{name}' must be of type int and between 0 and 9.\"\n",
    "\n",
    "def generate_param_paths(params, model_type):\n",
    "    assert model_type in [\"grape\", \"lut\", \"rnn\"], \"Invalid model type.\"\n",
    "\n",
    "    parts = []\n",
    "    for (name, expected_type, req_grape, req_lut, req_rnn), param in zip(experiments_format, params):\n",
    "        required = (model_type == \"grape\" and req_grape) or (model_type == \"lut\" and req_lut) or (model_type == \"rnn\" and req_rnn)\n",
    "        if required:\n",
    "            if expected_type == list:\n",
    "                param_str = \"\".join(str(x) for x in param)\n",
    "            else:\n",
    "                param_str = str(param)\n",
    "            parts.append(f\"{name}={param_str}\")\n",
    "\n",
    "    pstr = f\"{model_type}_\" + \"_\".join(parts)\n",
    "    return (\n",
    "        \"./optimized_architectures/\" + pstr + \".json\",\n",
    "        \"./optimized_architectures/\" + pstr + \"_training_data.json\",\n",
    "        \"./evaluation_results/\" + pstr + \".npz\"\n",
    "    )"
   ]
  },
  {
   "cell_type": "code",
   "execution_count": 6,
   "id": "bcac0ec5",
   "metadata": {},
   "outputs": [
    {
     "name": "stdout",
     "output_type": "stream",
     "text": [
      "Evaluating (9, 2, [0, 0, 0, 0, 0, 0, 0, 0, 1], 0.0)Evaluating (9, 2, [0, 0, 0, 0, 0, 0, 0, 0, 1], 0.5)\n",
      "\n",
      "Training LUT\n",
      "Training LUT\n",
      "Evaluating (9, 2, [0, 0, 0, 0, 0, 0, 0, 0, 1], 1.0)\n",
      "Training LUT\n",
      "Evaluating (9, 2, [0, 0, 0, 0, 0, 0, 0, 0, 1], inf)\n",
      "Training LUT\n"
     ]
    },
    {
     "name": "stderr",
     "output_type": "stream",
     "text": [
      "  0%|          | 0/10 [00:00<?, ?it/s]"
     ]
    },
    {
     "name": "stderr",
     "output_type": "stream",
     "text": [
      "\n",
      "\n",
      "\u001b[A\u001b[A\n",
      " 10%|█         | 1/10 [05:08<46:17, 308.63s/it]\n",
      "\n",
      "\u001b[A\u001b[A\n",
      " 20%|██        | 2/10 [10:27<41:58, 314.83s/it]\n",
      "\n",
      "\u001b[A\u001b[A\n",
      " 30%|███       | 3/10 [15:50<37:09, 318.46s/it]\n",
      "\n",
      "\u001b[A\u001b[A\n",
      " 40%|████      | 4/10 [21:14<32:04, 320.74s/it]\n",
      "\n",
      "\u001b[A\u001b[A\n",
      " 50%|█████     | 5/10 [26:33<26:39, 319.93s/it]\n",
      "\n",
      "\u001b[A\u001b[A\n",
      " 60%|██████    | 6/10 [31:52<21:19, 319.83s/it]\n",
      "\n",
      "\u001b[A\u001b[A\n",
      " 70%|███████   | 7/10 [37:12<15:58, 319.65s/it]\n",
      "\n",
      "\u001b[A\u001b[A\n",
      " 80%|████████  | 8/10 [42:31<10:38, 319.37s/it]\n",
      "\n",
      "\u001b[A\u001b[A\n",
      " 90%|█████████ | 9/10 [47:53<05:20, 320.29s/it]\n",
      "\n",
      "\u001b[A\u001b[A\n",
      "100%|██████████| 10/10 [53:17<00:00, 319.71s/it]\n"
     ]
    },
    {
     "name": "stdout",
     "output_type": "stream",
     "text": [
      "Evaluating (10, 2, [0, 0, 0, 0, 0, 0, 0, 0, 0, 1], 0.0)\n",
      "Training LUT\n"
     ]
    },
    {
     "name": "stderr",
     "output_type": "stream",
     "text": [
      "  0%|          | 0/10 [00:00<?, ?it/s]\n",
      "\n",
      "100%|██████████| 10/10 [53:45<00:00, 322.56s/it]\n"
     ]
    },
    {
     "name": "stdout",
     "output_type": "stream",
     "text": [
      "Evaluating (10, 2, [0, 0, 0, 0, 0, 0, 0, 0, 0, 1], 0.5)\n",
      "Training LUT\n"
     ]
    },
    {
     "name": "stderr",
     "output_type": "stream",
     "text": [
      "\n",
      "\n",
      "100%|██████████| 10/10 [54:11<00:00, 325.16s/it]\n"
     ]
    },
    {
     "name": "stdout",
     "output_type": "stream",
     "text": [
      "Evaluating (10, 2, [0, 0, 0, 0, 0, 0, 0, 0, 0, 1], 1.0)\n",
      "Training LUT\n"
     ]
    },
    {
     "name": "stderr",
     "output_type": "stream",
     "text": [
      "\n",
      "100%|██████████| 10/10 [54:37<00:00, 327.74s/it]\n"
     ]
    },
    {
     "name": "stdout",
     "output_type": "stream",
     "text": [
      "Evaluating (10, 2, [0, 0, 0, 0, 0, 0, 0, 0, 0, 1], inf)\n",
      "Training LUT\n"
     ]
    },
    {
     "name": "stderr",
     "output_type": "stream",
     "text": [
      "\n",
      " 10%|█         | 1/10 [06:01<54:10, 361.21s/it]\n",
      "\n",
      "\u001b[A\u001b[A\n",
      " 20%|██        | 2/10 [11:57<47:45, 358.14s/it]\n",
      "\n",
      "\u001b[A\u001b[A\n",
      " 30%|███       | 3/10 [17:56<41:49, 358.57s/it]\n",
      "\n",
      "\u001b[A\u001b[A\n",
      " 40%|████      | 4/10 [23:52<35:45, 357.66s/it]\n",
      "\n",
      "\u001b[A\u001b[A\n",
      " 50%|█████     | 5/10 [29:54<29:56, 359.30s/it]\n",
      "\n",
      "\u001b[A\u001b[A\n",
      " 60%|██████    | 6/10 [35:55<23:59, 359.81s/it]\n",
      "\n",
      "\u001b[A\u001b[A\n",
      " 70%|███████   | 7/10 [41:59<18:03, 361.13s/it]\n",
      "\n",
      "\u001b[A\u001b[A\n",
      " 80%|████████  | 8/10 [48:01<12:02, 361.30s/it]\n",
      "\n",
      "\u001b[A\u001b[A\n",
      " 90%|█████████ | 9/10 [54:05<06:02, 362.15s/it]\n",
      "\n",
      "\u001b[A\u001b[A\n",
      "100%|██████████| 10/10 [1:00:06<00:00, 360.66s/it]\n"
     ]
    },
    {
     "name": "stdout",
     "output_type": "stream",
     "text": [
      "Evaluating (11, 2, [0, 0, 0, 0, 0, 0, 0, 0, 0, 0, 1], 0.0)\n",
      "Training LUT\n"
     ]
    },
    {
     "name": "stderr",
     "output_type": "stream",
     "text": [
      "  0%|          | 0/10 [00:00<?, ?it/s]\n",
      "\n",
      "100%|██████████| 10/10 [1:00:18<00:00, 361.84s/it]\n"
     ]
    },
    {
     "name": "stdout",
     "output_type": "stream",
     "text": [
      "Evaluating (11, 2, [0, 0, 0, 0, 0, 0, 0, 0, 0, 0, 1], 0.5)\n",
      "Training LUT\n"
     ]
    },
    {
     "name": "stderr",
     "output_type": "stream",
     "text": [
      "\n",
      "\n",
      "100%|██████████| 10/10 [1:00:25<00:00, 362.58s/it]\n"
     ]
    },
    {
     "name": "stdout",
     "output_type": "stream",
     "text": [
      "Evaluating (11, 2, [0, 0, 0, 0, 0, 0, 0, 0, 0, 0, 1], 1.0)\n",
      "Training LUT\n"
     ]
    },
    {
     "name": "stderr",
     "output_type": "stream",
     "text": [
      "\n",
      "100%|██████████| 10/10 [1:01:13<00:00, 367.32s/it]\n"
     ]
    },
    {
     "name": "stdout",
     "output_type": "stream",
     "text": [
      "Evaluating (11, 2, [0, 0, 0, 0, 0, 0, 0, 0, 0, 0, 1], inf)\n",
      "Training LUT\n"
     ]
    },
    {
     "name": "stderr",
     "output_type": "stream",
     "text": [
      "\n",
      " 10%|█         | 1/10 [06:42<1:00:21, 402.37s/it]\n",
      "\n",
      "\u001b[A\u001b[A\n",
      " 20%|██        | 2/10 [13:23<53:33, 401.73s/it]  \n",
      "\n",
      "\u001b[A\u001b[A\n",
      " 30%|███       | 3/10 [20:04<46:50, 401.54s/it]\n",
      "\n",
      "\u001b[A\u001b[A\n",
      " 40%|████      | 4/10 [26:47<40:10, 401.79s/it]\n",
      "\n",
      "\u001b[A\u001b[A\n",
      " 50%|█████     | 5/10 [33:28<33:28, 401.71s/it]\n",
      "\n",
      "\u001b[A\u001b[A\n",
      " 60%|██████    | 6/10 [40:13<26:50, 402.65s/it]\n",
      "\n",
      "\u001b[A\u001b[A\n",
      " 70%|███████   | 7/10 [46:57<20:09, 403.04s/it]\n",
      "\n",
      "\u001b[A\u001b[A\n",
      " 80%|████████  | 8/10 [53:40<13:26, 403.17s/it]\n",
      "\n",
      "\u001b[A\u001b[A\n",
      " 90%|█████████ | 9/10 [1:00:23<06:43, 403.21s/it]\n",
      "\n",
      "\u001b[A\u001b[A\n",
      "100%|██████████| 10/10 [1:07:07<00:00, 402.79s/it]\n"
     ]
    },
    {
     "name": "stdout",
     "output_type": "stream",
     "text": [
      "Evaluating (12, 2, [0, 0, 0, 0, 0, 0, 0, 0, 0, 0, 0, 1], 0.0)\n",
      "Training LUT\n"
     ]
    },
    {
     "name": "stderr",
     "output_type": "stream",
     "text": [
      "  0%|          | 0/10 [00:00<?, ?it/s]\n",
      "\n",
      "100%|██████████| 10/10 [1:07:10<00:00, 403.09s/it]\n"
     ]
    },
    {
     "name": "stdout",
     "output_type": "stream",
     "text": [
      "Evaluating (12, 2, [0, 0, 0, 0, 0, 0, 0, 0, 0, 0, 0, 1], 0.5)\n",
      "Training LUT\n"
     ]
    },
    {
     "name": "stderr",
     "output_type": "stream",
     "text": [
      "\n",
      "\n",
      "100%|██████████| 10/10 [1:07:15<00:00, 403.60s/it]\n"
     ]
    },
    {
     "name": "stdout",
     "output_type": "stream",
     "text": [
      "Evaluating (12, 2, [0, 0, 0, 0, 0, 0, 0, 0, 0, 0, 0, 1], 1.0)\n",
      "Training LUT\n"
     ]
    },
    {
     "name": "stderr",
     "output_type": "stream",
     "text": [
      "\n",
      "100%|██████████| 10/10 [1:07:26<00:00, 404.65s/it]\n"
     ]
    },
    {
     "name": "stdout",
     "output_type": "stream",
     "text": [
      "Evaluating (12, 2, [0, 0, 0, 0, 0, 0, 0, 0, 0, 0, 0, 1], inf)\n",
      "Training LUT\n"
     ]
    },
    {
     "name": "stderr",
     "output_type": "stream",
     "text": [
      "\n",
      " 10%|█         | 1/10 [07:23<1:06:29, 443.23s/it]\n",
      "\n",
      "\u001b[A\u001b[A\n",
      " 20%|██        | 2/10 [14:44<58:56, 442.04s/it]  \n",
      "\n",
      "\u001b[A\u001b[A\n",
      " 30%|███       | 3/10 [22:04<51:27, 441.09s/it]\n",
      "\n",
      "\u001b[A\u001b[A\n",
      " 40%|████      | 4/10 [29:27<44:12, 442.02s/it]\n",
      "\n",
      "\u001b[A\u001b[A\n",
      " 50%|█████     | 5/10 [36:51<36:52, 442.59s/it]\n",
      "\n",
      "\u001b[A\u001b[A\n",
      " 60%|██████    | 6/10 [44:16<29:33, 443.47s/it]\n",
      "\n",
      "\u001b[A\u001b[A\n",
      " 70%|███████   | 7/10 [51:39<22:10, 443.42s/it]\n",
      "\n",
      "\u001b[A\u001b[A\n",
      " 80%|████████  | 8/10 [58:57<14:42, 441.48s/it]\n",
      "\n",
      "\u001b[A\u001b[A\n",
      " 90%|█████████ | 9/10 [1:06:18<07:21, 441.47s/it]\n",
      "\n",
      "\u001b[A\u001b[A\n",
      "100%|██████████| 10/10 [1:13:40<00:00, 442.10s/it]\n"
     ]
    },
    {
     "name": "stdout",
     "output_type": "stream",
     "text": [
      "Evaluating (13, 2, [0, 0, 0, 0, 0, 0, 0, 0, 0, 0, 0, 0, 1], 0.0)\n",
      "Training LUT\n"
     ]
    },
    {
     "name": "stderr",
     "output_type": "stream",
     "text": [
      "  0%|          | 0/10 [00:00<?, ?it/s]\n",
      "\n",
      "100%|██████████| 10/10 [1:14:19<00:00, 445.90s/it]\n"
     ]
    },
    {
     "name": "stdout",
     "output_type": "stream",
     "text": [
      "Evaluating (13, 2, [0, 0, 0, 0, 0, 0, 0, 0, 0, 0, 0, 0, 1], 0.5)\n",
      "Training LUT\n"
     ]
    },
    {
     "name": "stderr",
     "output_type": "stream",
     "text": [
      "\n",
      "\n",
      "100%|██████████| 10/10 [1:14:12<00:00, 445.23s/it]\n"
     ]
    },
    {
     "name": "stdout",
     "output_type": "stream",
     "text": [
      "Evaluating (13, 2, [0, 0, 0, 0, 0, 0, 0, 0, 0, 0, 0, 0, 1], 1.0)\n",
      "Training LUT\n"
     ]
    },
    {
     "name": "stderr",
     "output_type": "stream",
     "text": [
      "\n",
      "100%|██████████| 10/10 [1:14:19<00:00, 445.99s/it]\n"
     ]
    },
    {
     "name": "stdout",
     "output_type": "stream",
     "text": [
      "Evaluating (13, 2, [0, 0, 0, 0, 0, 0, 0, 0, 0, 0, 0, 0, 1], inf)\n",
      "Training LUT\n"
     ]
    },
    {
     "name": "stderr",
     "output_type": "stream",
     "text": [
      "\n",
      " 10%|█         | 1/10 [08:03<1:12:29, 483.29s/it]\n",
      "\n",
      "\u001b[A\u001b[A\n",
      " 20%|██        | 2/10 [16:05<1:04:23, 482.90s/it]\n",
      "\n",
      "\u001b[A\u001b[A\n",
      " 30%|███       | 3/10 [24:09<56:21, 483.12s/it]  \n",
      "\n",
      "\u001b[A\u001b[A\n",
      " 40%|████      | 4/10 [32:13<48:20, 483.42s/it]\n",
      "\n",
      "\u001b[A\u001b[A\n",
      " 50%|█████     | 5/10 [40:18<40:20, 484.07s/it]\n",
      "\n",
      "\u001b[A\u001b[A\n",
      " 60%|██████    | 6/10 [48:23<32:17, 484.47s/it]\n",
      "\n",
      "\u001b[A\u001b[A\n",
      " 70%|███████   | 7/10 [56:29<24:14, 484.76s/it]\n",
      "\n",
      "\u001b[A\u001b[A\n",
      " 80%|████████  | 8/10 [1:04:31<16:07, 483.92s/it]\n",
      "\n",
      "\u001b[A\u001b[A\n",
      " 90%|█████████ | 9/10 [1:12:33<08:03, 483.54s/it]\n",
      "\n",
      "\u001b[A\u001b[A\n",
      "100%|██████████| 10/10 [1:20:37<00:00, 483.70s/it]\n"
     ]
    },
    {
     "name": "stdout",
     "output_type": "stream",
     "text": [
      "Evaluating (14, 2, [0, 0, 0, 0, 0, 0, 0, 0, 0, 0, 0, 0, 0, 1], 0.0)\n",
      "Training LUT\n"
     ]
    },
    {
     "name": "stderr",
     "output_type": "stream",
     "text": [
      "100%|██████████| 10/10 [1:19:25<00:00, 476.55s/it]\n"
     ]
    },
    {
     "name": "stdout",
     "output_type": "stream",
     "text": [
      "Evaluating (14, 2, [0, 0, 0, 0, 0, 0, 0, 0, 0, 0, 0, 0, 0, 1], 0.5)\n",
      "Training LUT\n"
     ]
    },
    {
     "name": "stderr",
     "output_type": "stream",
     "text": [
      "\n",
      "\n",
      "100%|██████████| 10/10 [1:20:47<00:00, 484.72s/it]\n"
     ]
    },
    {
     "name": "stdout",
     "output_type": "stream",
     "text": [
      "Evaluating (14, 2, [0, 0, 0, 0, 0, 0, 0, 0, 0, 0, 0, 0, 0, 1], 1.0)\n",
      "Training LUT\n"
     ]
    },
    {
     "name": "stderr",
     "output_type": "stream",
     "text": [
      "\n",
      "\n",
      "\u001b[A\u001b[A\n",
      "100%|██████████| 10/10 [1:21:01<00:00, 486.13s/it]\n"
     ]
    },
    {
     "name": "stdout",
     "output_type": "stream",
     "text": [
      "Evaluating (14, 2, [0, 0, 0, 0, 0, 0, 0, 0, 0, 0, 0, 0, 0, 1], inf)\n",
      "Training LUT\n"
     ]
    },
    {
     "name": "stderr",
     "output_type": "stream",
     "text": [
      "\n",
      " 10%|█         | 1/10 [08:42<1:18:24, 522.70s/it]\n",
      "\n",
      "\u001b[A\u001b[A\n",
      " 20%|██        | 2/10 [17:24<1:09:37, 522.22s/it]\n",
      "\n",
      "\u001b[A\u001b[A\n",
      " 30%|███       | 3/10 [26:11<1:01:11, 524.54s/it]\n",
      "\n",
      "\u001b[A\u001b[A\n",
      " 40%|████      | 4/10 [34:57<52:30, 525.15s/it]  \n",
      "\n",
      "\u001b[A\u001b[A\n",
      " 50%|█████     | 5/10 [43:47<43:53, 526.65s/it]\n",
      "\n",
      "\u001b[A\u001b[A\n",
      " 60%|██████    | 6/10 [52:36<35:09, 527.48s/it]\n",
      "\n",
      "\u001b[A\u001b[A\n",
      " 70%|███████   | 7/10 [1:01:24<26:22, 527.57s/it]\n",
      "\n",
      "\u001b[A\u001b[A\n",
      " 80%|████████  | 8/10 [1:10:09<17:33, 526.85s/it]\n",
      "\n",
      "\u001b[A\u001b[A\n",
      " 90%|█████████ | 9/10 [1:18:55<08:46, 526.68s/it]\n",
      "\n",
      "\u001b[A\u001b[A\n",
      "100%|██████████| 10/10 [1:27:38<00:00, 525.87s/it]\n"
     ]
    },
    {
     "name": "stdout",
     "output_type": "stream",
     "text": [
      "Evaluating (15, 2, [0, 0, 0, 0, 0, 0, 0, 0, 0, 0, 0, 0, 0, 0, 1], 0.0)\n",
      "Training LUT\n"
     ]
    },
    {
     "name": "stderr",
     "output_type": "stream",
     "text": [
      "100%|██████████| 10/10 [1:27:37<00:00, 525.78s/it]\n"
     ]
    },
    {
     "name": "stdout",
     "output_type": "stream",
     "text": [
      "Evaluating (15, 2, [0, 0, 0, 0, 0, 0, 0, 0, 0, 0, 0, 0, 0, 0, 1], 0.5)\n",
      "Training LUT\n"
     ]
    },
    {
     "name": "stderr",
     "output_type": "stream",
     "text": [
      "\n",
      "\n",
      "100%|██████████| 10/10 [1:28:37<00:00, 531.75s/it]\n"
     ]
    },
    {
     "name": "stdout",
     "output_type": "stream",
     "text": [
      "Evaluating (15, 2, [0, 0, 0, 0, 0, 0, 0, 0, 0, 0, 0, 0, 0, 0, 1], 1.0)\n",
      "Training LUT\n"
     ]
    },
    {
     "name": "stderr",
     "output_type": "stream",
     "text": [
      "\n",
      "\n",
      "\u001b[A\u001b[A\n",
      "100%|██████████| 10/10 [1:27:57<00:00, 527.75s/it]\n"
     ]
    },
    {
     "name": "stdout",
     "output_type": "stream",
     "text": [
      "Evaluating (15, 2, [0, 0, 0, 0, 0, 0, 0, 0, 0, 0, 0, 0, 0, 0, 1], inf)\n",
      "Training LUT\n"
     ]
    },
    {
     "name": "stderr",
     "output_type": "stream",
     "text": [
      "\n",
      " 10%|█         | 1/10 [09:25<1:24:48, 565.44s/it]\n",
      "\n",
      "\u001b[A\u001b[A\n",
      "\u001b[A\n",
      " 20%|██        | 2/10 [18:54<1:15:40, 567.57s/it]\n",
      "\n",
      " 30%|███       | 3/10 [24:21<53:23, 457.61s/it]  \n",
      "\u001b[A\n",
      "\n",
      " 40%|████      | 4/10 [33:51<50:13, 502.18s/it]\n",
      "\u001b[A\n",
      "\n",
      " 50%|█████     | 5/10 [43:27<44:02, 528.53s/it]\n",
      "\u001b[A\n",
      "\n",
      " 70%|███████   | 7/10 [55:24<20:40, 413.45s/it]\n",
      "\u001b[A\n",
      "\n",
      " 80%|████████  | 8/10 [1:04:53<15:25, 462.77s/it]\n",
      "\u001b[A\n",
      "\n",
      " 90%|█████████ | 9/10 [1:14:23<08:16, 496.47s/it]\n",
      "\u001b[A\n",
      "\n",
      "100%|██████████| 10/10 [1:23:53<00:00, 503.32s/it]\n",
      "\n",
      "\u001b[A\n",
      "\n",
      "\u001b[A\u001b[A\n",
      "100%|██████████| 10/10 [1:29:35<00:00, 537.52s/it]\n",
      "100%|██████████| 10/10 [1:33:28<00:00, 560.86s/it]\n",
      "\n",
      "\n",
      "100%|██████████| 10/10 [1:32:55<00:00, 557.54s/it]\n"
     ]
    },
    {
     "data": {
      "text/plain": [
       "0"
      ]
     },
     "execution_count": 6,
     "metadata": {},
     "output_type": "execute_result"
    }
   ],
   "source": [
    "from concurrent.futures import ThreadPoolExecutor\n",
    "\n",
    "def run_experiment(params):\n",
    "    num_time_steps, lut_depth, reward_weights, noise_level = params\n",
    "    print(f\"Evaluating {params}\")\n",
    "    noisy_state = lambda key: generate_state(key, N_chains=N_chains, noise_level=noise_level)\n",
    "    pure_state = lambda key: generate_state(key, N_chains=N_chains, noise_level=0.0)\n",
    "\n",
    "    # Only test LUTs in this example\n",
    "    path1, path2, path3 = generate_param_paths(params, \"lut\")\n",
    "    if os.path.exists(path1):\n",
    "        print(f\"LUT already trained, skipping training.\")\n",
    "    else:\n",
    "        print(\"Training LUT\")\n",
    "\n",
    "        best_result = None\n",
    "        best_result_fidelities = None\n",
    "        fidelities_each = []\n",
    "        for s in tqdm(range(training_params[\"N_samples\"])):\n",
    "            system_params = init_fgrape_protocol(jax.random.PRNGKey(s), N_chains, gamma)\n",
    "\n",
    "            # Train LUT\n",
    "            result = optimize_pulse(\n",
    "                U_0=noisy_state,\n",
    "                C_target=pure_state,\n",
    "                system_params=system_params,\n",
    "                num_time_steps=num_time_steps,\n",
    "                lut_depth=lut_depth,\n",
    "                reward_weights=reward_weights,\n",
    "                mode=\"lookup\",\n",
    "                goal=\"fidelity\",\n",
    "                max_iter=training_params[\"N_training_iterations\"],\n",
    "                convergence_threshold=training_params[\"convergence_threshold\"],\n",
    "                learning_rate=training_params[\"learning_rate\"],\n",
    "                evo_type=\"density\",\n",
    "                batch_size=training_params[\"batch_size\"],\n",
    "                eval_batch_size=1, # This evaluation is discarded\n",
    "            )\n",
    "\n",
    "            eval_result = evaluate_on_longer_time( # Evaluate on longer time and choose best LUT accordingly\n",
    "                U_0 = pure_state,\n",
    "                C_target = pure_state,\n",
    "                system_params = system_params,\n",
    "                optimized_trainable_parameters = result.optimized_trainable_parameters,\n",
    "                num_time_steps = training_params[\"evaluation_time_steps\"],\n",
    "                evo_type = \"density\",\n",
    "                goal = \"fidelity\",\n",
    "                eval_batch_size = training_params[\"eval_batch_size\"],\n",
    "                mode = \"lookup\",\n",
    "            )\n",
    "\n",
    "            fidelities = eval_result.fidelity_each_timestep\n",
    "\n",
    "            if best_result is None or np.mean(fidelities) > np.mean(best_result_fidelities):\n",
    "                best_result = result\n",
    "                best_result_fidelities = fidelities\n",
    "\n",
    "            fidelities_each.append(float(np.mean(fidelities)))\n",
    "\n",
    "        np.savez(path3, fidelities_lut=np.array(best_result_fidelities))\n",
    "\n",
    "        with open(path1, \"w\") as f:\n",
    "            json.dump(FgResult_to_dict(best_result), f)\n",
    "\n",
    "        with open(path2, \"w\") as f:\n",
    "            training_data = {\n",
    "                \"fidelities_each_sample\": fidelities_each,\n",
    "                \"average_fidelity\": float(np.mean(fidelities_each)),\n",
    "                \"training_params\": training_params,\n",
    "            }\n",
    "            json.dump(training_data, f)\n",
    "\n",
    "# Run experiments in parallel\n",
    "if N_parallel_threads > 1:\n",
    "    with ThreadPoolExecutor(max_workers=N_parallel_threads) as executor:\n",
    "        executor.map(run_experiment, experiments)\n",
    "else:\n",
    "    for params in experiments:\n",
    "        run_experiment(params)\n",
    "\n",
    "# Play a sound when done\n",
    "os.system('say \"done.\"')"
   ]
  },
  {
   "cell_type": "code",
   "execution_count": null,
   "id": "06921e56",
   "metadata": {},
   "outputs": [],
   "source": []
  }
 ],
 "metadata": {
  "kernelspec": {
   "display_name": ".venv",
   "language": "python",
   "name": "python3"
  },
  "language_info": {
   "codemirror_mode": {
    "name": "ipython",
    "version": 3
   },
   "file_extension": ".py",
   "mimetype": "text/x-python",
   "name": "python",
   "nbconvert_exporter": "python",
   "pygments_lexer": "ipython3",
   "version": "3.13.7"
  }
 },
 "nbformat": 4,
 "nbformat_minor": 5
}
