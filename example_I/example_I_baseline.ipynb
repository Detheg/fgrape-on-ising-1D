{
 "cells": [
  {
   "cell_type": "markdown",
   "id": "d73e0c20",
   "metadata": {},
   "source": [
    "Here, the performance of the lookup tables optimized in the \"example_F_lookup_training_test.ipynb\" on state stabilization for longer time durations can be tested."
   ]
  },
  {
   "cell_type": "code",
   "execution_count": 1,
   "id": "eef96dae",
   "metadata": {},
   "outputs": [],
   "source": [
    "# ruff: noqa\n",
    "import sys, os\n",
    "sys.path.append(os.path.abspath(\"./../feedback-grape\"))\n",
    "sys.path.append(os.path.abspath(\"./../\"))\n",
    "\n",
    "# ruff: noqa\n",
    "from helpers import (\n",
    "    transport_unitary,\n",
    "    initialize_chain_of_zeros,\n",
    "    partial_trace,\n",
    "    generate_random_discrete_state,\n",
    "    generate_random_bloch_state,\n",
    "    test_implementations,\n",
    ")\n",
    "import numpy as np\n",
    "from feedback_grape.utils.fidelity import fidelity\n",
    "from feedback_grape.utils.operators import sigmam\n",
    "from library.utils.qubit_chain_1D import embed\n",
    "from feedback_grape.utils.solver import mesolve\n",
    "from tqdm import tqdm\n",
    "import jax\n",
    "import jax.numpy as jnp\n",
    "\n",
    "test_implementations()"
   ]
  },
  {
   "cell_type": "code",
   "execution_count": 2,
   "id": "d537a4c3",
   "metadata": {},
   "outputs": [],
   "source": [
    "# Physical parameters\n",
    "n = 2 # number of qubits per chain (>= 3)\n",
    "N_chains = 3 # Number of parallel chains to simulate\n",
    "gamma = 0.25 # Decay constant\n",
    "evaluation_time_steps = 100 # Number of time steps for evaluation\n",
    "batch_size = 256 # Number of random states to evaluate in parallel\n",
    "\n",
    "generate_random_state = generate_random_bloch_state\n",
    "# Path to save results\n",
    "results_path = \"./evaluation_results/baseline_fidelities.npz\""
   ]
  },
  {
   "cell_type": "code",
   "execution_count": 3,
   "id": "e402d3d9",
   "metadata": {},
   "outputs": [
    {
     "name": "stderr",
     "output_type": "stream",
     "text": [
      "100%|██████████| 100/100 [01:35<00:00,  1.04it/s]\n"
     ]
    }
   ],
   "source": [
    "base_dim = 2**N_chains\n",
    "T_half = transport_unitary(0.5, n, N_chains)\n",
    "c_ops = [sum([gamma * embed(sigmam(), idx, N_chains*n) for idx in range(N_chains*n)])]\n",
    "\n",
    "# Evolve all basis states and compute fidelities\n",
    "keys = jax.random.split(jax.random.PRNGKey(42), batch_size)\n",
    "states = jnp.array([generate_random_state(key, N_chains, noise_level = 0.0) for key in keys])\n",
    "target_states = jnp.array([generate_random_state(key, N_chains, noise_level=0.0) for key in keys])\n",
    "\n",
    "fidelities_each = np.zeros((len(states), evaluation_time_steps+1))\n",
    "for i, (state, target_state) in enumerate(zip(states, target_states)):\n",
    "    fidelities_each[i, 0] = fidelity(\n",
    "        C_target=target_state,\n",
    "        U_final=state,\n",
    "        evo_type=\"density\",\n",
    "    )\n",
    "\n",
    "def propagate_single_timestep(rho, rho_target):\n",
    "    tmp = initialize_chain_of_zeros(rho, n=n, N_chains=N_chains)\n",
    "    tmp = T_half @ tmp @ T_half.conj().T\n",
    "\n",
    "    tmp = mesolve(\n",
    "        jump_ops=c_ops,\n",
    "        rho0=tmp,\n",
    "    )\n",
    "\n",
    "    tmp = T_half @ tmp @ T_half.conj().T\n",
    "    tmp = partial_trace(tmp, sys_A_dim=base_dim**(n-1), sys_B_dim=base_dim)\n",
    "\n",
    "    fid = fidelity(C_target=rho_target, U_final=tmp, evo_type=\"density\")\n",
    "\n",
    "    return tmp, fid\n",
    "\n",
    "propagate_single_timestep_vmap = jax.vmap(jax.jit(propagate_single_timestep))\n",
    "\n",
    "for i in tqdm(range(evaluation_time_steps)):\n",
    "    states, fid = propagate_single_timestep_vmap(states, target_states)\n",
    "    fidelities_each[:, i+1] = fid\n",
    "\n",
    "    #for j, rho in enumerate(states):\n",
    "    #    assert np.all(np.isclose(rho, rho.conj().T)), \"State is not Hermitian\"\n",
    "    #    assert np.isclose(np.trace(rho).real, 1.0), \"State is not normalized\"\n",
    "    #    assert np.all(np.linalg.eigvalsh(rho) >= -1e-10), \"State is not positive semidefinite\"\n",
    "\n",
    "fidelities_each = fidelities_each.mean(axis=0) # Average over all basis states\n",
    "\n",
    "# Reshape back to matrix form\n",
    "np.savez(results_path, fidelities=fidelities_each)"
   ]
  },
  {
   "cell_type": "code",
   "execution_count": 4,
   "id": "ee60f631",
   "metadata": {},
   "outputs": [
    {
     "data": {
      "text/plain": [
       "array([1.        , 0.92197055, 0.85573523, 0.79992903, 0.75321514,\n",
       "       0.71433558, 0.68213931, 0.65559516, 0.63379448, 0.6159473 ,\n",
       "       0.60137454, 0.58949808, 0.57982993, 0.57196134, 0.56555231,\n",
       "       0.56032187, 0.55603926, 0.55251606, 0.54959932, 0.54716556,\n",
       "       0.54511562, 0.54337037, 0.54186696, 0.54055577, 0.53939786,\n",
       "       0.53836282, 0.53742706, 0.53657238, 0.53578478, 0.53505361,\n",
       "       0.53437074, 0.53373001, 0.53312676, 0.53255743, 0.53201931,\n",
       "       0.53151027, 0.53102865, 0.53057306, 0.53014236, 0.52973552,\n",
       "       0.52935162, 0.52898978, 0.52864915, 0.52832891, 0.52802822,\n",
       "       0.52774627, 0.52748223, 0.52723528, 0.5270046 , 0.52678937,\n",
       "       0.52658879, 0.52640207, 0.52622843, 0.52606712, 0.52591742,\n",
       "       0.5257786 , 0.52564999, 0.52553094, 0.52542081, 0.52531902,\n",
       "       0.525225  , 0.52513821, 0.52505814, 0.52498432, 0.5249163 ,\n",
       "       0.52485364, 0.52479596, 0.52474289, 0.52469407, 0.52464918,\n",
       "       0.52460793, 0.52457002, 0.52453521, 0.52450324, 0.5244739 ,\n",
       "       0.52444697, 0.52442227, 0.5243996 , 0.52437882, 0.52435977,\n",
       "       0.5243423 , 0.52432629, 0.52431163, 0.52429818, 0.52428587,\n",
       "       0.52427459, 0.52426426, 0.52425481, 0.52424615, 0.52423822,\n",
       "       0.52423096, 0.52422431, 0.52421823, 0.52421267, 0.52420757,\n",
       "       0.52420291, 0.52419864, 0.52419474, 0.52419117, 0.52418791,\n",
       "       0.52418492])"
      ]
     },
     "execution_count": 4,
     "metadata": {},
     "output_type": "execute_result"
    }
   ],
   "source": [
    "fidelities_each"
   ]
  },
  {
   "cell_type": "code",
   "execution_count": null,
   "id": "7bc10a19",
   "metadata": {},
   "outputs": [],
   "source": []
  }
 ],
 "metadata": {
  "kernelspec": {
   "display_name": ".venv",
   "language": "python",
   "name": "python3"
  },
  "language_info": {
   "codemirror_mode": {
    "name": "ipython",
    "version": 3
   },
   "file_extension": ".py",
   "mimetype": "text/x-python",
   "name": "python",
   "nbconvert_exporter": "python",
   "pygments_lexer": "ipython3",
   "version": "3.13.7"
  }
 },
 "nbformat": 4,
 "nbformat_minor": 5
}
