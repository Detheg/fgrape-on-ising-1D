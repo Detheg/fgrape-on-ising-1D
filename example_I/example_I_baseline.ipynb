{
 "cells": [
  {
   "cell_type": "markdown",
   "id": "d73e0c20",
   "metadata": {},
   "source": [
    "Here, the performance of the lookup tables optimized in the \"example_F_lookup_training_test.ipynb\" on state stabilization for longer time durations can be tested."
   ]
  },
  {
   "cell_type": "code",
   "execution_count": 1,
   "id": "eef96dae",
   "metadata": {},
   "outputs": [],
   "source": [
    "# ruff: noqa\n",
    "import sys, os\n",
    "sys.path.append(os.path.abspath(\"./../feedback-grape\"))\n",
    "sys.path.append(os.path.abspath(\"./../\"))\n",
    "\n",
    "# ruff: noqa\n",
    "from helpers import (\n",
    "    transport_unitary,\n",
    "    initialize_chain_of_zeros,\n",
    "    partial_trace,\n",
    "    generate_random_state,\n",
    "    generate_random_initial_state,\n",
    "    test_implementations,\n",
    ")\n",
    "import numpy as np\n",
    "from feedback_grape.utils.fidelity import fidelity\n",
    "from feedback_grape.utils.operators import sigmam\n",
    "from library.utils.qubit_chain_1D import embed\n",
    "from feedback_grape.utils.solver import mesolve\n",
    "from tqdm import tqdm\n",
    "import jax\n",
    "import jax.numpy as jnp\n",
    "\n",
    "test_implementations()"
   ]
  },
  {
   "cell_type": "code",
   "execution_count": 2,
   "id": "d537a4c3",
   "metadata": {},
   "outputs": [],
   "source": [
    "# Physical parameters\n",
    "n = 2 # number of qubits per chain (>= 3)\n",
    "N_chains = 2 # Number of parallel chains to simulate\n",
    "gamma = 0.25 # Decay constant\n",
    "evaluation_time_steps = 200 # Number of time steps for evaluation\n",
    "batch_size = 256 # Number of random states to evaluate in parallel\n",
    "\n",
    "# Path to save results\n",
    "results_path = \"./evaluation_results/baseline_fidelities.npz\""
   ]
  },
  {
   "cell_type": "code",
   "execution_count": 3,
   "id": "e402d3d9",
   "metadata": {},
   "outputs": [
    {
     "name": "stderr",
     "output_type": "stream",
     "text": [
      "100%|██████████| 200/200 [00:09<00:00, 20.17it/s]\n"
     ]
    }
   ],
   "source": [
    "base_dim = 2**N_chains\n",
    "T_half = transport_unitary(0.5, n, N_chains)\n",
    "c_ops = [sum([gamma * embed(sigmam(), idx, N_chains*n) for idx in range(N_chains*n)])]\n",
    "\n",
    "# Evolve all basis states and compute fidelities\n",
    "keys = jax.random.split(jax.random.PRNGKey(42), batch_size)\n",
    "states = jnp.array([generate_random_initial_state(key, N_chains) for key in keys])\n",
    "target_states = jnp.array([generate_random_state(key, N_chains) for key in keys])\n",
    "\n",
    "fidelities_each = np.zeros((len(states), evaluation_time_steps+1))\n",
    "for i, (state, target_state) in enumerate(zip(states, target_states)):\n",
    "    fidelities_each[i, 0] = fidelity(\n",
    "        C_target=target_state,\n",
    "        U_final=state,\n",
    "        evo_type=\"density\",\n",
    "    )\n",
    "\n",
    "def propagate_single_timestep(rho, rho_target):\n",
    "    tmp = initialize_chain_of_zeros(rho, n=n, N_chains=N_chains)\n",
    "    tmp = T_half @ tmp @ T_half.conj().T\n",
    "\n",
    "    tmp = mesolve(\n",
    "        jump_ops=c_ops,\n",
    "        rho0=tmp,\n",
    "    )\n",
    "\n",
    "    tmp = T_half @ tmp @ T_half.conj().T\n",
    "    tmp = partial_trace(tmp, sys_A_dim=base_dim**(n-1), sys_B_dim=base_dim)\n",
    "\n",
    "    fid = fidelity(C_target=rho_target, U_final=tmp, evo_type=\"density\")\n",
    "\n",
    "    return tmp, fid\n",
    "\n",
    "propagate_single_timestep_vmap = jax.vmap(jax.jit(propagate_single_timestep))\n",
    "\n",
    "for i in tqdm(range(evaluation_time_steps)):\n",
    "    states, fid = propagate_single_timestep_vmap(states, target_states)\n",
    "    fidelities_each[:, i+1] = fid\n",
    "\n",
    "    #for j, rho in enumerate(states):\n",
    "    #    assert np.all(np.isclose(rho, rho.conj().T)), \"State is not Hermitian\"\n",
    "    #    assert np.isclose(np.trace(rho).real, 1.0), \"State is not normalized\"\n",
    "    #    assert np.all(np.linalg.eigvalsh(rho) >= -1e-10), \"State is not positive semidefinite\"\n",
    "\n",
    "fidelities_each = fidelities_each.mean(axis=0) # Average over all basis states\n",
    "\n",
    "# Reshape back to matrix form\n",
    "np.savez(results_path, fidelities=fidelities_each)"
   ]
  },
  {
   "cell_type": "code",
   "execution_count": 4,
   "id": "ee60f631",
   "metadata": {},
   "outputs": [
    {
     "data": {
      "text/plain": [
       "array([0.64235275, 0.61621116, 0.5911702 , 0.56727525, 0.54454959,\n",
       "       0.52299869, 0.50261382, 0.48337509, 0.46525401, 0.44821555,\n",
       "       0.43221992, 0.417224  , 0.40318253, 0.39004903, 0.37777662,\n",
       "       0.36631862, 0.35562904, 0.34566293, 0.33637673, 0.32772841,\n",
       "       0.31967767, 0.31218601, 0.30521682, 0.29873536, 0.29270879,\n",
       "       0.28710614, 0.28189825, 0.27705775, 0.27255897, 0.26837788,\n",
       "       0.26449202, 0.26088042, 0.25752352, 0.25440311, 0.25150222,\n",
       "       0.24880508, 0.24629703, 0.24396444, 0.24179468, 0.23977599,\n",
       "       0.23789751, 0.23614913, 0.23452149, 0.23300591, 0.23159437,\n",
       "       0.23027941, 0.22905412, 0.22791212, 0.22684748, 0.22585472,\n",
       "       0.22492875, 0.22406486, 0.22325869, 0.2225062 , 0.22180363,\n",
       "       0.22114751, 0.22053462, 0.21996198, 0.21942681, 0.21892654,\n",
       "       0.2184588 , 0.21802135, 0.21761216, 0.21722931, 0.21687102,\n",
       "       0.21653566, 0.21622169, 0.21592768, 0.21565232, 0.21539437,\n",
       "       0.21515269, 0.2149262 , 0.21471393, 0.21451493, 0.21432836,\n",
       "       0.2141534 , 0.21398931, 0.2138354 , 0.213691  , 0.21355551,\n",
       "       0.21342837, 0.21330905, 0.21319704, 0.2130919 , 0.21299318,\n",
       "       0.21290048, 0.21281344, 0.21273169, 0.2126549 , 0.21258277,\n",
       "       0.21251501, 0.21245135, 0.21239153, 0.21233532, 0.2122825 ,\n",
       "       0.21223286, 0.2121862 , 0.21214234, 0.21210111, 0.21206236,\n",
       "       0.21202593, 0.21199167, 0.21195946, 0.21192918, 0.2119007 ,\n",
       "       0.21187392, 0.21184874, 0.21182506, 0.21180279, 0.21178184,\n",
       "       0.21176213, 0.2117436 , 0.21172617, 0.21170977, 0.21169434,\n",
       "       0.21167983, 0.21166618, 0.21165334, 0.21164126, 0.21162989,\n",
       "       0.2116192 , 0.21160914, 0.21159967, 0.21159076, 0.21158238,\n",
       "       0.21157449, 0.21156707, 0.21156009, 0.21155352, 0.21154734,\n",
       "       0.21154152, 0.21153605, 0.2115309 , 0.21152605, 0.21152149,\n",
       "       0.21151719, 0.21151315, 0.21150935, 0.21150577, 0.21150241,\n",
       "       0.21149924, 0.21149625, 0.21149345, 0.21149081, 0.21148832,\n",
       "       0.21148598, 0.21148378, 0.21148171, 0.21147976, 0.21147792,\n",
       "       0.21147619, 0.21147457, 0.21147304, 0.2114716 , 0.21147024,\n",
       "       0.21146896, 0.21146776, 0.21146663, 0.21146557, 0.21146457,\n",
       "       0.21146363, 0.21146274, 0.2114619 , 0.21146112, 0.21146038,\n",
       "       0.21145968, 0.21145903, 0.21145841, 0.21145783, 0.21145729,\n",
       "       0.21145677, 0.21145629, 0.21145583, 0.2114554 , 0.211455  ,\n",
       "       0.21145462, 0.21145426, 0.21145393, 0.21145361, 0.21145331,\n",
       "       0.21145303, 0.21145277, 0.21145252, 0.21145228, 0.21145206,\n",
       "       0.21145186, 0.21145166, 0.21145148, 0.21145131, 0.21145114,\n",
       "       0.21145099, 0.21145085, 0.21145071, 0.21145058, 0.21145046,\n",
       "       0.21145035, 0.21145024, 0.21145014, 0.21145005, 0.21144996,\n",
       "       0.21144988])"
      ]
     },
     "execution_count": 4,
     "metadata": {},
     "output_type": "execute_result"
    }
   ],
   "source": [
    "fidelities_each"
   ]
  }
 ],
 "metadata": {
  "kernelspec": {
   "display_name": ".venv",
   "language": "python",
   "name": "python3"
  },
  "language_info": {
   "codemirror_mode": {
    "name": "ipython",
    "version": 3
   },
   "file_extension": ".py",
   "mimetype": "text/x-python",
   "name": "python",
   "nbconvert_exporter": "python",
   "pygments_lexer": "ipython3",
   "version": "3.13.7"
  }
 },
 "nbformat": 4,
 "nbformat_minor": 5
}
