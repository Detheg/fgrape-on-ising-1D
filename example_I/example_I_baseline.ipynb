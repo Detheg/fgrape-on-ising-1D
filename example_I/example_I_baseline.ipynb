{
 "cells": [
  {
   "cell_type": "markdown",
   "id": "d73e0c20",
   "metadata": {},
   "source": [
    "Here, the performance of the lookup tables optimized in the \"example_F_lookup_training_test.ipynb\" on state stabilization for longer time durations can be tested."
   ]
  },
  {
   "cell_type": "code",
   "execution_count": 4,
   "id": "eef96dae",
   "metadata": {},
   "outputs": [],
   "source": [
    "# ruff: noqa\n",
    "import sys, os\n",
    "sys.path.append(os.path.abspath(\"./../feedback-grape\"))\n",
    "sys.path.append(os.path.abspath(\"./../\"))\n",
    "\n",
    "# ruff: noqa\n",
    "from helpers import (\n",
    "    transport_unitary,\n",
    "    initialize_chain_of_zeros,\n",
    "    partial_trace,\n",
    "    generate_all_states,\n",
    "    test_implementations,\n",
    ")\n",
    "import numpy as np\n",
    "from feedback_grape.utils.fidelity import fidelity\n",
    "from feedback_grape.utils.operators import identity, sigmam, sigmap\n",
    "from library.utils.qubit_chain_1D import embed\n",
    "from feedback_grape.utils.solver import mesolve\n",
    "from tqdm import tqdm\n",
    "\n",
    "test_implementations()"
   ]
  },
  {
   "cell_type": "code",
   "execution_count": 5,
   "id": "d537a4c3",
   "metadata": {},
   "outputs": [],
   "source": [
    "# Physical parameters\n",
    "n = 2 # number of qubits per chain (>= 3)\n",
    "N_chains = 2 # Number of parallel chains to simulate\n",
    "gamma = 0.25 # Decay constant\n",
    "evaluation_time_steps = 200 # Number of time steps for evaluation\n",
    "\n",
    "# Path to save results\n",
    "results_path = \"./evaluation_results/baseline_fidelities.npz\""
   ]
  },
  {
   "cell_type": "code",
   "execution_count": 6,
   "id": "e402d3d9",
   "metadata": {},
   "outputs": [
    {
     "name": "stderr",
     "output_type": "stream",
     "text": [
      "100%|██████████| 200/200 [01:45<00:00,  1.89it/s]\n"
     ]
    }
   ],
   "source": [
    "# Initialization\n",
    "base_dim = 2**N_chains\n",
    "T_half = transport_unitary(0.5, n, N_chains)\n",
    "c_ops = [sum([gamma * embed(sigmam(), idx, N_chains*n) for idx in range(N_chains*n)])]\n",
    "\n",
    "# Evolve all basis states and compute fidelities\n",
    "states = [np.array(state) for state in generate_all_states(N_chains)]\n",
    "initial_states = [np.array(state) for state in states]\n",
    "fidelities_each = np.zeros((len(states), evaluation_time_steps+1))\n",
    "fidelities_each[:, 0] = 1.0\n",
    "\n",
    "for i in tqdm(range(evaluation_time_steps)):\n",
    "    for j, rho in enumerate(states):\n",
    "        assert np.all(np.isclose(rho, rho.conj().T)), \"State is not Hermitian\"\n",
    "        assert np.isclose(np.trace(rho).real, 1.0), \"State is not normalized\"\n",
    "        assert np.all(np.linalg.eigvalsh(rho) >= -1e-10), \"State is not positive semidefinite\"\n",
    "\n",
    "        # Propagate the state\n",
    "        tmp = initialize_chain_of_zeros(rho, n=n, N_chains=N_chains)\n",
    "        tmp = T_half @ tmp @ T_half.conj().T\n",
    "\n",
    "        tmp = mesolve(\n",
    "            jump_ops=c_ops,\n",
    "            rho0=tmp,\n",
    "        )\n",
    "\n",
    "        tmp = T_half @ tmp @ T_half.conj().T\n",
    "        tmp = partial_trace(tmp, sys_A_dim=base_dim**(n-1), sys_B_dim=base_dim)\n",
    "\n",
    "        states[j] = tmp\n",
    "        fid = fidelity(C_target=initial_states[j], U_final=tmp, evo_type=\"density\")\n",
    "        fidelities_each[j, i+1] = fid\n",
    "\n",
    "fidelities_each = fidelities_each.mean(axis=0) # Average over all basis states\n",
    "\n",
    "# Reshape back to matrix form\n",
    "np.savez(results_path, fidelities=fidelities_each)"
   ]
  },
  {
   "cell_type": "code",
   "execution_count": null,
   "id": "20988b07",
   "metadata": {},
   "outputs": [],
   "source": []
  }
 ],
 "metadata": {
  "kernelspec": {
   "display_name": ".venv",
   "language": "python",
   "name": "python3"
  },
  "language_info": {
   "codemirror_mode": {
    "name": "ipython",
    "version": 3
   },
   "file_extension": ".py",
   "mimetype": "text/x-python",
   "name": "python",
   "nbconvert_exporter": "python",
   "pygments_lexer": "ipython3",
   "version": "3.13.7"
  }
 },
 "nbformat": 4,
 "nbformat_minor": 5
}
