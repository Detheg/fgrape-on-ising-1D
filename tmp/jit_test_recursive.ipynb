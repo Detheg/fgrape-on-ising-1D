{
 "cells": [
  {
   "cell_type": "code",
   "execution_count": 1,
   "id": "ae2a85d9",
   "metadata": {},
   "outputs": [],
   "source": [
    "import jax\n",
    "import jax.numpy as jnp\n",
    "from jax import lax"
   ]
  },
  {
   "cell_type": "markdown",
   "id": "34912957",
   "metadata": {},
   "source": [
    "some basic operation with a matrix which takes a lot of memory, but most of it is redundant"
   ]
  },
  {
   "cell_type": "code",
   "execution_count": 2,
   "id": "41efb9ed",
   "metadata": {},
   "outputs": [],
   "source": [
    "def loop_body(_, params): # calculate 2*a in unnecessarily complicated way\n",
    "    a, key = params\n",
    "    huge_matrix = jnp.identity(10000)*jax.random.uniform(key, minval=-2, maxval=2)\n",
    "    huge_matrix = a * huge_matrix\n",
    "    huge_vector = jnp.array([1.0] + [0.0]*9999)\n",
    "    a_new = huge_vector @ huge_matrix @ huge_vector.T\n",
    "    key = jax.random.split(key)[0]\n",
    "    return a_new, key"
   ]
  },
  {
   "cell_type": "markdown",
   "id": "ac025969",
   "metadata": {},
   "source": [
    "Run the cell below. Jax will build the whole graph and then optimize it (takes 16s on first run, 3.5s on second)"
   ]
  },
  {
   "cell_type": "code",
   "execution_count": 3,
   "id": "650c165d",
   "metadata": {},
   "outputs": [
    {
     "data": {
      "text/plain": [
       "Array(-3.969895e-37, dtype=float32)"
      ]
     },
     "execution_count": 3,
     "metadata": {},
     "output_type": "execute_result"
    }
   ],
   "source": [
    "@jax.jit\n",
    "def multiply(key):\n",
    "    result = 1\n",
    "    for i in range(200):\n",
    "        result, key = loop_body(i, (result, key))\n",
    "    return result\n",
    "\n",
    "multiply(jax.random.PRNGKey(0))\n"
   ]
  },
  {
   "cell_type": "code",
   "execution_count": 4,
   "id": "4feb9774",
   "metadata": {},
   "outputs": [
    {
     "data": {
      "text/plain": [
       "Array(-3.969895e-37, dtype=float32)"
      ]
     },
     "execution_count": 4,
     "metadata": {},
     "output_type": "execute_result"
    }
   ],
   "source": [
    "multiply(jax.random.PRNGKey(0))"
   ]
  },
  {
   "cell_type": "markdown",
   "id": "57e4bc53",
   "metadata": {},
   "source": [
    "Run the cell below. Jax will compile the loop body, optimize it and then build the recursive graph (does not explode in RAM)"
   ]
  },
  {
   "cell_type": "code",
   "execution_count": null,
   "id": "dc5a5e32",
   "metadata": {},
   "outputs": [
    {
     "data": {
      "text/plain": [
       "Array(-3.969895e-37, dtype=float32)"
      ]
     },
     "execution_count": 7,
     "metadata": {},
     "output_type": "execute_result"
    }
   ],
   "source": [
    "@jax.jit\n",
    "def multiply(key):\n",
    "    result, _ = lax.fori_loop(0, 200, loop_body, (1, key))\n",
    "\n",
    "    return result\n",
    "\n",
    "multiply(jax.random.PRNGKey(0))\n"
   ]
  },
  {
   "cell_type": "code",
   "execution_count": 8,
   "id": "4c50b7fa",
   "metadata": {},
   "outputs": [
    {
     "data": {
      "text/plain": [
       "Array(-3.969895e-37, dtype=float32)"
      ]
     },
     "execution_count": 8,
     "metadata": {},
     "output_type": "execute_result"
    }
   ],
   "source": [
    "multiply(jax.random.PRNGKey(0))"
   ]
  },
  {
   "cell_type": "code",
   "execution_count": null,
   "id": "9abb566c",
   "metadata": {},
   "outputs": [],
   "source": []
  }
 ],
 "metadata": {
  "kernelspec": {
   "display_name": ".venv",
   "language": "python",
   "name": "python3"
  },
  "language_info": {
   "codemirror_mode": {
    "name": "ipython",
    "version": 3
   },
   "file_extension": ".py",
   "mimetype": "text/x-python",
   "name": "python",
   "nbconvert_exporter": "python",
   "pygments_lexer": "ipython3",
   "version": "3.13.7"
  }
 },
 "nbformat": 4,
 "nbformat_minor": 5
}
