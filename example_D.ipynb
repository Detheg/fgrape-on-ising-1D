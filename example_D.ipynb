{
 "cells": [
  {
   "cell_type": "code",
   "execution_count": null,
   "id": "cff8d2e6",
   "metadata": {},
   "outputs": [],
   "source": [
    "# Add the feedback-grape git submodule to the path\n",
    "import sys, os\n",
    "sys.path.append(os.path.abspath(\"./feedback-grape-dev\"))\n",
    "\n",
    "from feedback_grape.utils.operators import (\n",
    "    sigmax,\n",
    "    sigmay,\n",
    "    sigmaz,\n",
    ")\n",
    "from feedback_grape.utils.states import basis\n",
    "from feedback_grape.utils.tensor import tensor\n",
    "from feedback_grape.fgrape import optimize_pulse, Gate\n",
    "import jax\n",
    "from jax import numpy as jnp\n",
    "from numpy import flip\n",
    "from library.utils.qubit_chain_1D import embed, calculate_expected_fidelity\n",
    "from library.utils.plot_matrix import plot_matrix\n",
    "from tqdm import tqdm\n",
    "from jax.scipy.linalg import expm\n",
    "\n",
    "n = 3 # Number of qubits\n",
    "boundary = \"open\" # Boundary conditions: \"open\" or \"periodic\"\n",
    "flip_site = 1 # Site to flip for initial state (0-indexed)\n",
    "\n",
    "#plot_matrix(jnp.abs(H), title=\"Hamiltonian Matrix\")\n",
    "\n",
    "# Initialize ground state density matrix\n",
    "rho_ground = basis(2**n, 0) @ basis(2**n, 0).conj().T\n",
    "\n",
    "# Target state with single site excitation (qubit flipped)\n",
    "psi = tensor(*[basis(2,0)]*flip_site + [basis(2,1)] + [basis(2,0)]*(n - flip_site - 1)) # Second qubit flipped\n",
    "rho_excited = psi @ psi.conj().T\n",
    "rho_excited /= jnp.trace(rho_excited) # Normalize\n",
    "\n",
    "# Control operators (X,Y interaction between neighboring qubits and X rotation on last qubit which is the minimum control set to achieve full controllability)\n",
    "def transport_unitary(params):\n",
    "    J_x, J_y = params\n",
    "    J_z = 0.0\n",
    "    return expm(-1j*sum([\n",
    "        -0.5*J_x*embed(sigmax(), i, n)@embed(sigmax(), (i+1)%n, n)\n",
    "        -0.5*J_y*embed(sigmay(), i, n)@embed(sigmay(), (i+1)%n, n)\n",
    "        -0.5*J_z*embed(sigmaz(), i, n)@embed(sigmaz(), (i+1)%n, n)\n",
    "        for i in range(n-int(boundary==\"open\"))\n",
    "    ])) # Interaction term\n",
    "\n",
    "def rotation_unitary(params):\n",
    "    alpha = params\n",
    "    beta, gamma = 0.0, 0.0\n",
    "    return expm(-1j*embed(sigmax(), n-1, n)*alpha + -1j*embed(sigmay(), n-1, n)*beta + -1j*embed(sigmaz(), n-1, n)*gamma) # Local X, Y and Z rotation on last qubit\n",
    "\n",
    "# Measurement operator (projective measurement along z-axis on first qubit)\n",
    "def projection_measurement_operator(measurement_outcome, params):\n",
    "    return jnp.where(\n",
    "        measurement_outcome == 1,\n",
    "        tensor(jnp.eye(2**(n-1)), basis(2, 0)@basis(2, 0).conj().T),\n",
    "        tensor(jnp.eye(2**(n-1)), basis(2, 1)@basis(2, 1).conj().T),\n",
    "    )\n",
    "\n",
    "\n",
    "# Assert that measurement operator is valid\n",
    "assert jnp.allclose(projection_measurement_operator(-1, None) + projection_measurement_operator(1, None), jnp.eye(2**n)), \"Measurement operators do not sum to identity\"\n",
    "\n",
    "fidelity_lists  = []\n",
    "fidelity_labels = []"
   ]
  },
  {
   "cell_type": "code",
   "execution_count": 3,
   "id": "775ae31d",
   "metadata": {},
   "outputs": [
    {
     "name": "stdout",
     "output_type": "stream",
     "text": [
      "Running for 1 time steps\n"
     ]
    },
    {
     "name": "stderr",
     "output_type": "stream",
     "text": [
      " 10%|█         | 1/10 [00:01<00:13,  1.48s/it]"
     ]
    },
    {
     "name": "stdout",
     "output_type": "stream",
     "text": [
      "number of iterations: 103 final fidelity: 0.4999960721448055\n"
     ]
    },
    {
     "name": "stderr",
     "output_type": "stream",
     "text": [
      " 20%|██        | 2/10 [00:02<00:11,  1.49s/it]"
     ]
    },
    {
     "name": "stdout",
     "output_type": "stream",
     "text": [
      "number of iterations: 89 final fidelity: 0.49999076893343014\n"
     ]
    },
    {
     "name": "stderr",
     "output_type": "stream",
     "text": [
      " 30%|███       | 3/10 [00:04<00:09,  1.41s/it]"
     ]
    },
    {
     "name": "stdout",
     "output_type": "stream",
     "text": [
      "number of iterations: 78 final fidelity: 0.4993330453106179\n"
     ]
    },
    {
     "name": "stderr",
     "output_type": "stream",
     "text": [
      " 40%|████      | 4/10 [00:05<00:08,  1.40s/it]"
     ]
    },
    {
     "name": "stdout",
     "output_type": "stream",
     "text": [
      "number of iterations: 89 final fidelity: 0.4997800871637731\n"
     ]
    },
    {
     "name": "stderr",
     "output_type": "stream",
     "text": [
      " 50%|█████     | 5/10 [00:06<00:06,  1.36s/it]"
     ]
    },
    {
     "name": "stdout",
     "output_type": "stream",
     "text": [
      "number of iterations: 68 final fidelity: 0.49995442327961587\n"
     ]
    },
    {
     "name": "stderr",
     "output_type": "stream",
     "text": [
      " 60%|██████    | 6/10 [00:08<00:05,  1.37s/it]"
     ]
    },
    {
     "name": "stdout",
     "output_type": "stream",
     "text": [
      "number of iterations: 93 final fidelity: 0.49997321625567576\n"
     ]
    },
    {
     "name": "stderr",
     "output_type": "stream",
     "text": [
      " 70%|███████   | 7/10 [00:09<00:04,  1.38s/it]"
     ]
    },
    {
     "name": "stdout",
     "output_type": "stream",
     "text": [
      "number of iterations: 115 final fidelity: 0.4999976280339894\n"
     ]
    },
    {
     "name": "stderr",
     "output_type": "stream",
     "text": [
      " 80%|████████  | 8/10 [00:11<00:02,  1.40s/it]"
     ]
    },
    {
     "name": "stdout",
     "output_type": "stream",
     "text": [
      "number of iterations: 156 final fidelity: 0.4999994471062083\n"
     ]
    },
    {
     "name": "stderr",
     "output_type": "stream",
     "text": [
      " 90%|█████████ | 9/10 [00:12<00:01,  1.37s/it]"
     ]
    },
    {
     "name": "stdout",
     "output_type": "stream",
     "text": [
      "number of iterations: 67 final fidelity: 0.4991630017383134\n"
     ]
    },
    {
     "name": "stderr",
     "output_type": "stream",
     "text": [
      "100%|██████████| 10/10 [00:13<00:00,  1.39s/it]\n"
     ]
    },
    {
     "name": "stdout",
     "output_type": "stream",
     "text": [
      "number of iterations: 114 final fidelity: 0.49988187391928424\n",
      "max fidelity: 0.4999994471062083\n",
      "Running for 2 time steps\n"
     ]
    },
    {
     "name": "stderr",
     "output_type": "stream",
     "text": [
      " 10%|█         | 1/10 [00:04<00:43,  4.81s/it]"
     ]
    },
    {
     "name": "stdout",
     "output_type": "stream",
     "text": [
      "number of iterations: 1000 final fidelity: 0.7171596695647138\n"
     ]
    },
    {
     "name": "stderr",
     "output_type": "stream",
     "text": [
      " 20%|██        | 2/10 [00:07<00:28,  3.60s/it]"
     ]
    },
    {
     "name": "stdout",
     "output_type": "stream",
     "text": [
      "number of iterations: 171 final fidelity: 0.999887346008147\n"
     ]
    },
    {
     "name": "stderr",
     "output_type": "stream",
     "text": [
      " 30%|███       | 3/10 [00:11<00:26,  3.84s/it]"
     ]
    },
    {
     "name": "stdout",
     "output_type": "stream",
     "text": [
      "number of iterations: 739 final fidelity: 0.6961240795366783\n"
     ]
    },
    {
     "name": "stderr",
     "output_type": "stream",
     "text": [
      " 40%|████      | 4/10 [00:14<00:21,  3.51s/it]"
     ]
    },
    {
     "name": "stdout",
     "output_type": "stream",
     "text": [
      "number of iterations: 228 final fidelity: 0.999992483490135\n"
     ]
    },
    {
     "name": "stderr",
     "output_type": "stream",
     "text": [
      " 50%|█████     | 5/10 [00:17<00:16,  3.32s/it]"
     ]
    },
    {
     "name": "stdout",
     "output_type": "stream",
     "text": [
      "number of iterations: 167 final fidelity: 0.500017119288258\n"
     ]
    },
    {
     "name": "stderr",
     "output_type": "stream",
     "text": [
      " 60%|██████    | 6/10 [00:20<00:12,  3.11s/it]"
     ]
    },
    {
     "name": "stdout",
     "output_type": "stream",
     "text": [
      "number of iterations: 107 final fidelity: 0.9999346582846211\n"
     ]
    },
    {
     "name": "stderr",
     "output_type": "stream",
     "text": [
      " 70%|███████   | 7/10 [00:25<00:10,  3.64s/it]"
     ]
    },
    {
     "name": "stdout",
     "output_type": "stream",
     "text": [
      "number of iterations: 1000 final fidelity: 0.7769501957001491\n"
     ]
    },
    {
     "name": "stderr",
     "output_type": "stream",
     "text": [
      " 80%|████████  | 8/10 [00:27<00:06,  3.32s/it]"
     ]
    },
    {
     "name": "stdout",
     "output_type": "stream",
     "text": [
      "number of iterations: 68 final fidelity: 0.9970777595194176\n"
     ]
    },
    {
     "name": "stderr",
     "output_type": "stream",
     "text": [
      " 90%|█████████ | 9/10 [00:30<00:03,  3.13s/it]"
     ]
    },
    {
     "name": "stdout",
     "output_type": "stream",
     "text": [
      "number of iterations: 88 final fidelity: 0.7258025535389017\n"
     ]
    },
    {
     "name": "stderr",
     "output_type": "stream",
     "text": [
      "100%|██████████| 10/10 [00:33<00:00,  3.34s/it]\n"
     ]
    },
    {
     "name": "stdout",
     "output_type": "stream",
     "text": [
      "number of iterations: 98 final fidelity: 0.9999414128007678\n",
      "max fidelity: 0.999992483490135\n",
      "Running for 3 time steps\n"
     ]
    },
    {
     "name": "stderr",
     "output_type": "stream",
     "text": [
      " 10%|█         | 1/10 [00:07<01:10,  7.80s/it]"
     ]
    },
    {
     "name": "stdout",
     "output_type": "stream",
     "text": [
      "number of iterations: 1000 final fidelity: 0.8482870120392981\n"
     ]
    },
    {
     "name": "stderr",
     "output_type": "stream",
     "text": [
      " 20%|██        | 2/10 [00:15<01:00,  7.52s/it]"
     ]
    },
    {
     "name": "stdout",
     "output_type": "stream",
     "text": [
      "number of iterations: 1000 final fidelity: 0.980734165906632\n"
     ]
    },
    {
     "name": "stderr",
     "output_type": "stream",
     "text": [
      " 30%|███       | 3/10 [00:22<00:52,  7.44s/it]"
     ]
    },
    {
     "name": "stdout",
     "output_type": "stream",
     "text": [
      "number of iterations: 942 final fidelity: 1.0\n"
     ]
    },
    {
     "name": "stderr",
     "output_type": "stream",
     "text": [
      " 40%|████      | 4/10 [00:29<00:44,  7.40s/it]"
     ]
    },
    {
     "name": "stdout",
     "output_type": "stream",
     "text": [
      "number of iterations: 1000 final fidelity: 0.9998798441052478\n"
     ]
    },
    {
     "name": "stderr",
     "output_type": "stream",
     "text": [
      " 50%|█████     | 5/10 [00:37<00:36,  7.38s/it]"
     ]
    },
    {
     "name": "stdout",
     "output_type": "stream",
     "text": [
      "number of iterations: 1000 final fidelity: 0.9999330567431532\n"
     ]
    },
    {
     "name": "stderr",
     "output_type": "stream",
     "text": [
      " 60%|██████    | 6/10 [00:43<00:28,  7.08s/it]"
     ]
    },
    {
     "name": "stdout",
     "output_type": "stream",
     "text": [
      "number of iterations: 715 final fidelity: 0.9998548592942286\n"
     ]
    },
    {
     "name": "stderr",
     "output_type": "stream",
     "text": [
      " 70%|███████   | 7/10 [00:50<00:20,  6.95s/it]"
     ]
    },
    {
     "name": "stdout",
     "output_type": "stream",
     "text": [
      "number of iterations: 805 final fidelity: 0.9992168642656417\n"
     ]
    },
    {
     "name": "stderr",
     "output_type": "stream",
     "text": [
      " 80%|████████  | 8/10 [00:54<00:12,  6.21s/it]"
     ]
    },
    {
     "name": "stdout",
     "output_type": "stream",
     "text": [
      "number of iterations: 179 final fidelity: 0.999988365520785\n"
     ]
    },
    {
     "name": "stderr",
     "output_type": "stream",
     "text": [
      " 90%|█████████ | 9/10 [01:02<00:06,  6.56s/it]"
     ]
    },
    {
     "name": "stdout",
     "output_type": "stream",
     "text": [
      "number of iterations: 1000 final fidelity: 0.8815707807073804\n"
     ]
    },
    {
     "name": "stderr",
     "output_type": "stream",
     "text": [
      "100%|██████████| 10/10 [01:08<00:00,  6.86s/it]\n"
     ]
    },
    {
     "name": "stdout",
     "output_type": "stream",
     "text": [
      "number of iterations: 689 final fidelity: 0.9996598097629206\n",
      "max fidelity: 1.0\n",
      "Running for 4 time steps\n"
     ]
    },
    {
     "name": "stderr",
     "output_type": "stream",
     "text": [
      " 10%|█         | 1/10 [00:11<01:39, 11.00s/it]"
     ]
    },
    {
     "name": "stdout",
     "output_type": "stream",
     "text": [
      "number of iterations: 1000 final fidelity: 0.9979779376448805\n"
     ]
    },
    {
     "name": "stderr",
     "output_type": "stream",
     "text": [
      " 20%|██        | 2/10 [00:21<01:25, 10.70s/it]"
     ]
    },
    {
     "name": "stdout",
     "output_type": "stream",
     "text": [
      "number of iterations: 1000 final fidelity: 0.9987145146931792\n"
     ]
    },
    {
     "name": "stderr",
     "output_type": "stream",
     "text": [
      " 30%|███       | 3/10 [00:31<01:13, 10.54s/it]"
     ]
    },
    {
     "name": "stdout",
     "output_type": "stream",
     "text": [
      "number of iterations: 1000 final fidelity: 0.998217108041146\n"
     ]
    },
    {
     "name": "stderr",
     "output_type": "stream",
     "text": [
      " 40%|████      | 4/10 [00:38<00:55,  9.17s/it]"
     ]
    },
    {
     "name": "stdout",
     "output_type": "stream",
     "text": [
      "number of iterations: 280 final fidelity: 0.4999772535605371\n"
     ]
    },
    {
     "name": "stderr",
     "output_type": "stream",
     "text": [
      " 50%|█████     | 5/10 [00:47<00:45,  9.09s/it]"
     ]
    },
    {
     "name": "stdout",
     "output_type": "stream",
     "text": [
      "number of iterations: 695 final fidelity: 0.999998022646342\n"
     ]
    },
    {
     "name": "stderr",
     "output_type": "stream",
     "text": [
      " 50%|█████     | 5/10 [00:58<00:58, 11.69s/it]\n"
     ]
    },
    {
     "ename": "KeyboardInterrupt",
     "evalue": "",
     "output_type": "error",
     "traceback": [
      "\u001b[31m---------------------------------------------------------------------------\u001b[39m",
      "\u001b[31mKeyboardInterrupt\u001b[39m                         Traceback (most recent call last)",
      "\u001b[36mCell\u001b[39m\u001b[36m \u001b[39m\u001b[32mIn[3]\u001b[39m\u001b[32m, line 63\u001b[39m\n\u001b[32m     47\u001b[39m learning_rate = \u001b[32m0.02\u001b[39m\n\u001b[32m     48\u001b[39m result = optimize_pulse(\n\u001b[32m     49\u001b[39m     U_0=rho_ground,\n\u001b[32m     50\u001b[39m     C_target=rho_excited,\n\u001b[32m   (...)\u001b[39m\u001b[32m     60\u001b[39m     eval_batch_size=\u001b[32m10\u001b[39m,\n\u001b[32m     61\u001b[39m )\n\u001b[32m---> \u001b[39m\u001b[32m63\u001b[39m expected_fidelity = \u001b[43mcalculate_expected_fidelity\u001b[49m\u001b[43m(\u001b[49m\u001b[43mresult\u001b[49m\u001b[43m.\u001b[49m\u001b[43moptimized_trainable_parameters\u001b[49m\u001b[43m[\u001b[49m\u001b[33;43m\"\u001b[39;49m\u001b[33;43mlookup_table\u001b[39;49m\u001b[33;43m\"\u001b[39;49m\u001b[43m]\u001b[49m\u001b[43m,\u001b[49m\u001b[43m \u001b[49m\u001b[43mnum_time_steps\u001b[49m\u001b[43m,\u001b[49m\u001b[43m \u001b[49m\u001b[43mn\u001b[49m\u001b[43m,\u001b[49m\u001b[43m \u001b[49m\u001b[43mnum_time_steps\u001b[49m\u001b[43m,\u001b[49m\u001b[43m \u001b[49m\u001b[43mrho_ground\u001b[49m\u001b[43m,\u001b[49m\u001b[43m \u001b[49m\u001b[43mrho_excited\u001b[49m\u001b[43m)\u001b[49m\n\u001b[32m     64\u001b[39m expected_final_fidelity = expected_fidelity[-\u001b[32m1\u001b[39m]\n\u001b[32m     65\u001b[39m expected_final_fidelity = result.final_fidelity\n",
      "\u001b[36mFile \u001b[39m\u001b[32m~/Library/Mobile Documents/com~apple~CloudDocs/Documents/Forschungsprojekt III/code/library/utils/qubit_chain_1D.py:125\u001b[39m, in \u001b[36mcalculate_expected_fidelity\u001b[39m\u001b[34m(lookup_table, t_trained, n, t, rho_initial, rho_target, t_now, history, fidelity_history, P_branch)\u001b[39m\n\u001b[32m    122\u001b[39m         fidelity_history[t_now] += P*fidelity(C_target=rho_target, U_final=rho_new, evo_type=\u001b[33m\"\u001b[39m\u001b[33mdensity\u001b[39m\u001b[33m\"\u001b[39m)\n\u001b[32m    124\u001b[39m         \u001b[38;5;28;01mif\u001b[39;00m t_now < t - \u001b[32m1\u001b[39m:\n\u001b[32m--> \u001b[39m\u001b[32m125\u001b[39m             \u001b[43mcalculate_expected_fidelity\u001b[49m\u001b[43m(\u001b[49m\n\u001b[32m    126\u001b[39m \u001b[43m                \u001b[49m\u001b[43mlookup_table\u001b[49m\u001b[43m,\u001b[49m\n\u001b[32m    127\u001b[39m \u001b[43m                \u001b[49m\u001b[43mt_trained\u001b[49m\u001b[43m,\u001b[49m\n\u001b[32m    128\u001b[39m \u001b[43m                \u001b[49m\u001b[43mn\u001b[49m\u001b[43m,\u001b[49m\n\u001b[32m    129\u001b[39m \u001b[43m                \u001b[49m\u001b[43mt\u001b[49m\u001b[43m,\u001b[49m\n\u001b[32m    130\u001b[39m \u001b[43m                \u001b[49m\u001b[43mrho_new\u001b[49m\u001b[43m,\u001b[49m\n\u001b[32m    131\u001b[39m \u001b[43m                \u001b[49m\u001b[43mrho_target\u001b[49m\u001b[43m,\u001b[49m\n\u001b[32m    132\u001b[39m \u001b[43m                \u001b[49m\u001b[43mt_now\u001b[49m\u001b[43m \u001b[49m\u001b[43m+\u001b[49m\u001b[43m \u001b[49m\u001b[32;43m1\u001b[39;49m\u001b[43m,\u001b[49m\n\u001b[32m    133\u001b[39m \u001b[43m                \u001b[49m\u001b[43m(\u001b[49m\u001b[43mhistory\u001b[49m\u001b[43m \u001b[49m\u001b[43m|\u001b[49m\u001b[43m \u001b[49m\u001b[43m(\u001b[49m\u001b[32;43m1\u001b[39;49m\u001b[43m \u001b[49m\u001b[38;5;28;43;01mif\u001b[39;49;00m\u001b[43m \u001b[49m\u001b[43mmeas\u001b[49m\u001b[43m \u001b[49m\u001b[43m==\u001b[49m\u001b[43m \u001b[49m\u001b[43m-\u001b[49m\u001b[32;43m1\u001b[39;49m\u001b[43m \u001b[49m\u001b[38;5;28;43;01melse\u001b[39;49;00m\u001b[43m \u001b[49m\u001b[32;43m0\u001b[39;49m\u001b[43m)\u001b[49m\u001b[43m)\u001b[49m\u001b[43m,\u001b[49m\n\u001b[32m    134\u001b[39m \u001b[43m                \u001b[49m\u001b[43mfidelity_history\u001b[49m\u001b[43m,\u001b[49m\n\u001b[32m    135\u001b[39m \u001b[43m                \u001b[49m\u001b[43mP_branch\u001b[49m\u001b[43m*\u001b[49m\u001b[43mP\u001b[49m\n\u001b[32m    136\u001b[39m \u001b[43m            \u001b[49m\u001b[43m)\u001b[49m\n\u001b[32m    138\u001b[39m \u001b[38;5;28;01massert\u001b[39;00m jnp.isclose(P_tmp, \u001b[32m1.0\u001b[39m), \u001b[33mf\u001b[39m\u001b[33m\"\u001b[39m\u001b[33mTotal probability is not 1 but \u001b[39m\u001b[38;5;132;01m{\u001b[39;00mP_tmp\u001b[38;5;132;01m}\u001b[39;00m\u001b[33m\"\u001b[39m\n\u001b[32m    140\u001b[39m \u001b[38;5;28;01mif\u001b[39;00m t_now == \u001b[32m0\u001b[39m:\n\u001b[32m    141\u001b[39m     \u001b[38;5;66;03m# Normalize by number of branches\u001b[39;00m\n",
      "\u001b[36mFile \u001b[39m\u001b[32m~/Library/Mobile Documents/com~apple~CloudDocs/Documents/Forschungsprojekt III/code/library/utils/qubit_chain_1D.py:110\u001b[39m, in \u001b[36mcalculate_expected_fidelity\u001b[39m\u001b[34m(lookup_table, t_trained, n, t, rho_initial, rho_target, t_now, history, fidelity_history, P_branch)\u001b[39m\n\u001b[32m    108\u001b[39m P_tmp = \u001b[32m0.0\u001b[39m\n\u001b[32m    109\u001b[39m \u001b[38;5;28;01mfor\u001b[39;00m meas \u001b[38;5;129;01min\u001b[39;00m [\u001b[32m1\u001b[39m, -\u001b[32m1\u001b[39m]:\n\u001b[32m--> \u001b[39m\u001b[32m110\u001b[39m     op = \u001b[43munitary_op\u001b[49m\u001b[43m(\u001b[49m\u001b[43mlookup_table\u001b[49m\u001b[43m[\u001b[49m\u001b[43mrow\u001b[49m\u001b[43m]\u001b[49m\u001b[43m[\u001b[49m\u001b[43mhistory\u001b[49m\u001b[43m \u001b[49m\u001b[43m|\u001b[49m\u001b[43m \u001b[49m\u001b[43m(\u001b[49m\u001b[32;43m1\u001b[39;49m\u001b[43m \u001b[49m\u001b[38;5;28;43;01mif\u001b[39;49;00m\u001b[43m \u001b[49m\u001b[43mmeas\u001b[49m\u001b[43m \u001b[49m\u001b[43m==\u001b[49m\u001b[43m \u001b[49m\u001b[43m-\u001b[49m\u001b[32;43m1\u001b[39;49m\u001b[43m \u001b[49m\u001b[38;5;28;43;01melse\u001b[39;49;00m\u001b[43m \u001b[49m\u001b[32;43m0\u001b[39;49m\u001b[43m)\u001b[49m\u001b[43m]\u001b[49m\u001b[43m,\u001b[49m\u001b[43m \u001b[49m\u001b[43mn\u001b[49m\u001b[43m)\u001b[49m\n\u001b[32m    111\u001b[39m     M  = projection_measurement_operator(meas, n)\n\u001b[32m    112\u001b[39m     rho_new = M @ rho_initial @ M.conj().T\n",
      "\u001b[36mFile \u001b[39m\u001b[32m~/Library/Mobile Documents/com~apple~CloudDocs/Documents/Forschungsprojekt III/code/library/utils/qubit_chain_1D.py:95\u001b[39m, in \u001b[36munitary_op\u001b[39m\u001b[34m(params, n)\u001b[39m\n\u001b[32m     92\u001b[39m     alpha = params\n\u001b[32m     93\u001b[39m     \u001b[38;5;28;01mreturn\u001b[39;00m expm(-\u001b[32m1\u001b[39mj*embed(sigmax(), n-\u001b[32m1\u001b[39m, n)*alpha) \u001b[38;5;66;03m# Local X rotation on last qubit\u001b[39;00m\n\u001b[32m---> \u001b[39m\u001b[32m95\u001b[39m \u001b[38;5;28;01mreturn\u001b[39;00m \u001b[43mtransport_unitary\u001b[49m\u001b[43m(\u001b[49m\u001b[43mtransport_params\u001b[49m\u001b[43m)\u001b[49m @ rotation_unitary(rotation_params)\n",
      "\u001b[36mFile \u001b[39m\u001b[32m~/Library/Mobile Documents/com~apple~CloudDocs/Documents/Forschungsprojekt III/code/library/utils/qubit_chain_1D.py:86\u001b[39m, in \u001b[36munitary_op.<locals>.transport_unitary\u001b[39m\u001b[34m(params)\u001b[39m\n\u001b[32m     83\u001b[39m \u001b[38;5;28;01mdef\u001b[39;00m\u001b[38;5;250m \u001b[39m\u001b[34mtransport_unitary\u001b[39m(params):\n\u001b[32m     84\u001b[39m     J_x, J_y = params\n\u001b[32m     85\u001b[39m     \u001b[38;5;28;01mreturn\u001b[39;00m expm(-\u001b[32m1\u001b[39mj*\u001b[38;5;28msum\u001b[39m([\n\u001b[32m---> \u001b[39m\u001b[32m86\u001b[39m         -\u001b[32m0.5\u001b[39m*J_x*\u001b[43membed\u001b[49m\u001b[43m(\u001b[49m\u001b[43msigmax\u001b[49m\u001b[43m(\u001b[49m\u001b[43m)\u001b[49m\u001b[43m,\u001b[49m\u001b[43m \u001b[49m\u001b[43mi\u001b[49m\u001b[43m,\u001b[49m\u001b[43m \u001b[49m\u001b[43mn\u001b[49m\u001b[43m)\u001b[49m\u001b[38;5;129m@embed\u001b[39m(sigmax(), i+\u001b[32m1\u001b[39m, n)\n\u001b[32m     87\u001b[39m         -\u001b[32m0.5\u001b[39m*J_y*embed(sigmay(), i, n)\u001b[38;5;129m@embed\u001b[39m(sigmay(), i+\u001b[32m1\u001b[39m, n)\n\u001b[32m     88\u001b[39m         \u001b[38;5;28;01mfor\u001b[39;00m i \u001b[38;5;129;01min\u001b[39;00m \u001b[38;5;28mrange\u001b[39m(n-\u001b[32m1\u001b[39m)\n\u001b[32m     89\u001b[39m     ]))\n",
      "\u001b[36mFile \u001b[39m\u001b[32m~/Library/Mobile Documents/com~apple~CloudDocs/Documents/Forschungsprojekt III/code/library/utils/qubit_chain_1D.py:31\u001b[39m, in \u001b[36membed\u001b[39m\u001b[34m(op, j, n)\u001b[39m\n\u001b[32m     27\u001b[39m \u001b[38;5;28;01mif\u001b[39;00m op.shape != (\u001b[32m2\u001b[39m, \u001b[32m2\u001b[39m):\n\u001b[32m     28\u001b[39m     \u001b[38;5;28;01mraise\u001b[39;00m \u001b[38;5;167;01mValueError\u001b[39;00m(\u001b[33m\"\u001b[39m\u001b[33mOperator op must be a 2x2 matrix.\u001b[39m\u001b[33m\"\u001b[39m)\n\u001b[32m---> \u001b[39m\u001b[32m31\u001b[39m ops = [\u001b[43midentity\u001b[49m\u001b[43m(\u001b[49m\u001b[32;43m2\u001b[39;49m\u001b[43m)\u001b[49m] * n\n\u001b[32m     32\u001b[39m ops[j] = op\n\u001b[32m     33\u001b[39m \u001b[38;5;28;01mreturn\u001b[39;00m tensor(*ops)\n",
      "\u001b[36mFile \u001b[39m\u001b[32m~/Library/Mobile Documents/com~apple~CloudDocs/Documents/Forschungsprojekt III/code/.venv/lib/python3.13/site-packages/feedback_grape/utils/operators.py:69\u001b[39m, in \u001b[36midentity\u001b[39m\u001b[34m(dimensions, dtype)\u001b[39m\n\u001b[32m     59\u001b[39m \u001b[38;5;28;01mdef\u001b[39;00m\u001b[38;5;250m \u001b[39m\u001b[34midentity\u001b[39m(dimensions, *, dtype=jnp.complex128):\n\u001b[32m     60\u001b[39m \u001b[38;5;250m    \u001b[39m\u001b[33;03m\"\"\"\u001b[39;00m\n\u001b[32m     61\u001b[39m \u001b[33;03m    Identity operator.\u001b[39;00m\n\u001b[32m     62\u001b[39m \n\u001b[32m   (...)\u001b[39m\u001b[32m     67\u001b[39m \u001b[33;03m        jnp.ndarray: Identity operator of given dimensions and dtype.\u001b[39;00m\n\u001b[32m     68\u001b[39m \u001b[33;03m    \"\"\"\u001b[39;00m\n\u001b[32m---> \u001b[39m\u001b[32m69\u001b[39m     \u001b[38;5;28;01mreturn\u001b[39;00m \u001b[43mjnp\u001b[49m\u001b[43m.\u001b[49m\u001b[43meye\u001b[49m\u001b[43m(\u001b[49m\u001b[43mdimensions\u001b[49m\u001b[43m,\u001b[49m\u001b[43m \u001b[49m\u001b[43mdtype\u001b[49m\u001b[43m=\u001b[49m\u001b[43mdtype\u001b[49m\u001b[43m)\u001b[49m\n",
      "\u001b[36mFile \u001b[39m\u001b[32m~/Library/Mobile Documents/com~apple~CloudDocs/Documents/Forschungsprojekt III/code/.venv/lib/python3.13/site-packages/jax/_src/numpy/lax_numpy.py:6184\u001b[39m, in \u001b[36meye\u001b[39m\u001b[34m(N, M, k, dtype, device)\u001b[39m\n\u001b[32m   6135\u001b[39m \u001b[38;5;250m\u001b[39m\u001b[33;03m\"\"\"Create a square or rectangular identity matrix\u001b[39;00m\n\u001b[32m   6136\u001b[39m \n\u001b[32m   6137\u001b[39m \u001b[33;03mJAX implementation of :func:`numpy.eye`.\u001b[39;00m\n\u001b[32m   (...)\u001b[39m\u001b[32m   6180\u001b[39m \u001b[33;03m         [0., 0., 0., 1., 0.]], dtype=float32)\u001b[39;00m\n\u001b[32m   6181\u001b[39m \u001b[33;03m\"\"\"\u001b[39;00m\n\u001b[32m   6182\u001b[39m \u001b[38;5;66;03m# TODO(vfdev-5): optimize putting the array directly on the device specified\u001b[39;00m\n\u001b[32m   6183\u001b[39m \u001b[38;5;66;03m# instead of putting it on default device and then on the specific device\u001b[39;00m\n\u001b[32m-> \u001b[39m\u001b[32m6184\u001b[39m output = \u001b[43m_eye\u001b[49m\u001b[43m(\u001b[49m\u001b[43mN\u001b[49m\u001b[43m,\u001b[49m\u001b[43m \u001b[49m\u001b[43mM\u001b[49m\u001b[43m=\u001b[49m\u001b[43mM\u001b[49m\u001b[43m,\u001b[49m\u001b[43m \u001b[49m\u001b[43mk\u001b[49m\u001b[43m=\u001b[49m\u001b[43mk\u001b[49m\u001b[43m,\u001b[49m\u001b[43m \u001b[49m\u001b[43mdtype\u001b[49m\u001b[43m=\u001b[49m\u001b[43mdtype\u001b[49m\u001b[43m)\u001b[49m\n\u001b[32m   6185\u001b[39m \u001b[38;5;28;01mif\u001b[39;00m device \u001b[38;5;129;01mis\u001b[39;00m \u001b[38;5;129;01mnot\u001b[39;00m \u001b[38;5;28;01mNone\u001b[39;00m:\n\u001b[32m   6186\u001b[39m   \u001b[38;5;28;01mreturn\u001b[39;00m jax.device_put(output, device=device)\n",
      "\u001b[36mFile \u001b[39m\u001b[32m~/Library/Mobile Documents/com~apple~CloudDocs/Documents/Forschungsprojekt III/code/.venv/lib/python3.13/site-packages/jax/_src/numpy/lax_numpy.py:6206\u001b[39m, in \u001b[36m_eye\u001b[39m\u001b[34m(N, M, k, dtype)\u001b[39m\n\u001b[32m   6204\u001b[39m i = lax.broadcasted_iota(offset.dtype, (N_int, M_int), \u001b[32m0\u001b[39m)\n\u001b[32m   6205\u001b[39m j = lax.broadcasted_iota(offset.dtype, (N_int, M_int), \u001b[32m1\u001b[39m)\n\u001b[32m-> \u001b[39m\u001b[32m6206\u001b[39m \u001b[38;5;28;01mreturn\u001b[39;00m \u001b[43m(\u001b[49m\u001b[43mi\u001b[49m\u001b[43m \u001b[49m\u001b[43m+\u001b[49m\u001b[43m \u001b[49m\u001b[43moffset\u001b[49m\u001b[43m \u001b[49m\u001b[43m==\u001b[49m\u001b[43m \u001b[49m\u001b[43mj\u001b[49m\u001b[43m)\u001b[49m\u001b[43m.\u001b[49m\u001b[43mastype\u001b[49m\u001b[43m(\u001b[49m\u001b[43mdtype\u001b[49m\u001b[43m)\u001b[49m\n",
      "\u001b[36mFile \u001b[39m\u001b[32m~/Library/Mobile Documents/com~apple~CloudDocs/Documents/Forschungsprojekt III/code/.venv/lib/python3.13/site-packages/jax/_src/numpy/array_methods.py:122\u001b[39m, in \u001b[36m_astype\u001b[39m\u001b[34m(self, dtype, copy, device)\u001b[39m\n\u001b[32m    113\u001b[39m \u001b[38;5;28;01mdef\u001b[39;00m\u001b[38;5;250m \u001b[39m\u001b[34m_astype\u001b[39m(\u001b[38;5;28mself\u001b[39m: Array, dtype: DTypeLike | \u001b[38;5;28;01mNone\u001b[39;00m, copy: \u001b[38;5;28mbool\u001b[39m = \u001b[38;5;28;01mFalse\u001b[39;00m,\n\u001b[32m    114\u001b[39m             device: xc.Device | Sharding | \u001b[38;5;28;01mNone\u001b[39;00m = \u001b[38;5;28;01mNone\u001b[39;00m) -> Array:\n\u001b[32m    115\u001b[39m \u001b[38;5;250m  \u001b[39m\u001b[33;03m\"\"\"Copy the array and cast to a specified dtype.\u001b[39;00m\n\u001b[32m    116\u001b[39m \n\u001b[32m    117\u001b[39m \u001b[33;03m  This is implemented via :func:`jax.lax.convert_element_type`, which may\u001b[39;00m\n\u001b[32m   (...)\u001b[39m\u001b[32m    120\u001b[39m \u001b[33;03m  casts are implementation dependent.\u001b[39;00m\n\u001b[32m    121\u001b[39m \u001b[33;03m  \"\"\"\u001b[39;00m\n\u001b[32m--> \u001b[39m\u001b[32m122\u001b[39m   \u001b[38;5;28;01mreturn\u001b[39;00m \u001b[43mlax_numpy\u001b[49m\u001b[43m.\u001b[49m\u001b[43mastype\u001b[49m\u001b[43m(\u001b[49m\u001b[38;5;28;43mself\u001b[39;49m\u001b[43m,\u001b[49m\u001b[43m \u001b[49m\u001b[43mdtype\u001b[49m\u001b[43m,\u001b[49m\u001b[43m \u001b[49m\u001b[43mcopy\u001b[49m\u001b[43m=\u001b[49m\u001b[43mcopy\u001b[49m\u001b[43m,\u001b[49m\u001b[43m \u001b[49m\u001b[43mdevice\u001b[49m\u001b[43m=\u001b[49m\u001b[43mdevice\u001b[49m\u001b[43m)\u001b[49m\n",
      "\u001b[36mFile \u001b[39m\u001b[32m~/Library/Mobile Documents/com~apple~CloudDocs/Documents/Forschungsprojekt III/code/.venv/lib/python3.13/site-packages/jax/_src/numpy/lax_numpy.py:5647\u001b[39m, in \u001b[36mastype\u001b[39m\u001b[34m(x, dtype, copy, device)\u001b[39m\n\u001b[32m   5643\u001b[39m     x_arr = (x_arr != _lax_const(x_arr, \u001b[32m0\u001b[39m))\n\u001b[32m   5645\u001b[39m \u001b[38;5;66;03m# We offer a more specific warning than the usual ComplexWarning so we prefer\u001b[39;00m\n\u001b[32m   5646\u001b[39m \u001b[38;5;66;03m# to issue our warning.\u001b[39;00m\n\u001b[32m-> \u001b[39m\u001b[32m5647\u001b[39m result = \u001b[43mlax_internal\u001b[49m\u001b[43m.\u001b[49m\u001b[43m_convert_element_type\u001b[49m\u001b[43m(\u001b[49m\n\u001b[32m   5648\u001b[39m \u001b[43m  \u001b[49m\u001b[43mx_arr\u001b[49m\u001b[43m,\u001b[49m\u001b[43m \u001b[49m\u001b[43mdtype\u001b[49m\u001b[43m,\u001b[49m\u001b[43m \u001b[49m\u001b[43msharding\u001b[49m\u001b[43m=\u001b[49m\u001b[43mutil\u001b[49m\u001b[43m.\u001b[49m\u001b[43mnormalize_device_to_sharding\u001b[49m\u001b[43m(\u001b[49m\u001b[43mdevice\u001b[49m\u001b[43m)\u001b[49m\u001b[43m,\u001b[49m\n\u001b[32m   5649\u001b[39m \u001b[43m  \u001b[49m\u001b[43mwarn_on_complex_to_real_cast\u001b[49m\u001b[43m=\u001b[49m\u001b[38;5;28;43;01mFalse\u001b[39;49;00m\u001b[43m)\u001b[49m\n\u001b[32m   5650\u001b[39m \u001b[38;5;28;01mreturn\u001b[39;00m _array_copy(result) \u001b[38;5;28;01mif\u001b[39;00m copy \u001b[38;5;28;01melse\u001b[39;00m result\n",
      "\u001b[36mFile \u001b[39m\u001b[32m~/Library/Mobile Documents/com~apple~CloudDocs/Documents/Forschungsprojekt III/code/.venv/lib/python3.13/site-packages/jax/_src/lax/lax.py:1414\u001b[39m, in \u001b[36m_convert_element_type\u001b[39m\u001b[34m(operand, new_dtype, weak_type, sharding, warn_on_complex_to_real_cast)\u001b[39m\n\u001b[32m   1412\u001b[39m   \u001b[38;5;28;01mreturn\u001b[39;00m operand\n\u001b[32m   1413\u001b[39m \u001b[38;5;28;01melse\u001b[39;00m:\n\u001b[32m-> \u001b[39m\u001b[32m1414\u001b[39m   \u001b[38;5;28;01mreturn\u001b[39;00m \u001b[43mconvert_element_type_p\u001b[49m\u001b[43m.\u001b[49m\u001b[43mbind\u001b[49m\u001b[43m(\u001b[49m\n\u001b[32m   1415\u001b[39m \u001b[43m      \u001b[49m\u001b[43moperand\u001b[49m\u001b[43m,\u001b[49m\u001b[43m \u001b[49m\u001b[43mnew_dtype\u001b[49m\u001b[43m=\u001b[49m\u001b[43mnew_dtype\u001b[49m\u001b[43m,\u001b[49m\u001b[43m \u001b[49m\u001b[43mweak_type\u001b[49m\u001b[43m=\u001b[49m\u001b[38;5;28;43mbool\u001b[39;49m\u001b[43m(\u001b[49m\u001b[43mweak_type\u001b[49m\u001b[43m)\u001b[49m\u001b[43m,\u001b[49m\n\u001b[32m   1416\u001b[39m \u001b[43m      \u001b[49m\u001b[43msharding\u001b[49m\u001b[43m=\u001b[49m\u001b[43msharding\u001b[49m\u001b[43m)\u001b[49m\n",
      "\u001b[36mFile \u001b[39m\u001b[32m~/Library/Mobile Documents/com~apple~CloudDocs/Documents/Forschungsprojekt III/code/.venv/lib/python3.13/site-packages/jax/_src/core.py:502\u001b[39m, in \u001b[36mPrimitive.bind\u001b[39m\u001b[34m(self, *args, **params)\u001b[39m\n\u001b[32m    500\u001b[39m \u001b[38;5;28;01mdef\u001b[39;00m\u001b[38;5;250m \u001b[39m\u001b[34mbind\u001b[39m(\u001b[38;5;28mself\u001b[39m, *args, **params):\n\u001b[32m    501\u001b[39m   args = args \u001b[38;5;28;01mif\u001b[39;00m \u001b[38;5;28mself\u001b[39m.skip_canonicalization \u001b[38;5;28;01melse\u001b[39;00m \u001b[38;5;28mmap\u001b[39m(canonicalize_value, args)\n\u001b[32m--> \u001b[39m\u001b[32m502\u001b[39m   \u001b[38;5;28;01mreturn\u001b[39;00m \u001b[38;5;28;43mself\u001b[39;49m\u001b[43m.\u001b[49m\u001b[43m_true_bind\u001b[49m\u001b[43m(\u001b[49m\u001b[43m*\u001b[49m\u001b[43margs\u001b[49m\u001b[43m,\u001b[49m\u001b[43m \u001b[49m\u001b[43m*\u001b[49m\u001b[43m*\u001b[49m\u001b[43mparams\u001b[49m\u001b[43m)\u001b[49m\n",
      "\u001b[36mFile \u001b[39m\u001b[32m~/Library/Mobile Documents/com~apple~CloudDocs/Documents/Forschungsprojekt III/code/.venv/lib/python3.13/site-packages/jax/_src/core.py:520\u001b[39m, in \u001b[36mPrimitive._true_bind\u001b[39m\u001b[34m(self, *args, **params)\u001b[39m\n\u001b[32m    518\u001b[39m trace_ctx.set_trace(eval_trace)\n\u001b[32m    519\u001b[39m \u001b[38;5;28;01mtry\u001b[39;00m:\n\u001b[32m--> \u001b[39m\u001b[32m520\u001b[39m   \u001b[38;5;28;01mreturn\u001b[39;00m \u001b[38;5;28;43mself\u001b[39;49m\u001b[43m.\u001b[49m\u001b[43mbind_with_trace\u001b[49m\u001b[43m(\u001b[49m\u001b[43mprev_trace\u001b[49m\u001b[43m,\u001b[49m\u001b[43m \u001b[49m\u001b[43margs\u001b[49m\u001b[43m,\u001b[49m\u001b[43m \u001b[49m\u001b[43mparams\u001b[49m\u001b[43m)\u001b[49m\n\u001b[32m    521\u001b[39m \u001b[38;5;28;01mfinally\u001b[39;00m:\n\u001b[32m    522\u001b[39m   trace_ctx.set_trace(prev_trace)\n",
      "\u001b[36mFile \u001b[39m\u001b[32m~/Library/Mobile Documents/com~apple~CloudDocs/Documents/Forschungsprojekt III/code/.venv/lib/python3.13/site-packages/jax/_src/lax/lax.py:4371\u001b[39m, in \u001b[36m_convert_element_type_bind_with_trace\u001b[39m\u001b[34m(trace, args, params)\u001b[39m\n\u001b[32m   4369\u001b[39m \u001b[38;5;28;01mdef\u001b[39;00m\u001b[38;5;250m \u001b[39m\u001b[34m_convert_element_type_bind_with_trace\u001b[39m(trace, args, params):\n\u001b[32m   4370\u001b[39m   sharding = params[\u001b[33m'\u001b[39m\u001b[33msharding\u001b[39m\u001b[33m'\u001b[39m]\n\u001b[32m-> \u001b[39m\u001b[32m4371\u001b[39m   operand = \u001b[43mcore\u001b[49m\u001b[43m.\u001b[49m\u001b[43mPrimitive\u001b[49m\u001b[43m.\u001b[49m\u001b[43mbind_with_trace\u001b[49m\u001b[43m(\u001b[49m\u001b[43mconvert_element_type_p\u001b[49m\u001b[43m,\u001b[49m\u001b[43m \u001b[49m\u001b[43mtrace\u001b[49m\u001b[43m,\u001b[49m\u001b[43m \u001b[49m\u001b[43margs\u001b[49m\u001b[43m,\u001b[49m\u001b[43m \u001b[49m\u001b[43mparams\u001b[49m\u001b[43m)\u001b[49m\n\u001b[32m   4372\u001b[39m   \u001b[38;5;28;01mif\u001b[39;00m sharding \u001b[38;5;129;01mis\u001b[39;00m \u001b[38;5;129;01mnot\u001b[39;00m \u001b[38;5;28;01mNone\u001b[39;00m \u001b[38;5;129;01mand\u001b[39;00m sharding._is_concrete:\n\u001b[32m   4373\u001b[39m     \u001b[38;5;28;01mwith\u001b[39;00m core.set_current_trace(trace):\n",
      "\u001b[36mFile \u001b[39m\u001b[32m~/Library/Mobile Documents/com~apple~CloudDocs/Documents/Forschungsprojekt III/code/.venv/lib/python3.13/site-packages/jax/_src/core.py:525\u001b[39m, in \u001b[36mPrimitive.bind_with_trace\u001b[39m\u001b[34m(self, trace, args, params)\u001b[39m\n\u001b[32m    524\u001b[39m \u001b[38;5;28;01mdef\u001b[39;00m\u001b[38;5;250m \u001b[39m\u001b[34mbind_with_trace\u001b[39m(\u001b[38;5;28mself\u001b[39m, trace, args, params):\n\u001b[32m--> \u001b[39m\u001b[32m525\u001b[39m   \u001b[38;5;28;01mreturn\u001b[39;00m \u001b[43mtrace\u001b[49m\u001b[43m.\u001b[49m\u001b[43mprocess_primitive\u001b[49m\u001b[43m(\u001b[49m\u001b[38;5;28;43mself\u001b[39;49m\u001b[43m,\u001b[49m\u001b[43m \u001b[49m\u001b[43margs\u001b[49m\u001b[43m,\u001b[49m\u001b[43m \u001b[49m\u001b[43mparams\u001b[49m\u001b[43m)\u001b[49m\n",
      "\u001b[36mFile \u001b[39m\u001b[32m~/Library/Mobile Documents/com~apple~CloudDocs/Documents/Forschungsprojekt III/code/.venv/lib/python3.13/site-packages/jax/_src/core.py:1024\u001b[39m, in \u001b[36mEvalTrace.process_primitive\u001b[39m\u001b[34m(self, primitive, args, params)\u001b[39m\n\u001b[32m   1022\u001b[39m       \u001b[38;5;28;01mreturn\u001b[39;00m primitive.bind_with_trace(arg._trace, args, params)\n\u001b[32m   1023\u001b[39m check_eval_args(args)\n\u001b[32m-> \u001b[39m\u001b[32m1024\u001b[39m \u001b[38;5;28;01mreturn\u001b[39;00m \u001b[43mprimitive\u001b[49m\u001b[43m.\u001b[49m\u001b[43mimpl\u001b[49m\u001b[43m(\u001b[49m\u001b[43m*\u001b[49m\u001b[43margs\u001b[49m\u001b[43m,\u001b[49m\u001b[43m \u001b[49m\u001b[43m*\u001b[49m\u001b[43m*\u001b[49m\u001b[43mparams\u001b[49m\u001b[43m)\u001b[49m\n",
      "\u001b[36mFile \u001b[39m\u001b[32m~/Library/Mobile Documents/com~apple~CloudDocs/Documents/Forschungsprojekt III/code/.venv/lib/python3.13/site-packages/jax/_src/dispatch.py:90\u001b[39m, in \u001b[36mapply_primitive\u001b[39m\u001b[34m(prim, *args, **params)\u001b[39m\n\u001b[32m     88\u001b[39m prev = lib.jax_jit.swap_thread_local_state_disable_jit(\u001b[38;5;28;01mFalse\u001b[39;00m)\n\u001b[32m     89\u001b[39m \u001b[38;5;28;01mtry\u001b[39;00m:\n\u001b[32m---> \u001b[39m\u001b[32m90\u001b[39m   outs = \u001b[43mfun\u001b[49m\u001b[43m(\u001b[49m\u001b[43m*\u001b[49m\u001b[43margs\u001b[49m\u001b[43m)\u001b[49m\n\u001b[32m     91\u001b[39m \u001b[38;5;28;01mfinally\u001b[39;00m:\n\u001b[32m     92\u001b[39m   lib.jax_jit.swap_thread_local_state_disable_jit(prev)\n",
      "    \u001b[31m[... skipping hidden 1 frame]\u001b[39m\n",
      "\u001b[36mFile \u001b[39m\u001b[32m~/Library/Mobile Documents/com~apple~CloudDocs/Documents/Forschungsprojekt III/code/.venv/lib/python3.13/site-packages/jax/_src/pjit.py:341\u001b[39m, in \u001b[36m_cpp_pjit.<locals>.cache_miss\u001b[39m\u001b[34m(*args, **kwargs)\u001b[39m\n\u001b[32m    336\u001b[39m \u001b[38;5;28;01mif\u001b[39;00m config.no_tracing.value:\n\u001b[32m    337\u001b[39m   \u001b[38;5;28;01mraise\u001b[39;00m \u001b[38;5;167;01mRuntimeError\u001b[39;00m(\u001b[33mf\u001b[39m\u001b[33m\"\u001b[39m\u001b[33mre-tracing function \u001b[39m\u001b[38;5;132;01m{\u001b[39;00mjit_info.fun_sourceinfo\u001b[38;5;132;01m}\u001b[39;00m\u001b[33m for \u001b[39m\u001b[33m\"\u001b[39m\n\u001b[32m    338\u001b[39m                      \u001b[33m\"\u001b[39m\u001b[33m`jit`, but \u001b[39m\u001b[33m'\u001b[39m\u001b[33mno_tracing\u001b[39m\u001b[33m'\u001b[39m\u001b[33m is set\u001b[39m\u001b[33m\"\u001b[39m)\n\u001b[32m    340\u001b[39m (outs, out_flat, out_tree, args_flat, jaxpr, attrs_tracked, executable,\n\u001b[32m--> \u001b[39m\u001b[32m341\u001b[39m  pgle_profiler) = \u001b[43m_python_pjit_helper\u001b[49m\u001b[43m(\u001b[49m\u001b[43mfun\u001b[49m\u001b[43m,\u001b[49m\u001b[43m \u001b[49m\u001b[43mjit_info\u001b[49m\u001b[43m,\u001b[49m\u001b[43m \u001b[49m\u001b[43m*\u001b[49m\u001b[43margs\u001b[49m\u001b[43m,\u001b[49m\u001b[43m \u001b[49m\u001b[43m*\u001b[49m\u001b[43m*\u001b[49m\u001b[43mkwargs\u001b[49m\u001b[43m)\u001b[49m\n\u001b[32m    343\u001b[39m maybe_fastpath_data = _get_fastpath_data(\n\u001b[32m    344\u001b[39m     executable, out_tree, args_flat, out_flat, attrs_tracked, jaxpr.effects,\n\u001b[32m    345\u001b[39m     jaxpr.consts, jit_info.abstracted_axes,\n\u001b[32m    346\u001b[39m     pgle_profiler)\n\u001b[32m    348\u001b[39m \u001b[38;5;28;01mreturn\u001b[39;00m outs, maybe_fastpath_data, _need_to_rebuild_with_fdo(pgle_profiler)\n",
      "\u001b[36mFile \u001b[39m\u001b[32m~/Library/Mobile Documents/com~apple~CloudDocs/Documents/Forschungsprojekt III/code/.venv/lib/python3.13/site-packages/jax/_src/pjit.py:195\u001b[39m, in \u001b[36m_python_pjit_helper\u001b[39m\u001b[34m(fun, jit_info, *args, **kwargs)\u001b[39m\n\u001b[32m    193\u001b[39m   args_flat = \u001b[38;5;28mmap\u001b[39m(core.full_lower, args_flat)\n\u001b[32m    194\u001b[39m   core.check_eval_args(args_flat)\n\u001b[32m--> \u001b[39m\u001b[32m195\u001b[39m   out_flat, compiled, profiler = \u001b[43m_pjit_call_impl_python\u001b[49m\u001b[43m(\u001b[49m\u001b[43m*\u001b[49m\u001b[43margs_flat\u001b[49m\u001b[43m,\u001b[49m\u001b[43m \u001b[49m\u001b[43m*\u001b[49m\u001b[43m*\u001b[49m\u001b[43mp\u001b[49m\u001b[43m.\u001b[49m\u001b[43mparams\u001b[49m\u001b[43m)\u001b[49m\n\u001b[32m    196\u001b[39m \u001b[38;5;28;01melse\u001b[39;00m:\n\u001b[32m    197\u001b[39m   out_flat = pjit_p.bind(*args_flat, **p.params)\n",
      "\u001b[36mFile \u001b[39m\u001b[32m~/Library/Mobile Documents/com~apple~CloudDocs/Documents/Forschungsprojekt III/code/.venv/lib/python3.13/site-packages/jax/_src/pjit.py:1657\u001b[39m, in \u001b[36m_pjit_call_impl_python\u001b[39m\u001b[34m(jaxpr, in_shardings, out_shardings, in_layouts, out_layouts, resource_env, donated_invars, name, keep_unused, inline, compiler_options_kvs, *args)\u001b[39m\n\u001b[32m   1645\u001b[39m compiler_options_kvs = compiler_options_kvs + \u001b[38;5;28mtuple\u001b[39m(pgle_compile_options.items())\n\u001b[32m   1646\u001b[39m \u001b[38;5;66;03m# Passing mutable PGLE profile here since it should be extracted by JAXPR to\u001b[39;00m\n\u001b[32m   1647\u001b[39m \u001b[38;5;66;03m# initialize the fdo_profile compile option.\u001b[39;00m\n\u001b[32m   1648\u001b[39m compiled = \u001b[43m_resolve_and_lower\u001b[49m\u001b[43m(\u001b[49m\n\u001b[32m   1649\u001b[39m \u001b[43m    \u001b[49m\u001b[43margs\u001b[49m\u001b[43m,\u001b[49m\u001b[43m \u001b[49m\u001b[43mjaxpr\u001b[49m\u001b[43m=\u001b[49m\u001b[43mjaxpr\u001b[49m\u001b[43m,\u001b[49m\u001b[43m \u001b[49m\u001b[43min_shardings\u001b[49m\u001b[43m=\u001b[49m\u001b[43min_shardings\u001b[49m\u001b[43m,\u001b[49m\n\u001b[32m   1650\u001b[39m \u001b[43m    \u001b[49m\u001b[43mout_shardings\u001b[49m\u001b[43m=\u001b[49m\u001b[43mout_shardings\u001b[49m\u001b[43m,\u001b[49m\u001b[43m \u001b[49m\u001b[43min_layouts\u001b[49m\u001b[43m=\u001b[49m\u001b[43min_layouts\u001b[49m\u001b[43m,\u001b[49m\n\u001b[32m   1651\u001b[39m \u001b[43m    \u001b[49m\u001b[43mout_layouts\u001b[49m\u001b[43m=\u001b[49m\u001b[43mout_layouts\u001b[49m\u001b[43m,\u001b[49m\u001b[43m \u001b[49m\u001b[43mresource_env\u001b[49m\u001b[43m=\u001b[49m\u001b[43mresource_env\u001b[49m\u001b[43m,\u001b[49m\n\u001b[32m   1652\u001b[39m \u001b[43m    \u001b[49m\u001b[43mdonated_invars\u001b[49m\u001b[43m=\u001b[49m\u001b[43mdonated_invars\u001b[49m\u001b[43m,\u001b[49m\u001b[43m \u001b[49m\u001b[43mname\u001b[49m\u001b[43m=\u001b[49m\u001b[43mname\u001b[49m\u001b[43m,\u001b[49m\u001b[43m \u001b[49m\u001b[43mkeep_unused\u001b[49m\u001b[43m=\u001b[49m\u001b[43mkeep_unused\u001b[49m\u001b[43m,\u001b[49m\n\u001b[32m   1653\u001b[39m \u001b[43m    \u001b[49m\u001b[43minline\u001b[49m\u001b[43m=\u001b[49m\u001b[43minline\u001b[49m\u001b[43m,\u001b[49m\u001b[43m \u001b[49m\u001b[43mlowering_platforms\u001b[49m\u001b[43m=\u001b[49m\u001b[38;5;28;43;01mNone\u001b[39;49;00m\u001b[43m,\u001b[49m\n\u001b[32m   1654\u001b[39m \u001b[43m    \u001b[49m\u001b[43mlowering_parameters\u001b[49m\u001b[43m=\u001b[49m\u001b[43mmlir\u001b[49m\u001b[43m.\u001b[49m\u001b[43mLoweringParameters\u001b[49m\u001b[43m(\u001b[49m\u001b[43m)\u001b[49m\u001b[43m,\u001b[49m\n\u001b[32m   1655\u001b[39m \u001b[43m    \u001b[49m\u001b[43mpgle_profiler\u001b[49m\u001b[43m=\u001b[49m\u001b[43mpgle_profiler\u001b[49m\u001b[43m,\u001b[49m\n\u001b[32m   1656\u001b[39m \u001b[43m    \u001b[49m\u001b[43mcompiler_options_kvs\u001b[49m\u001b[43m=\u001b[49m\u001b[43mcompiler_options_kvs\u001b[49m\u001b[43m,\u001b[49m\n\u001b[32m-> \u001b[39m\u001b[32m1657\u001b[39m \u001b[43m\u001b[49m\u001b[43m)\u001b[49m\u001b[43m.\u001b[49m\u001b[43mcompile\u001b[49m\u001b[43m(\u001b[49m\u001b[43m)\u001b[49m\n\u001b[32m   1659\u001b[39m \u001b[38;5;66;03m# This check is expensive so only do it if enable_checks is on.\u001b[39;00m\n\u001b[32m   1660\u001b[39m \u001b[38;5;28;01mif\u001b[39;00m compiled._auto_spmd_lowering \u001b[38;5;129;01mand\u001b[39;00m config.enable_checks.value:\n",
      "\u001b[36mFile \u001b[39m\u001b[32m~/Library/Mobile Documents/com~apple~CloudDocs/Documents/Forschungsprojekt III/code/.venv/lib/python3.13/site-packages/jax/_src/interpreters/pxla.py:2446\u001b[39m, in \u001b[36mMeshComputation.compile\u001b[39m\u001b[34m(self, compiler_options)\u001b[39m\n\u001b[32m   2444\u001b[39m compiler_options_kvs = \u001b[38;5;28mself\u001b[39m._compiler_options_kvs + t_compiler_options\n\u001b[32m   2445\u001b[39m \u001b[38;5;28;01mif\u001b[39;00m \u001b[38;5;28mself\u001b[39m._executable \u001b[38;5;129;01mis\u001b[39;00m \u001b[38;5;28;01mNone\u001b[39;00m \u001b[38;5;129;01mor\u001b[39;00m compiler_options_kvs:\n\u001b[32m-> \u001b[39m\u001b[32m2446\u001b[39m   executable = \u001b[43mUnloadedMeshExecutable\u001b[49m\u001b[43m.\u001b[49m\u001b[43mfrom_hlo\u001b[49m\u001b[43m(\u001b[49m\n\u001b[32m   2447\u001b[39m \u001b[43m      \u001b[49m\u001b[38;5;28;43mself\u001b[39;49m\u001b[43m.\u001b[49m\u001b[43m_name\u001b[49m\u001b[43m,\u001b[49m\u001b[43m \u001b[49m\u001b[38;5;28;43mself\u001b[39;49m\u001b[43m.\u001b[49m\u001b[43m_hlo\u001b[49m\u001b[43m,\u001b[49m\u001b[43m \u001b[49m\u001b[43m*\u001b[49m\u001b[43m*\u001b[49m\u001b[38;5;28;43mself\u001b[39;49m\u001b[43m.\u001b[49m\u001b[43mcompile_args\u001b[49m\u001b[43m,\u001b[49m\n\u001b[32m   2448\u001b[39m \u001b[43m      \u001b[49m\u001b[43mcompiler_options_kvs\u001b[49m\u001b[43m=\u001b[49m\u001b[43mcompiler_options_kvs\u001b[49m\u001b[43m)\u001b[49m\n\u001b[32m   2449\u001b[39m   \u001b[38;5;28;01mif\u001b[39;00m \u001b[38;5;129;01mnot\u001b[39;00m compiler_options_kvs:\n\u001b[32m   2450\u001b[39m     \u001b[38;5;28mself\u001b[39m._executable = executable\n",
      "\u001b[36mFile \u001b[39m\u001b[32m~/Library/Mobile Documents/com~apple~CloudDocs/Documents/Forschungsprojekt III/code/.venv/lib/python3.13/site-packages/jax/_src/interpreters/pxla.py:2981\u001b[39m, in \u001b[36mUnloadedMeshExecutable.from_hlo\u001b[39m\u001b[34m(***failed resolving arguments***)\u001b[39m\n\u001b[32m   2977\u001b[39m   \u001b[38;5;28;01massert\u001b[39;00m mesh \u001b[38;5;129;01mis\u001b[39;00m \u001b[38;5;28;01mNone\u001b[39;00m\n\u001b[32m   2978\u001b[39m   in_shardings = _maybe_get_and_check_in_shardings(\n\u001b[32m   2979\u001b[39m       xla_executable, in_shardings, \u001b[38;5;28mtuple\u001b[39m(da), global_in_avals,\n\u001b[32m   2980\u001b[39m       \u001b[38;5;28mlen\u001b[39m(ordered_effects))\n\u001b[32m-> \u001b[39m\u001b[32m2981\u001b[39m   out_shardings = \u001b[43m_maybe_get_and_check_out_shardings\u001b[49m\u001b[43m(\u001b[49m\n\u001b[32m   2982\u001b[39m \u001b[43m      \u001b[49m\u001b[43mxla_executable\u001b[49m\u001b[43m,\u001b[49m\u001b[43m \u001b[49m\u001b[43mout_shardings\u001b[49m\u001b[43m,\u001b[49m\u001b[43m \u001b[49m\u001b[38;5;28;43mtuple\u001b[39;49m\u001b[43m(\u001b[49m\u001b[43mda\u001b[49m\u001b[43m)\u001b[49m\u001b[43m,\u001b[49m\u001b[43m \u001b[49m\u001b[43mglobal_out_avals\u001b[49m\u001b[43m,\u001b[49m\n\u001b[32m   2983\u001b[39m \u001b[43m      \u001b[49m\u001b[38;5;28;43mlen\u001b[39;49m\u001b[43m(\u001b[49m\u001b[43mordered_effects\u001b[49m\u001b[43m)\u001b[49m\u001b[43m)\u001b[49m\n\u001b[32m   2984\u001b[39m \u001b[38;5;28;01melse\u001b[39;00m:\n\u001b[32m   2985\u001b[39m   in_shardings, out_shardings, committed, da = _get_metadata_jit_pmap(\n\u001b[32m   2986\u001b[39m       xla_executable.local_devices(), \u001b[38;5;28mlen\u001b[39m(in_shardings), \u001b[38;5;28mlen\u001b[39m(out_shardings))\n",
      "\u001b[36mFile \u001b[39m\u001b[32m~/Library/Mobile Documents/com~apple~CloudDocs/Documents/Forschungsprojekt III/code/.venv/lib/python3.13/site-packages/jax/_src/interpreters/pxla.py:2811\u001b[39m, in \u001b[36m_maybe_get_and_check_out_shardings\u001b[39m\u001b[34m(xla_executable, out_shardings, device_assignment, global_out_avals, num_ordered_effects)\u001b[39m\n\u001b[32m   2807\u001b[39m \u001b[38;5;28;01mdef\u001b[39;00m\u001b[38;5;250m \u001b[39m\u001b[34m_maybe_get_and_check_out_shardings\u001b[39m(\n\u001b[32m   2808\u001b[39m     xla_executable, out_shardings, device_assignment, global_out_avals,\n\u001b[32m   2809\u001b[39m     num_ordered_effects\n\u001b[32m   2810\u001b[39m   ):\n\u001b[32m-> \u001b[39m\u001b[32m2811\u001b[39m   out_shardings_xla = \u001b[43mget_out_shardings_from_executable\u001b[49m\u001b[43m(\u001b[49m\n\u001b[32m   2812\u001b[39m \u001b[43m      \u001b[49m\u001b[43mxla_executable\u001b[49m\u001b[43m,\u001b[49m\u001b[43m \u001b[49m\u001b[43mdevice_assignment\u001b[49m\u001b[43m,\u001b[49m\u001b[43m \u001b[49m\u001b[38;5;28;43mlen\u001b[39;49m\u001b[43m(\u001b[49m\u001b[43mglobal_out_avals\u001b[49m\u001b[43m)\u001b[49m\u001b[43m,\u001b[49m\n\u001b[32m   2813\u001b[39m \u001b[43m      \u001b[49m\u001b[43mnum_ordered_effects\u001b[49m\u001b[43m)\u001b[49m\n\u001b[32m   2814\u001b[39m   \u001b[38;5;28;01mif\u001b[39;00m out_shardings_xla \u001b[38;5;129;01mis\u001b[39;00m \u001b[38;5;28;01mNone\u001b[39;00m:\n\u001b[32m   2815\u001b[39m     \u001b[38;5;28;01mreturn\u001b[39;00m out_shardings\n",
      "\u001b[36mFile \u001b[39m\u001b[32m~/Library/Mobile Documents/com~apple~CloudDocs/Documents/Forschungsprojekt III/code/.venv/lib/python3.13/site-packages/jax/_src/interpreters/pxla.py:2484\u001b[39m, in \u001b[36mget_out_shardings_from_executable\u001b[39m\u001b[34m(xla_executable, device_assignment, num_out_avals, num_ordered_effects)\u001b[39m\n\u001b[32m   2481\u001b[39m \u001b[38;5;66;03m# When the device assignment only has 1 device, SPMD partitioner will not run.\u001b[39;00m\n\u001b[32m   2482\u001b[39m \u001b[38;5;66;03m# Hence the op shardings will not be set on the `hlo_module`.\u001b[39;00m\n\u001b[32m   2483\u001b[39m \u001b[38;5;28;01mif\u001b[39;00m \u001b[38;5;28mlen\u001b[39m(device_assignment) == \u001b[32m1\u001b[39m:\n\u001b[32m-> \u001b[39m\u001b[32m2484\u001b[39m   \u001b[38;5;28;01mreturn\u001b[39;00m [\u001b[43msharding_impls\u001b[49m\u001b[43m.\u001b[49m\u001b[43mGSPMDSharding\u001b[49m\u001b[43m.\u001b[49m\u001b[43mget_replicated\u001b[49m\u001b[43m(\u001b[49m\u001b[43mdevice_assignment\u001b[49m\u001b[43m,\u001b[49m\u001b[43m \u001b[49m\u001b[43mmemory_kind\u001b[49m\u001b[43m=\u001b[49m\u001b[43mmk\u001b[49m\u001b[43m)\u001b[49m\n\u001b[32m   2485\u001b[39m           \u001b[38;5;28;01mfor\u001b[39;00m mk \u001b[38;5;129;01min\u001b[39;00m omk]\n\u001b[32m   2487\u001b[39m _, out_op_shardings = pjit.get_op_sharding_from_executable(xla_executable)\n\u001b[32m   2488\u001b[39m \u001b[38;5;28;01mif\u001b[39;00m \u001b[38;5;129;01mnot\u001b[39;00m out_op_shardings:\n",
      "\u001b[36mFile \u001b[39m\u001b[32m~/Library/Mobile Documents/com~apple~CloudDocs/Documents/Forschungsprojekt III/code/.venv/lib/python3.13/site-packages/jax/_src/sharding_impls.py:666\u001b[39m, in \u001b[36mGSPMDSharding.get_replicated\u001b[39m\u001b[34m(cls, device_assignment, memory_kind)\u001b[39m\n\u001b[32m    662\u001b[39m \u001b[38;5;129m@functools\u001b[39m.cached_property\n\u001b[32m    663\u001b[39m \u001b[38;5;28;01mdef\u001b[39;00m\u001b[38;5;250m \u001b[39m\u001b[34mis_fully_addressable\u001b[39m(\u001b[38;5;28mself\u001b[39m) -> \u001b[38;5;28mbool\u001b[39m:\n\u001b[32m    664\u001b[39m   \u001b[38;5;28;01mreturn\u001b[39;00m \u001b[38;5;28mself\u001b[39m._internal_device_list.is_fully_addressable\n\u001b[32m--> \u001b[39m\u001b[32m666\u001b[39m \u001b[38;5;129m@classmethod\u001b[39m\n\u001b[32m    667\u001b[39m \u001b[38;5;28;01mdef\u001b[39;00m\u001b[38;5;250m \u001b[39m\u001b[34mget_replicated\u001b[39m(\u001b[38;5;28mcls\u001b[39m, device_assignment, *, memory_kind: \u001b[38;5;28mstr\u001b[39m | \u001b[38;5;28;01mNone\u001b[39;00m = \u001b[38;5;28;01mNone\u001b[39;00m):\n\u001b[32m    668\u001b[39m   \u001b[38;5;28;01mreturn\u001b[39;00m \u001b[38;5;28mcls\u001b[39m(\u001b[38;5;28mtuple\u001b[39m(device_assignment), get_replicated_hlo_sharding(),\n\u001b[32m    669\u001b[39m              memory_kind=memory_kind)\n",
      "\u001b[31mKeyboardInterrupt\u001b[39m: "
     ]
    }
   ],
   "source": [
    "# Run this to perform multiple experiments\n",
    "best_result = None\n",
    "for num_time_steps in range(1, 5): # Number of time steps to test\n",
    "    print(f\"Running for {num_time_steps} time steps\")\n",
    "    fidelity_list = []\n",
    "    for i in tqdm(range(10)): # Number of random initializations to test\n",
    "        measure_gate = Gate(\n",
    "        gate = projection_measurement_operator,\n",
    "        initial_params=jax.random.uniform(\n",
    "                jax.random.PRNGKey(i),\n",
    "                shape=(0,),  # No parameters for this measurement operator\n",
    "                minval=-jnp.pi,\n",
    "                maxval=jnp.pi,\n",
    "                dtype=float,\n",
    "            ),\n",
    "            measurement_flag=True,\n",
    "        )\n",
    "\n",
    "        transport_gate = Gate(\n",
    "            gate = transport_unitary,\n",
    "            initial_params=jax.random.uniform(\n",
    "                jax.random.PRNGKey(i),\n",
    "                shape=(2,), # Two coupling parameters (X and Y) between each pair of neighboring qubits\n",
    "                minval=-2.0,\n",
    "                maxval=2.0,\n",
    "                dtype=float,\n",
    "            ),\n",
    "            measurement_flag=False,\n",
    "        )\n",
    "\n",
    "        rotation_gate = Gate(\n",
    "            gate = rotation_unitary,\n",
    "            initial_params=jax.random.uniform(\n",
    "                jax.random.PRNGKey(i),\n",
    "                shape=(1,),  # One coupling parameter for local X rotation\n",
    "                minval=-jnp.pi,\n",
    "                maxval=jnp.pi,\n",
    "                dtype=float,\n",
    "            ),\n",
    "            measurement_flag=False,\n",
    "        )\n",
    "\n",
    "        system_params = [measure_gate, rotation_gate, transport_gate]\n",
    "\n",
    "        # Training\n",
    "        num_of_iterations = 1000\n",
    "        learning_rate = 0.02\n",
    "        result = optimize_pulse(\n",
    "            U_0=rho_ground,\n",
    "            C_target=rho_excited,\n",
    "            system_params=system_params,\n",
    "            num_time_steps=num_time_steps,\n",
    "            mode=\"lookup\",\n",
    "            goal=\"fidelity\",\n",
    "            max_iter=num_of_iterations,\n",
    "            convergence_threshold=1e-6,\n",
    "            learning_rate=learning_rate,\n",
    "            evo_type=\"density\",\n",
    "            batch_size=8,\n",
    "            eval_batch_size=10,\n",
    "        )\n",
    "\n",
    "        expected_fidelity = calculate_expected_fidelity(result.optimized_trainable_parameters[\"lookup_table\"], num_time_steps, n, num_time_steps, rho_ground, rho_excited)\n",
    "        expected_final_fidelity = expected_fidelity[-1]\n",
    "        expected_final_fidelity = result.final_fidelity\n",
    "        #if best_result is None or expected_final_fidelity > max(fidelity_list):\n",
    "        #    best_result = result\n",
    "\n",
    "        fidelity_list.append(expected_final_fidelity)\n",
    "\n",
    "        print(\"number of iterations:\", result.iterations, \"final fidelity:\", result.final_fidelity)\n",
    "    \n",
    "    print(f\"max fidelity: {jnp.max(jnp.array(fidelity_list))}\")\n",
    "    fidelity_lists.append(fidelity_list)\n",
    "    fidelity_labels.append(f\"t={num_time_steps} (1)\")\n",
    "\n",
    "# Play a sound when done\n",
    "import os\n",
    "os.system('say \"fertig\"')"
   ]
  },
  {
   "cell_type": "code",
   "execution_count": null,
   "id": "785db4e4",
   "metadata": {},
   "outputs": [
    {
     "name": "stdout",
     "output_type": "stream",
     "text": [
      "max fidelity: t=1 (1) 0.7758003451049262\n",
      "max fidelity: t=2 (1) 0.8807923650287597\n",
      "max fidelity: t=3 (1) 0.9802178071417723\n",
      "max fidelity: t=4 (1) 0.9865192329448986\n",
      "max fidelity: t=5 (1) 0.9973984614895361\n",
      "max fidelity: t=1 (1) 0.775802540734723\n",
      "max fidelity: t=2 (1) 0.8503159676521985\n",
      "max fidelity: t=3 (1) 0.9115194601513048\n",
      "max fidelity: t=4 (1) 0.9545492091507048\n",
      "max fidelity: t=5 (1) 0.967116364928831\n"
     ]
    },
    {
     "data": {
      "text/plain": [
       "(np.float64(0.0), np.float64(1.0), np.float64(0.0), np.float64(1.0))"
      ]
     },
     "execution_count": 9,
     "metadata": {},
     "output_type": "execute_result"
    },
    {
     "data": {
      "image/png": "[encoded data removed]",
      "text/plain": [
       "<Figure size 1200x400 with 2 Axes>"
      ]
     },
     "metadata": {},
     "output_type": "display_data"
    },
    {
     "data": {
      "image/png": "[encoded data removed]",
      "text/plain": [
       "<Figure size 600x400 with 1 Axes>"
      ]
     },
     "metadata": {},
     "output_type": "display_data"
    }
   ],
   "source": [
    "from matplotlib import pyplot as plt\n",
    "\n",
    "fig, (ax1, ax2) = plt.subplots(1,2, figsize=(12,4))\n",
    "for fidelities, label in zip(fidelity_lists, fidelity_labels):\n",
    "    ax1.plot(fidelities, label=label)\n",
    "    print(f\"max fidelity: {label}\", max(fidelities))\n",
    "ax1.set_xlabel(\"Iteration\")\n",
    "ax1.set_ylabel(\"Fidelity\")\n",
    "ax1.set_title(\"Fidelity over Iterations\")\n",
    "\n",
    "ax2.plot([max(fidelities) for fidelities in fidelity_lists], label=label, marker=\"o\", linestyle='None')\n",
    "\n",
    "# legend in seperate figure\n",
    "fig2, ax2 = plt.subplots(1,1, figsize=(6,4))\n",
    "ax2.legend(*ax1.get_legend_handles_labels(), loc='center')\n",
    "ax2.axis('off')"
   ]
  },
  {
   "cell_type": "code",
   "execution_count": null,
   "id": "010f3641",
   "metadata": {},
   "outputs": [],
   "source": [
    "#fidelity_lists = fidelity_lists[6:]\n",
    "#fidelity_labels = fidelity_labels[6:]"
   ]
  },
  {
   "cell_type": "code",
   "execution_count": null,
   "id": "bac884d2",
   "metadata": {},
   "outputs": [],
   "source": [
    "# Store best result parameters in json format\n",
    "import json\n",
    "\n",
    "# Convert JAX/NumPy arrays to lists for JSON serialization\n",
    "def to_serializable(obj):\n",
    "    if hasattr(obj, \"tolist\"):\n",
    "        return obj.tolist()\n",
    "    if isinstance(obj, dict):\n",
    "        return {k: to_serializable(v) for k, v in obj.items()}\n",
    "    if isinstance(obj, (list, tuple)):\n",
    "        return [to_serializable(x) for x in obj]\n",
    "    return obj\n",
    "\n",
    "params_serializable = to_serializable(best_result.optimized_trainable_parameters)\n",
    "with open(\"best_result1_params.json\", \"w\") as f:\n",
    "    json.dump(params_serializable, f, indent=2)"
   ]
  },
  {
   "cell_type": "code",
   "execution_count": null,
   "id": "28cdda45",
   "metadata": {},
   "outputs": [
    {
     "data": {
      "text/plain": [
       "(10, 8, 8)"
      ]
     },
     "execution_count": 6,
     "metadata": {},
     "output_type": "execute_result"
    }
   ],
   "source": [
    "best_result.final_state.shape"
   ]
  },
  {
   "cell_type": "code",
   "execution_count": null,
   "id": "1244179d",
   "metadata": {},
   "outputs": [],
   "source": []
  }
 ],
 "metadata": {
  "kernelspec": {
   "display_name": ".venv",
   "language": "python",
   "name": "python3"
  },
  "language_info": {
   "codemirror_mode": {
    "name": "ipython",
    "version": 3
   },
   "file_extension": ".py",
   "mimetype": "text/x-python",
   "name": "python",
   "nbconvert_exporter": "python",
   "pygments_lexer": "ipython3",
   "version": "3.13.7"
  }
 },
 "nbformat": 4,
 "nbformat_minor": 5
}
