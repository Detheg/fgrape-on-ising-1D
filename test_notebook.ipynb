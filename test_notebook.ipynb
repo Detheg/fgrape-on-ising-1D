{
 "cells": [
  {
   "cell_type": "code",
   "execution_count": 10,
   "id": "d05391c6",
   "metadata": {},
   "outputs": [],
   "source": [
    "from feedback_grape.fgrape import optimize_pulse\n",
    "import jax.numpy as jnp\n",
    "from jax.experimental import sparse\n",
    "\n",
    "from feedback_grape.utils.operators import sigmam, sigmap, identity\n",
    "from feedback_grape.utils.tensor import tensor\n",
    "from matplotlib import pyplot as plt"
   ]
  },
  {
   "cell_type": "code",
   "execution_count": 15,
   "id": "c9d733dc",
   "metadata": {},
   "outputs": [
    {
     "name": "stdout",
     "output_type": "stream",
     "text": [
      "speedup if nonzero elements ignored:  4.923076923076923\n"
     ]
    }
   ],
   "source": [
    "N_qubits = 6\n",
    "\n",
    "def map_to_HS(operator, j, N_qubits):\n",
    "    if j == 0:\n",
    "        return tensor(operator, identity(2**(N_qubits-j-1)))\n",
    "    elif j == N_qubits - 1:\n",
    "        return tensor(identity(2**j), operator)\n",
    "    else:\n",
    "        return tensor(identity(2**j), operator, identity(2**(N_qubits-j-1)))\n",
    "\n",
    "H = jnp.zeros((2**N_qubits, 2**N_qubits), dtype=complex)\n",
    "for j in range(0,N_qubits):\n",
    "    sig1 = map_to_HS(jnp.ones((2,2)), j, N_qubits)\n",
    "    sig2 = map_to_HS(jnp.ones((2,2)), (j+1) % N_qubits, N_qubits)\n",
    "    interaction = sig1 @ sig2\n",
    "    H += interaction\n",
    "\n",
    "    sig2 = map_to_HS(sigmam(), j, N_qubits)\n",
    "    number = sig1 @ sig2\n",
    "    #H -= number\n",
    "\n",
    "H += H.conj().T\n",
    "\n",
    "print(\"speedup if nonzero elements ignored: \",(2**N_qubits)**2 / ((2**N_qubits)**2 - jnp.sum(H == 0)))"
   ]
  },
  {
   "cell_type": "code",
   "execution_count": 16,
   "id": "ae07032e",
   "metadata": {},
   "outputs": [
    {
     "data": {
      "image/png": "[encoded data removed]",
      "text/plain": [
       "<Figure size 1200x400 with 2 Axes>"
      ]
     },
     "metadata": {},
     "output_type": "display_data"
    }
   ],
   "source": [
    "# Plot matrix elements as binary heatmap\n",
    "mats = [H]\n",
    "\n",
    "fig, axes = plt.subplots(1, len(mats), figsize=(12, 4))\n",
    "if len(mats): axes = (axes,)\n",
    "for i, (mat, ax) in enumerate(zip(mats, axes)):\n",
    "    im = ax.imshow(jnp.abs(mat), cmap='gray_r', interpolation='nearest')\n",
    "    fig.colorbar(im, ax=ax, label='Value')\n",
    "    ax.set_xlabel('Column')\n",
    "    ax.set_ylabel('Row')\n",
    "plt.tight_layout()\n",
    "plt.show()"
   ]
  },
  {
   "cell_type": "code",
   "execution_count": null,
   "id": "85b0774f",
   "metadata": {},
   "outputs": [],
   "source": []
  }
 ],
 "metadata": {
  "kernelspec": {
   "display_name": ".venv",
   "language": "python",
   "name": "python3"
  },
  "language_info": {
   "codemirror_mode": {
    "name": "ipython",
    "version": 3
   },
   "file_extension": ".py",
   "mimetype": "text/x-python",
   "name": "python",
   "nbconvert_exporter": "python",
   "pygments_lexer": "ipython3",
   "version": "3.13.7"
  }
 },
 "nbformat": 4,
 "nbformat_minor": 5
}
