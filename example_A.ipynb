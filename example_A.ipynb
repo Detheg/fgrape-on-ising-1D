{
 "cells": [
  {
   "cell_type": "code",
   "execution_count": null,
   "id": "274b3556",
   "metadata": {},
   "outputs": [
    {
     "name": "stdout",
     "output_type": "stream",
     "text": [
      "Final fidelity:  0.9999999999999987 iterations:  302\n",
      "Number of fermions in output state:  (1.3185088786615689e-15+3.7560670468002175e-17j)\n"
     ]
    }
   ],
   "source": [
    "from library.utils.jordan_wigner import (\n",
    "    FH_zero_particle_state,\n",
    "    c,\n",
    "    c_dag,\n",
    "    n_op,\n",
    "    full_n_op,\n",
    "    density_matrix_size_bytes,\n",
    "    embed,\n",
    "    emulated_FH_Hamiltonian,\n",
    "    FH_energy_shift\n",
    ")\n",
    "from feedback_grape.utils.operators import (\n",
    "    sigmax,\n",
    "    sigmay,\n",
    "    sigmaz,\n",
    "    sigmap,\n",
    "    sigmam,\n",
    "    identity,\n",
    ")\n",
    "from feedback_grape.utils.states import basis\n",
    "from feedback_grape.utils.tensor import tensor\n",
    "from feedback_grape.grape import optimize_pulse\n",
    "from jax import numpy as jnp\n",
    "\n",
    "\"\"\"\n",
    "    Test for emulating Fermi Hubbard model with Jordan-Wigner transformation and\n",
    "    for preparing zero fermionic particle state from thermal state using grape in system without dissipation.\n",
    "\"\"\"\n",
    "\n",
    "# Initialize spin J = 0, 0.5 Fermi Hubbard model on n sites\n",
    "n  = 2   # e^- sites\n",
    "J  = 0.5 # Spin\n",
    "mu = 1.0 # Chemical potential\n",
    "U  = 2.0 # On-site interaction\n",
    "t  = 3.0 # Transfer parameter\n",
    "\n",
    "# Evolution parameters\n",
    "n_ts     = 10 # Number of time slots\n",
    "evo_time = 2  # Total evolution time\n",
    "\n",
    "# Initialize thermal state at inverse temperature gamma\n",
    "gamma = 1.0\n",
    "\n",
    "if J == 0.0:   spins = [0.0]\n",
    "elif J == 0.5: spins = [-0.5, 0.5]\n",
    "else: raise ValueError(\"J must be either 0 or 1/2.\")\n",
    "\n",
    "phi  = basis(2, 1) + jnp.exp(-gamma)*basis(2, 0)\n",
    "phi /= jnp.linalg.norm(phi)\n",
    "N_qubits = n * int(2*J + 1)\n",
    "\n",
    "psi_0 = tensor(*([phi]*N_qubits)) # Initial state is thermal state on all qubits\n",
    "rho_0 = psi_0 @ psi_0.conj().T # Density matrix form\n",
    "psi_target = FH_zero_particle_state(n, J) # Target state is zero particle state\n",
    "rho_target = psi_target @ psi_target.conj().T # Density matrix form\n",
    "\n",
    "# Drift Hamiltonian\n",
    "H_d = identity(2**N_qubits)\n",
    "\n",
    "# Controls\n",
    "Sx = sum(embed(sigmax(), j, s, n, J) for j in range(n) for s in spins)\n",
    "Sy = sum(embed(sigmay(), j, s, n, J) for j in range(n) for s in spins)\n",
    "# Sz = sum(embed(sigmaz(), j, s, n, J) for j in range(n) for s in spins)\n",
    "H_c = [Sx, Sy]\n",
    "\n",
    "# Optimize pulse\n",
    "result = optimize_pulse(\n",
    "    H_drift=H_d,\n",
    "    H_control=H_c,\n",
    "    U_0=rho_0,\n",
    "    C_target=rho_target,\n",
    "    num_t_slots=n_ts,\n",
    "    total_evo_time=evo_time,\n",
    "    evo_type=\"density\",\n",
    "    optimizer=\"adam\",\n",
    "    convergence_threshold=1e-16,\n",
    "    max_iter=1000,\n",
    "    learning_rate=0.01,\n",
    ")\n",
    "\n",
    "print(\"Final fidelity: \", result.final_fidelity, \"iterations: \", result.iterations)\n",
    "print(\"Number of fermions in output state: \", jnp.trace(full_n_op(n, J) @ result.final_operator))"
   ]
  },
  {
   "cell_type": "code",
   "execution_count": 13,
   "id": "888800f3",
   "metadata": {},
   "outputs": [
    {
     "name": "stdout",
     "output_type": "stream",
     "text": [
      "Final fidelity:  0.9924546746823857 iterations:  337\n",
      "Number of fermions in output state:  (0.007790402645267169+0j)\n"
     ]
    }
   ],
   "source": [
    "# Now the same with dissipation such that we got energy relaxation to the thermal state\n",
    "Sm = sum(embed(sigmam(), j, s, n, J) for j in range(n) for s in spins)\n",
    "Sp = sum(embed(sigmap(), j, s, n, J) for j in range(n) for s in spins)\n",
    "\n",
    "damping = 0.01\n",
    "decay_op = (Sm + jnp.exp(-gamma)*Sp) * jnp.sqrt(damping) # Operator which eventually leads to thermal state\n",
    "l_ops = [decay_op]\n",
    "\n",
    "# Optimize pulse\n",
    "result = optimize_pulse(\n",
    "    H_drift=H_d,\n",
    "    H_control=H_c,\n",
    "    U_0=rho_0,\n",
    "    C_target=rho_target,\n",
    "    c_ops=l_ops,\n",
    "    num_t_slots=n_ts,\n",
    "    total_evo_time=evo_time,\n",
    "    evo_type=\"density\",\n",
    "    optimizer=\"adam\",\n",
    "    convergence_threshold=1e-16,\n",
    "    max_iter=1000,\n",
    "    learning_rate=0.01,\n",
    ")\n",
    "\n",
    "print(\"Final fidelity: \", result.final_fidelity, \"iterations: \", result.iterations)\n",
    "print(\"Number of fermions in output state: \", jnp.trace(full_n_op(n, J) @ result.final_operator))"
   ]
  }
 ],
 "metadata": {
  "kernelspec": {
   "display_name": ".venv",
   "language": "python",
   "name": "python3"
  },
  "language_info": {
   "codemirror_mode": {
    "name": "ipython",
    "version": 3
   },
   "file_extension": ".py",
   "mimetype": "text/x-python",
   "name": "python",
   "nbconvert_exporter": "python",
   "pygments_lexer": "ipython3",
   "version": "3.13.7"
  }
 },
 "nbformat": 4,
 "nbformat_minor": 5
}
