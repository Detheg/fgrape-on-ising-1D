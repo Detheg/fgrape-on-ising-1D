{
 "cells": [
  {
   "cell_type": "markdown",
   "id": "430a38f8",
   "metadata": {},
   "source": [
    "# C. State preparation from a thermal state with Jaynes-Cummings controls"
   ]
  },
  {
   "cell_type": "code",
   "execution_count": 1,
   "id": "60e3d9d8",
   "metadata": {
    "tags": [
     "remove-cell"
    ]
   },
   "outputs": [],
   "source": [
    "# ruff: noqa\n",
    "import os\n",
    "\n",
    "os.sys.path.append(\"../../../..\")"
   ]
  },
  {
   "cell_type": "code",
   "execution_count": 2,
   "id": "edefb299",
   "metadata": {},
   "outputs": [],
   "source": [
    "from feedback_grape.fgrape import optimize_pulse\n",
    "from feedback_grape.utils.operators import (\n",
    "    sigmap,\n",
    "    sigmam,\n",
    "    create,\n",
    "    destroy,\n",
    "    identity,\n",
    "    cosm,\n",
    "    sinm,\n",
    ")\n",
    "from feedback_grape.utils.states import basis, fock\n",
    "from feedback_grape.utils.tensor import tensor\n",
    "import jax.numpy as jnp\n",
    "import jax\n",
    "from jax.scipy.linalg import expm"
   ]
  },
  {
   "cell_type": "markdown",
   "id": "8ecde886",
   "metadata": {},
   "source": [
    "## defining parameterized operations that are repeated num_time_steps times"
   ]
  },
  {
   "cell_type": "markdown",
   "id": "d0dcc21d",
   "metadata": {},
   "source": [
    "takes 9 minutes on GPU instead of 17 on CPU"
   ]
  },
  {
   "cell_type": "code",
   "execution_count": 3,
   "id": "bcc54b13",
   "metadata": {},
   "outputs": [],
   "source": [
    "N_cav = 20"
   ]
  },
  {
   "cell_type": "code",
   "execution_count": 4,
   "id": "1d1d8650",
   "metadata": {},
   "outputs": [],
   "source": [
    "def qubit_unitary(alphas):\n",
    "    alpha_re, alpha_im = alphas\n",
    "    alpha = alpha_re + 1j * alpha_im\n",
    "    return tensor(\n",
    "        identity(N_cav),\n",
    "        expm(-1j * (alpha * sigmap() + alpha.conjugate() * sigmam()) / 2),\n",
    "    )"
   ]
  },
  {
   "cell_type": "code",
   "execution_count": 5,
   "id": "04f55cc7",
   "metadata": {},
   "outputs": [],
   "source": [
    "def qubit_cavity_unitary(betas):\n",
    "    beta_re, beta_im = betas\n",
    "    beta = beta_re + 1j * beta_im\n",
    "    return expm(\n",
    "        -1j\n",
    "        * (\n",
    "            beta * (tensor(destroy(N_cav), sigmap()))\n",
    "            + beta.conjugate() * (tensor(create(N_cav), sigmam()))\n",
    "        )\n",
    "        / 2\n",
    "    )"
   ]
  },
  {
   "cell_type": "markdown",
   "id": "d7d88880",
   "metadata": {},
   "source": [
    "### povm_measure_operator (callable): <br>\n",
    "    - It should take a measurement outcome and list of params as input\n",
    "    - The measurement outcome options are either 1 or -1"
   ]
  },
  {
   "cell_type": "code",
   "execution_count": 6,
   "id": "b21389c6",
   "metadata": {},
   "outputs": [],
   "source": [
    "from feedback_grape.utils.operators import create, destroy\n",
    "\n",
    "def povm_measure_operator(measurement_outcome, params):\n",
    "    \"\"\"\n",
    "    POVM for the measurement of the cavity state.\n",
    "    returns Mm ( NOT the POVM element Em = Mm_dag @ Mm ), given measurement_outcome m, gamma and delta\n",
    "    \"\"\"\n",
    "    gamma, delta = params\n",
    "    cav_operator = gamma * create(N_cav) @ destroy(N_cav) + delta / 2\n",
    "    angle = tensor(cav_operator, identity(2))\n",
    "    meas_op = jnp.where(\n",
    "        measurement_outcome == 1,\n",
    "        cosm(angle),\n",
    "        sinm(angle),\n",
    "    )\n",
    "    return meas_op"
   ]
  },
  {
   "cell_type": "markdown",
   "id": "d13bbcb6",
   "metadata": {},
   "source": [
    "### defining initial (thermal) state"
   ]
  },
  {
   "cell_type": "code",
   "execution_count": 7,
   "id": "4b80af46",
   "metadata": {},
   "outputs": [],
   "source": [
    "# initial state is a thermal state coupled to a qubit in the ground state?\n",
    "n_average = 1\n",
    "# natural logarithm\n",
    "beta = jnp.log((1 / n_average) + 1)\n",
    "diags = jnp.exp(-beta * jnp.arange(N_cav))\n",
    "normalized_diags = diags / jnp.sum(diags, axis=0)\n",
    "rho_cav = jnp.diag(normalized_diags)"
   ]
  },
  {
   "cell_type": "code",
   "execution_count": 8,
   "id": "c025c141",
   "metadata": {},
   "outputs": [
    {
     "data": {
      "text/plain": [
       "(20, 20)"
      ]
     },
     "execution_count": 8,
     "metadata": {},
     "output_type": "execute_result"
    }
   ],
   "source": [
    "rho_cav.shape"
   ]
  },
  {
   "cell_type": "code",
   "execution_count": 9,
   "id": "0b1f2052",
   "metadata": {},
   "outputs": [],
   "source": [
    "rho0 = tensor(rho_cav, basis(2, 0) @ basis(2, 0).conj().T)"
   ]
  },
  {
   "cell_type": "code",
   "execution_count": 10,
   "id": "237bb0b9",
   "metadata": {},
   "outputs": [
    {
     "data": {
      "text/plain": [
       "Array(0.92318181, dtype=float64)"
      ]
     },
     "execution_count": 10,
     "metadata": {},
     "output_type": "execute_result"
    }
   ],
   "source": [
    "from feedback_grape.utils.povm import (\n",
    "    _probability_of_a_measurement_outcome_given_a_certain_state,\n",
    ")\n",
    "\n",
    "_probability_of_a_measurement_outcome_given_a_certain_state(\n",
    "    rho0, 1, povm_measure_operator, [0.1, -3 * jnp.pi / 2], evo_type=\"density\"\n",
    ")"
   ]
  },
  {
   "cell_type": "markdown",
   "id": "43a8ce4c",
   "metadata": {},
   "source": [
    "### defining target state"
   ]
  },
  {
   "cell_type": "code",
   "execution_count": 11,
   "id": "0b8272be",
   "metadata": {},
   "outputs": [
    {
     "data": {
      "text/plain": [
       "(40, 40)"
      ]
     },
     "execution_count": 11,
     "metadata": {},
     "output_type": "execute_result"
    }
   ],
   "source": [
    "psi_target = tensor(\n",
    "    (fock(N_cav, 1) + fock(N_cav, 2) + fock(N_cav, 3)) / jnp.sqrt(3), basis(2)\n",
    ")\n",
    "psi_target = psi_target / jnp.linalg.norm(psi_target)\n",
    "\n",
    "rho_target = psi_target @ psi_target.conj().T\n",
    "rho_target.shape"
   ]
  },
  {
   "cell_type": "code",
   "execution_count": 12,
   "id": "882b04b4",
   "metadata": {},
   "outputs": [
    {
     "name": "stdout",
     "output_type": "stream",
     "text": [
      "0.14583347719012069\n"
     ]
    }
   ],
   "source": [
    "from feedback_grape.utils.fidelity import fidelity\n",
    "\n",
    "print(fidelity(U_final=rho0, C_target=rho_target, evo_type=\"density\"))"
   ]
  },
  {
   "cell_type": "code",
   "execution_count": 13,
   "id": "6f203ddc",
   "metadata": {},
   "outputs": [
    {
     "name": "stdout",
     "output_type": "stream",
     "text": [
      "Eigenvalues of rho0: [-1.46938075e-16  0.00000000e+00  0.00000000e+00  0.00000000e+00\n",
      "  0.00000000e+00  0.00000000e+00  0.00000000e+00  0.00000000e+00\n",
      "  0.00000000e+00  0.00000000e+00  0.00000000e+00  0.00000000e+00\n",
      "  0.00000000e+00  0.00000000e+00  0.00000000e+00  0.00000000e+00\n",
      "  0.00000000e+00  0.00000000e+00  0.00000000e+00  0.00000000e+00\n",
      "  0.00000000e+00  0.00000000e+00  0.00000000e+00  0.00000000e+00\n",
      "  0.00000000e+00  0.00000000e+00  0.00000000e+00  0.00000000e+00\n",
      "  0.00000000e+00  0.00000000e+00  0.00000000e+00  0.00000000e+00\n",
      "  0.00000000e+00  0.00000000e+00  0.00000000e+00  0.00000000e+00\n",
      "  1.92355405e-18  3.83987166e-18  5.60289567e-17  1.00000000e+00]\n"
     ]
    }
   ],
   "source": [
    "# Print the eigenvalues of rho0\n",
    "eigenvalues = jnp.linalg.eigvalsh(rho_target)\n",
    "print(\"Eigenvalues of rho0:\", eigenvalues)"
   ]
  },
  {
   "cell_type": "markdown",
   "id": "cd6f7f95",
   "metadata": {},
   "source": [
    "### initialize random params"
   ]
  },
  {
   "cell_type": "code",
   "execution_count": 14,
   "id": "7a2159c8",
   "metadata": {},
   "outputs": [
    {
     "name": "stdout",
     "output_type": "stream",
     "text": [
      "[[-0.5123490775685872, -1.782568231202715]]\n"
     ]
    }
   ],
   "source": [
    "import jax\n",
    "\n",
    "print(\n",
    "    jax.random.uniform(\n",
    "        jax.random.PRNGKey(0),\n",
    "        shape=(1, 2),  # 2 for gamma and delta\n",
    "        minval=-jax.numpy.pi,\n",
    "        maxval=jax.numpy.pi,\n",
    "    ).tolist()\n",
    ")"
   ]
  },
  {
   "cell_type": "code",
   "execution_count": 15,
   "id": "fca21f29",
   "metadata": {},
   "outputs": [],
   "source": [
    "import jax\n",
    "from feedback_grape.fgrape import Gate\n",
    "\n",
    "num_time_steps = 5\n",
    "num_of_iterations = 1000\n",
    "learning_rate = 0.02\n",
    "# avg_photon_numer = 2 When testing kitten state\n",
    "# If you provide param_constraints for only one parameter, the current behavior throws an error if you don't provide param_constraints for all parameters for all gates\n",
    "key1, key2, key3 = jax.random.split(jax.random.PRNGKey(42), 3)\n",
    "measure = Gate(\n",
    "    gate=povm_measure_operator,\n",
    "    initial_params=jax.random.uniform(\n",
    "        key1,\n",
    "        shape=(2,),  # 2 for gamma and delta\n",
    "        minval=-2 * jnp.pi,\n",
    "        maxval=2 * jnp.pi,\n",
    "    ),\n",
    "    measurement_flag=True,\n",
    "    # param_constraints=[[0, jnp.pi], [-2*jnp.pi, 2*jnp.pi]],\n",
    ")\n",
    "\n",
    "qub_unitary = Gate(\n",
    "    gate=qubit_unitary,\n",
    "    initial_params=jax.random.uniform(\n",
    "        key2,\n",
    "        shape=(2,),  # 2 for gamma and delta\n",
    "        minval=-2 * jnp.pi,\n",
    "        maxval=2 * jnp.pi,\n",
    "    ),\n",
    "    measurement_flag=False,\n",
    "    # param_constraints=[[-2*jnp.pi, 2*jnp.pi], [-2*jnp.pi, 2*jnp.pi]],\n",
    ")\n",
    "\n",
    "qub_cav = Gate(\n",
    "    gate=qubit_cavity_unitary,\n",
    "    initial_params=jax.random.uniform(\n",
    "        key3,\n",
    "        shape=(2,),  # 2 for gamma and delta\n",
    "        minval=-2 * jnp.pi,\n",
    "        maxval=2 * jnp.pi,\n",
    "    ),\n",
    "    measurement_flag=False,\n",
    "    # param_constraints=[[-jnp.pi, jnp.pi], [-jnp.pi, jnp.pi]],\n",
    ")\n",
    "\n",
    "system_params = [measure, qub_unitary, qub_cav]\n",
    "\n",
    "\n",
    "result = optimize_pulse(\n",
    "    U_0=rho0,\n",
    "    C_target=rho_target,\n",
    "    system_params=system_params,\n",
    "    num_time_steps=num_time_steps,\n",
    "    mode=\"lookup\",\n",
    "    goal=\"fidelity\",\n",
    "    max_iter=num_of_iterations,\n",
    "    convergence_threshold=1e-6,\n",
    "    learning_rate=learning_rate,\n",
    "    evo_type=\"density\",\n",
    "    batch_size=10,\n",
    ")"
   ]
  },
  {
   "cell_type": "code",
   "execution_count": 16,
   "id": "538ba2b6",
   "metadata": {},
   "outputs": [
    {
     "name": "stdout",
     "output_type": "stream",
     "text": [
      "None\n"
     ]
    }
   ],
   "source": [
    "print(result.final_purity)"
   ]
  },
  {
   "cell_type": "code",
   "execution_count": 17,
   "id": "c19912da",
   "metadata": {},
   "outputs": [
    {
     "name": "stdout",
     "output_type": "stream",
     "text": [
      "0.8683291484397477\n"
     ]
    }
   ],
   "source": [
    "print(result.final_fidelity)"
   ]
  },
  {
   "cell_type": "code",
   "execution_count": 18,
   "id": "638cf24c",
   "metadata": {},
   "outputs": [
    {
     "name": "stdout",
     "output_type": "stream",
     "text": [
      "initial fidelity: 0.14583347719012069\n",
      "fidelity of state 0: 0.5606584573429715\n",
      "fidelity of state 1: 0.9109912253612958\n",
      "fidelity of state 2: 0.95522536759516\n",
      "fidelity of state 3: 0.9109912253612958\n",
      "fidelity of state 4: 0.6949564733666473\n",
      "fidelity of state 5: 0.9180355494571958\n",
      "fidelity of state 6: 0.9109912253612958\n",
      "fidelity of state 7: 0.95522536759516\n",
      "fidelity of state 8: 0.95522536759516\n",
      "fidelity of state 9: 0.9109912253612958\n"
     ]
    }
   ],
   "source": [
    "from feedback_grape.utils.fidelity import fidelity\n",
    "\n",
    "print(\n",
    "    \"initial fidelity:\",\n",
    "    fidelity(C_target=rho_target, U_final=rho0, evo_type=\"density\"),\n",
    ")\n",
    "for i, state in enumerate(result.final_state):\n",
    "    print(\n",
    "        f\"fidelity of state {i}:\",\n",
    "        fidelity(C_target=rho_target, U_final=state, evo_type=\"density\"),\n",
    "    )"
   ]
  },
  {
   "cell_type": "code",
   "execution_count": 19,
   "id": "7ba69f49",
   "metadata": {},
   "outputs": [
    {
     "data": {
      "text/plain": [
       "[[Array([[-4.71508741,  0.01198694],\n",
       "         [-4.71508741,  0.01198694],\n",
       "         [-4.71508741,  0.01198694],\n",
       "         [-4.71508741,  0.01198694],\n",
       "         [-4.71508741,  0.01198694],\n",
       "         [-4.71508741,  0.01198694],\n",
       "         [-4.71508741,  0.01198694],\n",
       "         [-4.71508741,  0.01198694],\n",
       "         [-4.71508741,  0.01198694],\n",
       "         [-4.71508741,  0.01198694]], dtype=float64),\n",
       "  Array([[2.90496796, 1.12310202],\n",
       "         [4.39096426, 1.02697969],\n",
       "         [2.90496796, 1.12310202],\n",
       "         [4.39096426, 1.02697969],\n",
       "         [2.90496796, 1.12310202],\n",
       "         [4.39096426, 1.02697969],\n",
       "         [4.39096426, 1.02697969],\n",
       "         [2.90496796, 1.12310202],\n",
       "         [2.90496796, 1.12310202],\n",
       "         [4.39096426, 1.02697969]], dtype=float64),\n",
       "  Array([[-1.57578634,  3.13457357],\n",
       "         [-0.1625402 , -0.05429762],\n",
       "         [-1.57578634,  3.13457357],\n",
       "         [-0.1625402 , -0.05429762],\n",
       "         [-1.57578634,  3.13457357],\n",
       "         [-0.1625402 , -0.05429762],\n",
       "         [-0.1625402 , -0.05429762],\n",
       "         [-1.57578634,  3.13457357],\n",
       "         [-1.57578634,  3.13457357],\n",
       "         [-0.1625402 , -0.05429762]], dtype=float64)],\n",
       " [Array([[-3.63634312, -0.0513441 ],\n",
       "         [-3.91036267, -0.03377048],\n",
       "         [-3.63634312, -0.0513441 ],\n",
       "         [-3.91036267, -0.03377048],\n",
       "         [-3.63634312, -0.0513441 ],\n",
       "         [-3.91036267, -0.03377048],\n",
       "         [-3.91036267, -0.03377048],\n",
       "         [-3.63634312, -0.0513441 ],\n",
       "         [-3.63634312, -0.0513441 ],\n",
       "         [-3.91036267, -0.03377048]], dtype=float64),\n",
       "  Array([[ 2.66261294,  1.69529961],\n",
       "         [ 2.9458015 , -0.75658856],\n",
       "         [ 1.2532903 , -0.55811706],\n",
       "         [ 2.9458015 , -0.75658856],\n",
       "         [ 2.66261294,  1.69529961],\n",
       "         [ 3.20560003, -0.60218415],\n",
       "         [ 2.9458015 , -0.75658856],\n",
       "         [ 1.2532903 , -0.55811706],\n",
       "         [ 1.2532903 , -0.55811706],\n",
       "         [ 2.9458015 , -0.75658856]], dtype=float64),\n",
       "  Array([[-1.82814818,  2.45164939],\n",
       "         [-3.01738417,  2.89341504],\n",
       "         [-2.95295569,  1.23308621],\n",
       "         [-3.01738417,  2.89341504],\n",
       "         [-1.82814818,  2.45164939],\n",
       "         [-2.78088841,  2.44178593],\n",
       "         [-3.01738417,  2.89341504],\n",
       "         [-2.95295569,  1.23308621],\n",
       "         [-2.95295569,  1.23308621],\n",
       "         [-3.01738417,  2.89341504]], dtype=float64)],\n",
       " [Array([[-3.65431494, -0.14358786],\n",
       "         [-3.08264311,  0.32772184],\n",
       "         [-3.13888134, -0.00832993],\n",
       "         [-3.08264311,  0.32772184],\n",
       "         [-3.65431494, -0.14358786],\n",
       "         [-3.7868966 , -0.78169054],\n",
       "         [-3.08264311,  0.32772184],\n",
       "         [-3.13888134, -0.00832993],\n",
       "         [-3.13888134, -0.00832993],\n",
       "         [-3.08264311,  0.32772184]], dtype=float64),\n",
       "  Array([[ 3.76203486, -2.91536042],\n",
       "         [ 2.53842615,  2.05866199],\n",
       "         [ 2.31211208,  1.06205751],\n",
       "         [ 2.53842615,  2.05866199],\n",
       "         [ 3.76203486, -2.91536042],\n",
       "         [ 1.70423268,  1.76555958],\n",
       "         [ 2.53842615,  2.05866199],\n",
       "         [ 2.31211208,  1.06205751],\n",
       "         [ 2.31211208,  1.06205751],\n",
       "         [ 2.53842615,  2.05866199]], dtype=float64),\n",
       "  Array([[-3.05019607,  2.55802584],\n",
       "         [-0.84787822,  1.6630647 ],\n",
       "         [-2.54772977, -1.06138738],\n",
       "         [-0.84787822,  1.6630647 ],\n",
       "         [-3.05019607,  2.55802584],\n",
       "         [ 0.1929122 , -0.11466385],\n",
       "         [-0.84787822,  1.6630647 ],\n",
       "         [-2.54772977, -1.06138738],\n",
       "         [-2.54772977, -1.06138738],\n",
       "         [-0.84787822,  1.6630647 ]], dtype=float64)],\n",
       " [Array([[-3.81927359e+00, -4.76550245e-01],\n",
       "         [-3.08760389e+00, -2.12275224e-01],\n",
       "         [-3.14192816e+00,  2.69069777e-03],\n",
       "         [-3.08760389e+00, -2.12275224e-01],\n",
       "         [-3.81927359e+00, -4.76550245e-01],\n",
       "         [-3.14744313e+00,  1.98971071e-02],\n",
       "         [-3.08760389e+00, -2.12275224e-01],\n",
       "         [-3.14192816e+00,  2.69069777e-03],\n",
       "         [-3.14192816e+00,  2.69069777e-03],\n",
       "         [-3.08760389e+00, -2.12275224e-01]], dtype=float64),\n",
       "  Array([[ 3.27743301,  1.5674804 ],\n",
       "         [ 0.97402343, -2.32415359],\n",
       "         [ 3.3992492 ,  1.32404347],\n",
       "         [ 0.97402343, -2.32415359],\n",
       "         [ 3.10274243, -1.93091448],\n",
       "         [ 3.39567022,  1.15902236],\n",
       "         [ 0.97402343, -2.32415359],\n",
       "         [ 3.3992492 ,  1.32404347],\n",
       "         [ 3.3992492 ,  1.32404347],\n",
       "         [ 0.97402343, -2.32415359]], dtype=float64),\n",
       "  Array([[-1.83160687,  2.36920872],\n",
       "         [-1.05430732,  2.57423447],\n",
       "         [ 2.17189257,  0.57487559],\n",
       "         [-1.05430732,  2.57423447],\n",
       "         [-2.36749676,  1.15978433],\n",
       "         [-0.33118542,  1.53471717],\n",
       "         [-1.05430732,  2.57423447],\n",
       "         [ 2.17189257,  0.57487559],\n",
       "         [ 2.17189257,  0.57487559],\n",
       "         [-1.05430732,  2.57423447]], dtype=float64)],\n",
       " [Array([[-3.49284949, -1.57229817],\n",
       "         [-3.158606  ,  0.07056569],\n",
       "         [-3.13089568, -0.05390839],\n",
       "         [-3.158606  ,  0.07056569],\n",
       "         [-3.11109   , -0.20236405],\n",
       "         [-3.65799622, -0.60718773],\n",
       "         [-3.158606  ,  0.07056569],\n",
       "         [-3.13089568, -0.05390839],\n",
       "         [-3.13089568, -0.05390839],\n",
       "         [-3.158606  ,  0.07056569]], dtype=float64),\n",
       "  Array([[ 2.4540781 ,  0.66439585],\n",
       "         [ 2.59437944,  1.62417754],\n",
       "         [ 2.40620036, -0.13866172],\n",
       "         [ 2.59437944,  1.62417754],\n",
       "         [ 3.38111951, -1.59219471],\n",
       "         [ 1.07547406, -1.80279235],\n",
       "         [ 2.59437944,  1.62417754],\n",
       "         [ 2.40620036, -0.13866172],\n",
       "         [ 2.40620036, -0.13866172],\n",
       "         [ 2.59437944,  1.62417754]], dtype=float64),\n",
       "  Array([[-1.14784967,  1.69751443],\n",
       "         [-2.24244603,  2.26874226],\n",
       "         [-3.07056875,  0.66179381],\n",
       "         [-2.24244603,  2.26874226],\n",
       "         [-2.15051284,  1.01882429],\n",
       "         [-1.70007882,  2.43701193],\n",
       "         [-2.24244603,  2.26874226],\n",
       "         [-3.07056875,  0.66179381],\n",
       "         [-3.07056875,  0.66179381],\n",
       "         [-2.24244603,  2.26874226]], dtype=float64)]]"
      ]
     },
     "execution_count": 19,
     "metadata": {},
     "output_type": "execute_result"
    }
   ],
   "source": [
    "result.returned_params"
   ]
  },
  {
   "cell_type": "code",
   "execution_count": 20,
   "id": "050dc029",
   "metadata": {},
   "outputs": [
    {
     "name": "stdout",
     "output_type": "stream",
     "text": [
      "1000\n"
     ]
    }
   ],
   "source": [
    "print(result.iterations)"
   ]
  }
 ],
 "metadata": {
  "kernelspec": {
   "display_name": ".venv",
   "language": "python",
   "name": "python3"
  },
  "language_info": {
   "codemirror_mode": {
    "name": "ipython",
    "version": 3
   },
   "file_extension": ".py",
   "mimetype": "text/x-python",
   "name": "python",
   "nbconvert_exporter": "python",
   "pygments_lexer": "ipython3",
   "version": "3.13.7"
  }
 },
 "nbformat": 4,
 "nbformat_minor": 5
}
